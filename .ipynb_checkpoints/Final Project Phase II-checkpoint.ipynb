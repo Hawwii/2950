{
 "cells": [
  {
   "cell_type": "markdown",
   "id": "57b723df",
   "metadata": {},
   "source": [
    "# Final Project Phase II "
   ]
  },
  {
   "cell_type": "markdown",
   "id": "94a6abd3",
   "metadata": {},
   "source": [
    "## Research Question:\n",
    "**Possible Ideas**\\\n",
    "The effect of GDP, Literacy Rate, unemployment, life expectnacy, urbanization, healthcare access percentage on mental health disorders \\\n",
    "Is there a corrleation between trends across different disorders?"
   ]
  },
  {
   "cell_type": "markdown",
   "id": "6ac43b7c",
   "metadata": {},
   "source": [
    "## Data Description:\n",
    "\n",
    "Global Trends in Mental Health Disorders: https://www.kaggle.com/datasets/thedevastator/uncover-global-trends-in-mental-health-disorder\n"
   ]
  },
  {
   "cell_type": "markdown",
   "id": "8e89ec7f",
   "metadata": {},
   "source": [
    "### Import Packages"
   ]
  },
  {
   "cell_type": "code",
   "execution_count": 3,
   "id": "2f00924a",
   "metadata": {},
   "outputs": [],
   "source": [
    "import numpy as np\n",
    "import pandas as pd\n",
    "import seaborn as sns\n",
    "import matplotlib.pyplot as plt\n",
    "import duckdb"
   ]
  },
  {
   "cell_type": "markdown",
   "id": "8033906d",
   "metadata": {},
   "source": [
    "## Data Cleaning:\n",
    "**Global Mental Health Disorders**: \\\n",
    "The original dataset contained NaNs and years going back to 9000 BCE for some regions. We dropped the NaN values and limited the dataset to years between 1990 and 2017. There were additional columns that only included values for very few countries, which we eliminated since it would have given us an uneven dataset. "
   ]
  },
  {
   "cell_type": "code",
   "execution_count": 12,
   "id": "c4628e09",
   "metadata": {},
   "outputs": [
    {
     "name": "stderr",
     "output_type": "stream",
     "text": [
      "/var/folders/q0/gmnvmdrj3930x744fzx2vrqm0000gn/T/ipykernel_1709/2536041144.py:3: DtypeWarning: Columns (5,6) have mixed types. Specify dtype option on import or set low_memory=False.\n",
      "  global_mental_health_df = pd.read_csv('Mental health Depression disorder Data 2.csv')\n"
     ]
    },
    {
     "data": {
      "text/html": [
       "<div>\n",
       "<style scoped>\n",
       "    .dataframe tbody tr th:only-of-type {\n",
       "        vertical-align: middle;\n",
       "    }\n",
       "\n",
       "    .dataframe tbody tr th {\n",
       "        vertical-align: top;\n",
       "    }\n",
       "\n",
       "    .dataframe thead th {\n",
       "        text-align: right;\n",
       "    }\n",
       "</style>\n",
       "<table border=\"1\" class=\"dataframe\">\n",
       "  <thead>\n",
       "    <tr style=\"text-align: right;\">\n",
       "      <th></th>\n",
       "      <th>index</th>\n",
       "      <th>Entity</th>\n",
       "      <th>Code</th>\n",
       "      <th>Year</th>\n",
       "      <th>Schizophrenia (%)</th>\n",
       "      <th>Bipolar disorder (%)</th>\n",
       "      <th>Eating disorders (%)</th>\n",
       "      <th>Anxiety disorders (%)</th>\n",
       "      <th>Drug use disorders (%)</th>\n",
       "      <th>Depression (%)</th>\n",
       "      <th>Alcohol use disorders (%)</th>\n",
       "    </tr>\n",
       "  </thead>\n",
       "  <tbody>\n",
       "    <tr>\n",
       "      <th>0</th>\n",
       "      <td>0</td>\n",
       "      <td>Afghanistan</td>\n",
       "      <td>AFG</td>\n",
       "      <td>1990</td>\n",
       "      <td>0.16056</td>\n",
       "      <td>0.697779</td>\n",
       "      <td>0.101855</td>\n",
       "      <td>4.828830</td>\n",
       "      <td>1.677082</td>\n",
       "      <td>4.071831</td>\n",
       "      <td>0.672404</td>\n",
       "    </tr>\n",
       "    <tr>\n",
       "      <th>1</th>\n",
       "      <td>1</td>\n",
       "      <td>Afghanistan</td>\n",
       "      <td>AFG</td>\n",
       "      <td>1991</td>\n",
       "      <td>0.160312</td>\n",
       "      <td>0.697961</td>\n",
       "      <td>0.099313</td>\n",
       "      <td>4.829740</td>\n",
       "      <td>1.684746</td>\n",
       "      <td>4.079531</td>\n",
       "      <td>0.671768</td>\n",
       "    </tr>\n",
       "    <tr>\n",
       "      <th>2</th>\n",
       "      <td>2</td>\n",
       "      <td>Afghanistan</td>\n",
       "      <td>AFG</td>\n",
       "      <td>1992</td>\n",
       "      <td>0.160135</td>\n",
       "      <td>0.698107</td>\n",
       "      <td>0.096692</td>\n",
       "      <td>4.831108</td>\n",
       "      <td>1.694334</td>\n",
       "      <td>4.088358</td>\n",
       "      <td>0.670644</td>\n",
       "    </tr>\n",
       "    <tr>\n",
       "      <th>3</th>\n",
       "      <td>3</td>\n",
       "      <td>Afghanistan</td>\n",
       "      <td>AFG</td>\n",
       "      <td>1993</td>\n",
       "      <td>0.160037</td>\n",
       "      <td>0.698257</td>\n",
       "      <td>0.094336</td>\n",
       "      <td>4.830864</td>\n",
       "      <td>1.705320</td>\n",
       "      <td>4.096190</td>\n",
       "      <td>0.669738</td>\n",
       "    </tr>\n",
       "    <tr>\n",
       "      <th>4</th>\n",
       "      <td>4</td>\n",
       "      <td>Afghanistan</td>\n",
       "      <td>AFG</td>\n",
       "      <td>1994</td>\n",
       "      <td>0.160022</td>\n",
       "      <td>0.698469</td>\n",
       "      <td>0.092439</td>\n",
       "      <td>4.829423</td>\n",
       "      <td>1.716069</td>\n",
       "      <td>4.099582</td>\n",
       "      <td>0.669260</td>\n",
       "    </tr>\n",
       "  </tbody>\n",
       "</table>\n",
       "</div>"
      ],
      "text/plain": [
       "   index       Entity Code  Year Schizophrenia (%) Bipolar disorder (%)  \\\n",
       "0      0  Afghanistan  AFG  1990           0.16056             0.697779   \n",
       "1      1  Afghanistan  AFG  1991          0.160312             0.697961   \n",
       "2      2  Afghanistan  AFG  1992          0.160135             0.698107   \n",
       "3      3  Afghanistan  AFG  1993          0.160037             0.698257   \n",
       "4      4  Afghanistan  AFG  1994          0.160022             0.698469   \n",
       "\n",
       "  Eating disorders (%)  Anxiety disorders (%)  Drug use disorders (%)  \\\n",
       "0             0.101855               4.828830                1.677082   \n",
       "1             0.099313               4.829740                1.684746   \n",
       "2             0.096692               4.831108                1.694334   \n",
       "3             0.094336               4.830864                1.705320   \n",
       "4             0.092439               4.829423                1.716069   \n",
       "\n",
       "   Depression (%)  Alcohol use disorders (%)  \n",
       "0        4.071831                   0.672404  \n",
       "1        4.079531                   0.671768  \n",
       "2        4.088358                   0.670644  \n",
       "3        4.096190                   0.669738  \n",
       "4        4.099582                   0.669260  "
      ]
     },
     "execution_count": 12,
     "metadata": {},
     "output_type": "execute_result"
    }
   ],
   "source": [
    "##Read Datasets\n",
    "#global mental health\n",
    "global_mental_health_df = pd.read_csv('Mental health Depression disorder Data 2.csv')\n",
    "global_mental_health_df.head()"
   ]
  },
  {
   "cell_type": "markdown",
   "id": "e15a25c5",
   "metadata": {},
   "source": [
    "The original dataset included columns below each other such as \"Prevalence in Males\" and \"Prevalence in Females\" that included datapoints for only a few countries so we decided to drop the rows after the last instance of the last country. Additionally, some of the values in the Year column were string instances that had to be converted to numerics. "
   ]
  },
  {
   "cell_type": "code",
   "execution_count": 13,
   "id": "3b0d49bd",
   "metadata": {},
   "outputs": [],
   "source": [
    "#drop all rows after Prevalence in males & females\n",
    "global_mental_health_df = global_mental_health_df.iloc[:6468]\n",
    "\n",
    "#convert year to numeric and limit dataset to between years 1990-2017\n",
    "global_mental_health_df['Year'] = pd.to_numeric(global_mental_health_df['Year'])\n",
    "global_mental_health_df = global_mental_health_df[(global_mental_health_df['Year'] >= 1990) & (global_mental_health_df['Year'] <= 2017)]\n",
    "\n",
    "#drop rows with NaNs\n",
    "global_mental_health_df = global_mental_health_df.dropna(subset=[\"Schizophrenia (%)\", \"Bipolar disorder (%)\", \"Eating disorders (%)\", \"Anxiety disorders (%)\", \"Drug use disorders (%)\", \"Depression (%)\", \\\n",
    "                                                                \"Alcohol use disorders (%)\"])"
   ]
  },
  {
   "cell_type": "markdown",
   "id": "0a9fb8b1",
   "metadata": {},
   "source": [
    "### Life Expectancy, GDP, Population Data Import and Cleaning\n",
    "Link to Dataset: https://www.kaggle.com/datasets/kumarajarshi/life-expectancy-who \\\n",
    "The original purpose of this dataset was compiled to predict for life expectancy and included many additional variables such as additional diseases, including Hepatitis B, measels, infant deaths. Before importing the csv file, We manually altered the file by deleting the columns that included the diseases and left only the life expectancy, adult and infant mortality rates, GDP, and Population data. "
   ]
  },
  {
   "cell_type": "code",
   "execution_count": 11,
   "id": "175cb0a9",
   "metadata": {},
   "outputs": [
    {
     "data": {
      "text/html": [
       "<div>\n",
       "<style scoped>\n",
       "    .dataframe tbody tr th:only-of-type {\n",
       "        vertical-align: middle;\n",
       "    }\n",
       "\n",
       "    .dataframe tbody tr th {\n",
       "        vertical-align: top;\n",
       "    }\n",
       "\n",
       "    .dataframe thead th {\n",
       "        text-align: right;\n",
       "    }\n",
       "</style>\n",
       "<table border=\"1\" class=\"dataframe\">\n",
       "  <thead>\n",
       "    <tr style=\"text-align: right;\">\n",
       "      <th></th>\n",
       "      <th>Country</th>\n",
       "      <th>Year</th>\n",
       "      <th>Status</th>\n",
       "      <th>Life expectancy</th>\n",
       "      <th>Adult Mortality (ages 15-60 per 1000)</th>\n",
       "      <th>infant deaths (per 10000</th>\n",
       "      <th>GDP</th>\n",
       "      <th>Population</th>\n",
       "    </tr>\n",
       "  </thead>\n",
       "  <tbody>\n",
       "    <tr>\n",
       "      <th>0</th>\n",
       "      <td>Afghanistan</td>\n",
       "      <td>2015</td>\n",
       "      <td>Developing</td>\n",
       "      <td>65.0</td>\n",
       "      <td>263.0</td>\n",
       "      <td>62</td>\n",
       "      <td>584.259210</td>\n",
       "      <td>33736494.0</td>\n",
       "    </tr>\n",
       "    <tr>\n",
       "      <th>1</th>\n",
       "      <td>Afghanistan</td>\n",
       "      <td>2014</td>\n",
       "      <td>Developing</td>\n",
       "      <td>59.9</td>\n",
       "      <td>271.0</td>\n",
       "      <td>64</td>\n",
       "      <td>612.696514</td>\n",
       "      <td>327582.0</td>\n",
       "    </tr>\n",
       "    <tr>\n",
       "      <th>2</th>\n",
       "      <td>Afghanistan</td>\n",
       "      <td>2013</td>\n",
       "      <td>Developing</td>\n",
       "      <td>59.9</td>\n",
       "      <td>268.0</td>\n",
       "      <td>66</td>\n",
       "      <td>631.744976</td>\n",
       "      <td>31731688.0</td>\n",
       "    </tr>\n",
       "    <tr>\n",
       "      <th>3</th>\n",
       "      <td>Afghanistan</td>\n",
       "      <td>2012</td>\n",
       "      <td>Developing</td>\n",
       "      <td>59.5</td>\n",
       "      <td>272.0</td>\n",
       "      <td>69</td>\n",
       "      <td>669.959000</td>\n",
       "      <td>3696958.0</td>\n",
       "    </tr>\n",
       "    <tr>\n",
       "      <th>4</th>\n",
       "      <td>Afghanistan</td>\n",
       "      <td>2011</td>\n",
       "      <td>Developing</td>\n",
       "      <td>59.2</td>\n",
       "      <td>275.0</td>\n",
       "      <td>71</td>\n",
       "      <td>63.537231</td>\n",
       "      <td>2978599.0</td>\n",
       "    </tr>\n",
       "  </tbody>\n",
       "</table>\n",
       "</div>"
      ],
      "text/plain": [
       "       Country  Year      Status  Life expectancy   \\\n",
       "0  Afghanistan  2015  Developing              65.0   \n",
       "1  Afghanistan  2014  Developing              59.9   \n",
       "2  Afghanistan  2013  Developing              59.9   \n",
       "3  Afghanistan  2012  Developing              59.5   \n",
       "4  Afghanistan  2011  Developing              59.2   \n",
       "\n",
       "   Adult Mortality (ages 15-60 per 1000)  infant deaths (per 10000  \\\n",
       "0                                  263.0                        62   \n",
       "1                                  271.0                        64   \n",
       "2                                  268.0                        66   \n",
       "3                                  272.0                        69   \n",
       "4                                  275.0                        71   \n",
       "\n",
       "          GDP  Population  \n",
       "0  584.259210  33736494.0  \n",
       "1  612.696514    327582.0  \n",
       "2  631.744976  31731688.0  \n",
       "3  669.959000   3696958.0  \n",
       "4   63.537231   2978599.0  "
      ]
     },
     "execution_count": 11,
     "metadata": {},
     "output_type": "execute_result"
    }
   ],
   "source": [
    "#load in life expectancy data\n",
    "life_expectancy_df = pd.read_csv('Life Expectancy Data.csv')\n",
    "life_expectancy_df.head()"
   ]
  },
  {
   "cell_type": "markdown",
   "id": "743fd0a1",
   "metadata": {},
   "source": [
    "### HDI "
   ]
  },
  {
   "cell_type": "code",
   "execution_count": 14,
   "id": "fddca5d0",
   "metadata": {},
   "outputs": [],
   "source": [
    "#Import literacy rate data\n",
    "\n",
    "#Data Cleaning"
   ]
  },
  {
   "cell_type": "markdown",
   "id": "6592397e",
   "metadata": {},
   "source": [
    "### Urbanization Rate"
   ]
  },
  {
   "cell_type": "code",
   "execution_count": null,
   "id": "8a651591",
   "metadata": {},
   "outputs": [],
   "source": [
    "#Import Urbanization Rate data\n",
    "\n",
    "#Data Cleaning"
   ]
  },
  {
   "cell_type": "markdown",
   "id": "92bbc528",
   "metadata": {},
   "source": [
    "### Unemployment Rate"
   ]
  },
  {
   "cell_type": "code",
   "execution_count": 15,
   "id": "03cda876",
   "metadata": {},
   "outputs": [],
   "source": [
    "#Import Unemployment Rate data\n",
    "\n",
    "#Data Cleaning"
   ]
  },
  {
   "cell_type": "markdown",
   "id": "04882577",
   "metadata": {},
   "source": [
    "## Exploratory Data Analysis"
   ]
  },
  {
   "cell_type": "markdown",
   "id": "b3983e03",
   "metadata": {},
   "source": [
    "## Data Limitations\n",
    "The global mental health disorders dataset contains categories that may overlap, since mental health disorders are not mutually exclusive. For instance, people with anxiety can also have depression. "
   ]
  },
  {
   "cell_type": "code",
   "execution_count": null,
   "id": "1b0a0c63",
   "metadata": {},
   "outputs": [],
   "source": [
    "#Creates a line chart grouped by country for each disease across time\n",
    "def line_plot(df, country):\n",
    "    country_df = df[df['Entity'] == country]\n",
    "    \n",
    "    for column in df.columns[4:]:\n",
    "        plt.plot(country_df['Year'], country_df[column], label=column)\n",
    "\n",
    "    plt.xlabel('Year')\n",
    "    plt.ylabel('Percent Affected')\n",
    "    plt.title(f'Time Series of Mental Disorders in {country}')\n",
    "    plt.legend(loc='best')\n",
    "    plt.grid()\n",
    "    plt.show()"
   ]
  },
  {
   "cell_type": "code",
   "execution_count": null,
   "id": "18fa5a72",
   "metadata": {},
   "outputs": [],
   "source": [
    "line_plot(global_mental_health_df, 'Albania')\n",
    "line_plot(global_mental_health_df, 'France')"
   ]
  },
  {
   "cell_type": "code",
   "execution_count": null,
   "id": "ac7688d2",
   "metadata": {},
   "outputs": [],
   "source": [
    "#Create a line chart that groups by mental disorders across different countries\n",
    "def line_plot(df, disorder):\n",
    "    country_df = df[df.column == disorder]\n",
    "    \n",
    "    for column in df.columns[4:]:\n",
    "        plt.plot(country_df['Year'], country_df[column], label=column)\n",
    "\n",
    "    plt.xlabel('Year')\n",
    "    plt.ylabel('Percent Affected')\n",
    "    plt.title('Time Series of Mental Disorders')\n",
    "    plt.legend(loc='best')  # Add a legend\n",
    "    plt.grid(True)\n",
    "    plt.show()"
   ]
  },
  {
   "cell_type": "code",
   "execution_count": null,
   "id": "6af89297",
   "metadata": {},
   "outputs": [],
   "source": [
    "line_plot(global_mental_health_df, 'Albania')"
   ]
  }
 ],
 "metadata": {
  "kernelspec": {
   "display_name": "Python 3 (ipykernel)",
   "language": "python",
   "name": "python3"
  },
  "language_info": {
   "codemirror_mode": {
    "name": "ipython",
    "version": 3
   },
   "file_extension": ".py",
   "mimetype": "text/x-python",
   "name": "python",
   "nbconvert_exporter": "python",
   "pygments_lexer": "ipython3",
   "version": "3.8.17"
  }
 },
 "nbformat": 4,
 "nbformat_minor": 5
}
