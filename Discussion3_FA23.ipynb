{
 "cells": [
  {
   "cell_type": "markdown",
   "metadata": {
    "id": "TxU6oSJx7639"
   },
   "source": [
    "# INFO 2950 Discussion Week 3\n",
    "\n",
    "For our group time on Friday we will be going through a tutorial on web scraping together.\n",
    "\n",
    "**Make sure to complete and save this notebook before next Friday's section!** We will use the completed version for an activity on pushing to GitHub next week.\n",
    "\n",
    "\n"
   ]
  },
  {
   "cell_type": "markdown",
   "metadata": {
    "id": "-34StO4VWhP6"
   },
   "source": [
    "## What is web scraping?\n",
    "\n",
    "Web scraping is the process of creating structured data frames readable by computers from less-structured web pages that are intended to be read by humans.\n",
    "\n",
    "## Do you need to scrape?\n",
    "\n",
    "Scraping is difficult, error-prone, and may get you in legal or ethical trouble. Always check if the information you are seeking already exists in a nicer format. Many companies also have APIs or other infrastructure dedicated to serving automated requests.\n",
    "\n",
    "## Ethics of scraping\n",
    "\n",
    "Scraping is the aspect of data science most likely to get you into trouble. Legally, there are two main concerns: copyright violation if you are making copies of content that is protected by copyright, and terms-of-service violation. Many sites will also attempt to block scrapers. Acting to avoid these blocks may constitute hacking.\n",
    "\n",
    "In addition to legal problems, there are ethical problems.\n",
    "\n",
    "* Respect other people's hard work. Collecting information for a cool website is difficult and takes a long time and careful preparation. Is it fair to take all that work and use it for your purposes?\n",
    "* Respect other people's businesses. People feed their families by collecting and sharing information, for example through ad revenue. They may be unhappy if they think you are trying to steal their work and prevent them from monetizing it. Websites also sometimes pay for bandwidth and cloud services, and you don't want to take up all their resources for purposes that provide no revenue.\n",
    "* Respect other people's audiences. Don't [DDOS](https://en.wikipedia.org/wiki/Denial-of-service_attack) a website! Keep requests spaced to about 2/second at most. Web hits don't take a lot of resources, but it's easy to flood a site with requests, locking others out.\n",
    "\n",
    "## Process\n",
    "\n",
    "Find a page that contains the info you want. Some older pages are static, but most of what you will see today are views of databases. For example, Amazon has a database of products, Letterboxd has a database of movies, and Netflix has a database of shows. Each page either lists entities in the database or gives information about specific entities.\n",
    "\n",
    "You would prefer to get access directly to the database, and in some cases you can. But for whatever reason sometimes the web page is all you can get. This process can be difficult because web pages are optimized for people to look at, not for computers to operate on. But it is simpler because in this case a computer has to generate a page *from* a database record and a web browser has to know how to display the elements on the page so that humans can read them. These constraints mean that there are regularities in how specific pieces of information are shown in  HTML, and if you can figure them out, you can reverse the page generation process and get back to something that looks more like a database.\n",
    "\n",
    "How do you know which pages to get? Often an index or search result page leads to individual pages with more detailed information.\n",
    "\n",
    "\n",
    "### Web scraping in Python\n",
    "\n",
    "The [`requests`](https://requests.readthedocs.io/en/latest/) library allows you to download files from the web. It is much easier to use than `urllib`. You can use the `requests` library to get information from web pages so that you can save them to files or analyze their data in python.\n",
    "\n",
    "After using `requests` to access web data, you'll use [Beautiful Soup](https://www.crummy.com/software/BeautifulSoup/bs4/doc/) to parse that information, organized in HTML. `BeautifulSoup` makes querying a tree of tags and their attributes much easier than trying to parse HTML from scratch. You'll need to spend some time looking at the target web page and finding the combination of tag names and classes you're interested in, but `BeautifulSoup` can help access that information once you know what you need.\n",
    "\n",
    "\n",
    "\n",
    "## Installation\n",
    "As usual, to use these new modules you'll need to first **install `BeautifulSoup` and `requests` to your virtual environment for this class**. Only once you've completed that process can successfully you run the next cell of code to load in `requests`, `BeautifulSoup`, and other modules.\n",
    "\n",
    "\n",
    "\n"
   ]
  },
  {
   "cell_type": "code",
   "execution_count": 3,
   "metadata": {
    "id": "KIQy8gAoHZ9_"
   },
   "outputs": [],
   "source": [
    "import requests\n",
    "from bs4 import BeautifulSoup\n",
    "\n",
    "import pandas as pd\n",
    "import numpy as np\n",
    "import time\n"
   ]
  },
  {
   "cell_type": "markdown",
   "metadata": {
    "id": "FlYjVsZA3j__"
   },
   "source": [
    "## In-session Example: Cornell University Website\n",
    "\n",
    "The TA will show you [this page about Cornell University](https://www.cornell.edu/about/). This webpage has information about Cornell, including general statistics about number of students, different campus locations, and many links to other Cornell pages.\n",
    "\n",
    "## Viewing HTML\n",
    "Take a look at the HTML of the page. You can view this in a couple of different ways:\n",
    "\n",
    "*   Right click > \"View Page Source\"\n",
    "*   Right click > \"Inspect\"\n",
    "\n",
    "**What differences do you notice between the two HTML views?**\n",
    "\n"
   ]
  },
  {
   "cell_type": "markdown",
   "metadata": {
    "id": "CyAS5Km3KgYI"
   },
   "source": [
    "Today, our goal is to collect and organize various stats about Cornell.\n",
    "\n",
    "We need to put together clues from the structure of the page and the appearance of elements on the page. Appearance is usually determined by the CSS `style` property. Figuring out how to automatically find values from HTML will involve looking at HTML source, ^F searching for values that you want, and figuring out how to identify styles or containing elements. Modern web pages are long and have lots of complicated elements, many of which do not appear as visible content. Starting from the top of the document and reading through is not recommended.\n",
    "\n",
    "You will scrape information from cached copies of \"About Cornell\" pages. These are locally hosted so we don't have hundreds of students hitting Cornell's website at the same time. They probably wouldn't notice, but it's more responsible to keep it local.\n"
   ]
  },
  {
   "cell_type": "code",
   "execution_count": 2,
   "metadata": {
    "id": "EBJxOwcm1Og2"
   },
   "outputs": [],
   "source": [
    "cornell_url = \"https://koenecke.infosci.cornell.edu/files/info2950/About%20Cornell%20University.html\""
   ]
  },
  {
   "cell_type": "markdown",
   "metadata": {
    "id": "KVga8D7A8nHc"
   },
   "source": [
    "The following code does a `GET` request to the web host for the specified filename. HTTP is the protocol used to make web requests. It has a series of \"status codes\" that tell you the result of request. 200 is success. Others you have probably seen: 404 is \"page not found\", 403 is \"you do not have access\". Codes starting with 3-- are often redirects. 500 means there is a bug in the server-side code."
   ]
  },
  {
   "cell_type": "code",
   "execution_count": 6,
   "metadata": {
    "id": "iKMoioQN1PrE"
   },
   "outputs": [],
   "source": [
    "cornell_result = requests.get(cornell_url)\n",
    "if cornell_result.status_code != 200:\n",
    "  print(\"something went wrong:\", cornell_result.status_code, cornell_result.reason)"
   ]
  },
  {
   "cell_type": "markdown",
   "metadata": {
    "id": "s7toLvE68qF5"
   },
   "source": [
    "You're never going to get the analysis of a web page right the first time, so it's good to save a local copy of the HTML source so we don't need to hit the server again."
   ]
  },
  {
   "cell_type": "code",
   "execution_count": 7,
   "metadata": {
    "id": "T--49WBb1Vch"
   },
   "outputs": [],
   "source": [
    "with open(\"cornell_about.html\", \"w\") as writer:\n",
    "  writer.write(cornell_result.text)"
   ]
  },
  {
   "cell_type": "markdown",
   "metadata": {
    "id": "VYSfu-898tcc"
   },
   "source": [
    "Here we're immediately reading the file again, but you could split these into two separate notebooks, one for downloading, one for analysis."
   ]
  },
  {
   "cell_type": "code",
   "execution_count": 8,
   "metadata": {
    "id": "OsuOFDfB1Zxc"
   },
   "outputs": [],
   "source": [
    "with open(\"cornell_about.html\", \"r\") as reader:\n",
    "  html_source = reader.read()"
   ]
  },
  {
   "cell_type": "markdown",
   "metadata": {
    "id": "WCQTpxKf8xbQ"
   },
   "source": [
    "There are a lot of things that can go wrong when you are accessing web documents. Get in the habit of constantly adding confidence checks to make sure the state of variables is what you expect it to be."
   ]
  },
  {
   "cell_type": "code",
   "execution_count": 9,
   "metadata": {
    "colab": {
     "base_uri": "https://localhost:8080/",
     "height": 35
    },
    "id": "K3a1nh1p1gGy",
    "outputId": "4938fb12-e7e4-4c56-c326-fe499b4c0407"
   },
   "outputs": [
    {
     "data": {
      "text/plain": [
       "'<!DOCTYPE html>\\n<htm'"
      ]
     },
     "execution_count": 9,
     "metadata": {},
     "output_type": "execute_result"
    }
   ],
   "source": [
    "# Make sure this worked\n",
    "html_source[:20]"
   ]
  },
  {
   "cell_type": "markdown",
   "metadata": {
    "id": "8e0HyLsI80rh"
   },
   "source": [
    "Here's where we turn the HTML text from a single long string into a searchable tree of tags. `BeautifulSoup` can support different ways of parsing (including XML). Here we'll use an HTML parser."
   ]
  },
  {
   "cell_type": "code",
   "execution_count": 10,
   "metadata": {
    "id": "dG_c_myU1h-7"
   },
   "outputs": [],
   "source": [
    "page = BeautifulSoup(html_source, \"html.parser\")"
   ]
  },
  {
   "cell_type": "markdown",
   "metadata": {
    "id": "t12d_OJf9Iq4"
   },
   "source": [
    "Now that we have a structured document we can ask for specific tags. See the Beautiful Soup documentation linked at the top for more details."
   ]
  },
  {
   "cell_type": "code",
   "execution_count": 11,
   "metadata": {
    "colab": {
     "base_uri": "https://localhost:8080/"
    },
    "id": "FD9w7WBE1j4X",
    "outputId": "5f5eee2a-8ef3-4f67-dbf9-95ac6dd360a6"
   },
   "outputs": [
    {
     "data": {
      "text/plain": [
       "<title>About | Cornell University</title>"
      ]
     },
     "execution_count": 11,
     "metadata": {},
     "output_type": "execute_result"
    }
   ],
   "source": [
    "page.title"
   ]
  },
  {
   "cell_type": "markdown",
   "metadata": {
    "id": "SRj_xxyv_fRp"
   },
   "source": [
    "If you want just the text between the HTML tags, you can use `.text`."
   ]
  },
  {
   "cell_type": "code",
   "execution_count": 12,
   "metadata": {
    "colab": {
     "base_uri": "https://localhost:8080/",
     "height": 35
    },
    "id": "pQdpwDP5_cAU",
    "outputId": "5f96554e-db26-43c5-da15-eb577ff3a14c"
   },
   "outputs": [
    {
     "data": {
      "text/plain": [
       "'About | Cornell University'"
      ]
     },
     "execution_count": 12,
     "metadata": {},
     "output_type": "execute_result"
    }
   ],
   "source": [
    "page.title.text"
   ]
  },
  {
   "cell_type": "markdown",
   "metadata": {
    "id": "TPYxP0Cw9A9g"
   },
   "source": [
    "We can also find all of the instances of a given tag. Since this \"About Cornell\" page seems like more of a landing page, pointing to other resources, we want to use the links on this page to get us to that other linked information. What happens if we ask for all the `a` tags, which [defines a hyperlink](https://www.w3schools.com/tags/tag_a.asp)?"
   ]
  },
  {
   "cell_type": "code",
   "execution_count": 13,
   "metadata": {
    "colab": {
     "base_uri": "https://localhost:8080/"
    },
    "id": "TxUmldHs1mA2",
    "outputId": "12e08e96-ae4b-42a8-94ac-3cbdca8d9d42"
   },
   "outputs": [
    {
     "name": "stdout",
     "output_type": "stream",
     "text": [
      "there are 180 links on the page\n"
     ]
    },
    {
     "data": {
      "text/plain": [
       "[<a href=\"https://www.cornell.edu/about/\">https://www.cornell.edu/about/</a>,\n",
       " <a href=\"https://www.cornell.edu/about/\">current page</a>,\n",
       " <a href=\"http://support.google.com/websearch/bin/answer.py?hl=en&amp;p=cached&amp;answer=1687222\"><span>Learn more</span>.</a>,\n",
       " <a href=\"http://webcache.googleusercontent.com/search?q=cache:FwQY78IHD64J:https://www.cornell.edu/about/&amp;sca_esv=562865996&amp;hl=en&amp;gl=us&amp;strip=1&amp;vwsrc=0\"><span>Text-only version</span></a>,\n",
       " <a href=\"http://webcache.googleusercontent.com/search?q=cache:FwQY78IHD64J:https://www.cornell.edu/about/&amp;sca_esv=562865996&amp;hl=en&amp;gl=us&amp;strip=0&amp;vwsrc=1\"><span>View source</span></a>,\n",
       " <a data-click-action=\"skip to content\" data-click-category=\"header\" href=\"#main\" tabindex=\"1\">Skip to content</a>,\n",
       " <a data-click-action=\"home\" data-click-category=\"header\" href=\"https://www.cornell.edu/\" id=\"cu-brand\" title=\"Cornell.edu Homepage\">\n",
       " <div class=\"cu-logotype\">Cornell University</div>\n",
       " </a>,\n",
       " <a class=\"menu-item\" data-click-label=\"About Cornell\" href=\"https://www.cornell.edu/about\">About Cornell</a>,\n",
       " <a aria-expanded=\"false\" aria-label=\"toggle the About Cornell sub-menu\" class=\"submenu-trigger\" data-click-label=\"About Cornell\" href=\"https://www.cornell.edu/about\"><span class=\"off-screen\">About Cornell</span></a>,\n",
       " <a data-click-label=\"Overview\" href=\"https://www.cornell.edu/about/\">\n",
       " <img alt=\"blue sky over the Arts Quad\" aria-hidden=\"true\" class=\"image-replace\" data-src=\"https://www.cornell.edu/assets/core/images/nav-overview-about.jpg\" src=\"About%20Cornell%20University_files/nav-overview-about.jpg\"/>\n",
       " <span>Overview</span>\n",
       " </a>,\n",
       " <a data-click-label=\"Cornell History\" href=\"https://www.cornell.edu/about/timeline/\">Cornell History</a>,\n",
       " <a data-click-label=\"Maps &amp; Directions\" href=\"https://www.cornell.edu/about/maps/\">Maps &amp; Directions</a>,\n",
       " <a data-click-label=\"Mission\" href=\"https://www.cornell.edu/about/mission.cfm\">Mission &amp; Vision</a>,\n",
       " <a data-click-label=\"Values\" href=\"https://www.cornell.edu/about/values.cfm\">Core Values</a>,\n",
       " <a data-click-label=\"Locations\" href=\"https://www.cornell.edu/about/locations/\">Locations</a>,\n",
       " <a data-click-label=\"Ithaca\" href=\"https://www.cornell.edu/about/locations/ithaca/\">Ithaca</a>,\n",
       " <a data-click-label=\"New York City\" href=\"https://www.cornell.edu/about/locations/nyc/\">New York City</a>,\n",
       " <a aria-label=\"Diversity at Cornell\" data-click-label=\"Diversity\" href=\"https://diversity.cornell.edu/\">Diversity</a>,\n",
       " <a aria-label=\"Indigenous Engagement: Commitment to North American Indigenous Nations and Communities\" data-click-label=\"Indigenous\" href=\"https://indigenous.cornell.edu/\">Indigenous Engagement</a>,\n",
       " <a data-click-label=\"Economic Impact\" href=\"https://economicimpact.cornell.edu/\">Economic Impact</a>]"
      ]
     },
     "execution_count": 13,
     "metadata": {},
     "output_type": "execute_result"
    }
   ],
   "source": [
    "links = page.find_all(\"a\")\n",
    "print(\"there are\", len(links), \"links on the page\")\n",
    "links[:20]"
   ]
  },
  {
   "cell_type": "markdown",
   "metadata": {
    "id": "KZBQzVbH9M9P"
   },
   "source": [
    "Whoa, that's too much! And most of these links seem to be navigation links in header menus.\n",
    "\n",
    "Let's be more specific. Viewing the source, we can search for an interesting string (like \"Facts about Cornell\") and look at the HTML around it.\n",
    "\n",
    "Inspecting the HTML we find that `a` tags can be associated with a number of class styles. The class style for \"Facts about Cornell\" is `link-caret`. Here's how to find all of the `a` tags with this style:"
   ]
  },
  {
   "cell_type": "code",
   "execution_count": 14,
   "metadata": {
    "colab": {
     "base_uri": "https://localhost:8080/"
    },
    "id": "0NcYr_2f1t4L",
    "outputId": "785e3bd0-f7a9-4b9f-8c43-587205216860"
   },
   "outputs": [
    {
     "name": "stdout",
     "output_type": "stream",
     "text": [
      "[<a class=\"link-caret\" href=\"https://www.cornell.edu/about/locations.cfm\" title=\"Cornell around the globe\">\n",
      "  See All Locations\n",
      "</a>, <a class=\"link-caret\" href=\"https://irp.dpb.cornell.edu/university-factbook\" title=\"Facts about Cornell\">\n",
      "  See All University Facts\n",
      "</a>, <a class=\"link-caret\" href=\"https://www.cornell.edu/about/timeline/\" title=\"Cornell's Historical Timeline\">\n",
      "  Explore Cornell's History\n",
      "</a>]\n"
     ]
    }
   ],
   "source": [
    "link_carets = page.find_all(\"a\", {\"class\":\"link-caret\"})\n",
    "print(link_carets)"
   ]
  },
  {
   "cell_type": "markdown",
   "metadata": {
    "id": "yWoAxkMF91Dk"
   },
   "source": [
    "Once we find a tag, we can also access attributes of the tag, like the URL target of a link (`href`) or the text contained within the tag (`.text`)."
   ]
  },
  {
   "cell_type": "code",
   "execution_count": 15,
   "metadata": {
    "colab": {
     "base_uri": "https://localhost:8080/"
    },
    "id": "yGqZLu4F1v0R",
    "outputId": "402e05f5-f2aa-43ad-bdb0-f3c7efd5b0a1"
   },
   "outputs": [
    {
     "name": "stdout",
     "output_type": "stream",
     "text": [
      "\n",
      "  See All Locations\n",
      " https://www.cornell.edu/about/locations.cfm\n",
      "\n",
      "  See All University Facts\n",
      " https://irp.dpb.cornell.edu/university-factbook\n",
      "\n",
      "  Explore Cornell's History\n",
      " https://www.cornell.edu/about/timeline/\n"
     ]
    }
   ],
   "source": [
    "for link in link_carets:\n",
    "  print(link.text, link[\"href\"])"
   ]
  },
  {
   "cell_type": "markdown",
   "metadata": {
    "id": "9diPMwaL9390"
   },
   "source": [
    "## Organizing structured data\n",
    "Now, we want to collect different stats and facts about Cornell, so the table on the right side with \"Quick Facts\" seems like a great place to start. **Our goal is to recreate the \"Quick Facts\" table as a pandas dataframe.**\n",
    "\n",
    "Remember, instead of reading the HTML from start to bottom, use ^F to search for the text \"Undergraduate Students\" (for example).\n",
    "\n",
    "While there are different ways of collecting this tag, you really want to keep the name of the fact and its value together. For this reason, let's collect the list element as a singular unit (with tag `li` and the `stat` class style)."
   ]
  },
  {
   "cell_type": "code",
   "execution_count": 16,
   "metadata": {
    "colab": {
     "base_uri": "https://localhost:8080/"
    },
    "id": "H6wlMDuE1z7D",
    "outputId": "c78299eb-6343-4d94-fea6-78f04bdd48d3"
   },
   "outputs": [
    {
     "name": "stdout",
     "output_type": "stream",
     "text": [
      "6\n"
     ]
    }
   ],
   "source": [
    "cornell_stats = page.find_all(\"li\", {\"class\": \"stat\"})\n",
    "print(len(cornell_stats))"
   ]
  },
  {
   "cell_type": "markdown",
   "metadata": {
    "id": "MxFI-81hDCNR"
   },
   "source": [
    "Now that we have a list of every `li` (list item) with the `stat` class, we can extract the values of the list. Let's start with the first item in this new list:"
   ]
  },
  {
   "cell_type": "code",
   "execution_count": 17,
   "metadata": {
    "colab": {
     "base_uri": "https://localhost:8080/"
    },
    "id": "JuUevyy8DbJO",
    "outputId": "71c8483d-43b5-4e25-9aa7-5aecaff81af4"
   },
   "outputs": [
    {
     "name": "stdout",
     "output_type": "stream",
     "text": [
      "\n",
      "        Undergraduate Students\n",
      "      \n",
      "\n",
      "         15,735\n",
      "       \n"
     ]
    }
   ],
   "source": [
    "print(cornell_stats[0].find(\"div\", {\"class\": \"stat-label\"}).text)\n",
    "print(cornell_stats[0].find(\"div\", {\"class\": \"stat-value\"}).text)"
   ]
  },
  {
   "cell_type": "markdown",
   "metadata": {
    "id": "SUI58jBkDfjG"
   },
   "source": [
    "What's with all that whitespace? You can strip the extra whitespace with `.strip()`."
   ]
  },
  {
   "cell_type": "code",
   "execution_count": 18,
   "metadata": {
    "colab": {
     "base_uri": "https://localhost:8080/"
    },
    "id": "VoyR2jGH2RF7",
    "outputId": "53cfe85d-b306-4126-ca8a-ed4c8543a919"
   },
   "outputs": [
    {
     "name": "stdout",
     "output_type": "stream",
     "text": [
      "Undergraduate Students\n",
      "15,735\n"
     ]
    }
   ],
   "source": [
    "print(cornell_stats[0].find(\"div\", {\"class\": \"stat-label\"}).text.strip())\n",
    "print(cornell_stats[0].find(\"div\", {\"class\": \"stat-value\"}).text.strip())"
   ]
  },
  {
   "cell_type": "markdown",
   "metadata": {
    "id": "NWlLu9ebDOOI"
   },
   "source": [
    "Much better! Now, we can use a loop to extract the label and value from each list item."
   ]
  },
  {
   "cell_type": "code",
   "execution_count": 19,
   "metadata": {
    "colab": {
     "base_uri": "https://localhost:8080/"
    },
    "id": "dYbgOxdW13CQ",
    "outputId": "109fc2f5-37ae-4e58-932f-1f71052562b5"
   },
   "outputs": [
    {
     "name": "stdout",
     "output_type": "stream",
     "text": [
      "Undergraduate Students\n",
      "15,735\n",
      "Graduate Students\n",
      "10,163\n",
      "Faculty\n",
      "2,864\n",
      "Nobel Laureates\n",
      "50\n",
      "Colleges and Schools\n",
      "17\n",
      "undergraduate grant aid (FY23)\n",
      "$407M\n"
     ]
    }
   ],
   "source": [
    "for html_stat in cornell_stats:\n",
    "  print(html_stat.find(\"div\", {\"class\": \"stat-label\"}).text.strip())\n",
    "  print(html_stat.find(\"div\", {\"class\": \"stat-value\"}).text.strip())"
   ]
  },
  {
   "cell_type": "markdown",
   "metadata": {
    "id": "BYfFnvBxDs6e"
   },
   "source": [
    "In reality, you probably don't just want to print these items. You want to store them! Let's use **list comprehension** to create two lists, `labels_l` and `value_l`."
   ]
  },
  {
   "cell_type": "code",
   "execution_count": 20,
   "metadata": {
    "id": "T0S-y8Oa2jRw"
   },
   "outputs": [],
   "source": [
    "label_l = [stat.find(\"div\", {\"class\": \"stat-label\"}).text.strip() for stat in cornell_stats]\n",
    "value_l = [stat.find(\"div\", {\"class\": \"stat-value\"}).text.strip() for stat in cornell_stats]"
   ]
  },
  {
   "cell_type": "markdown",
   "metadata": {
    "id": "20B42tLXD30j"
   },
   "source": [
    "Now, we can store this as a dataframe."
   ]
  },
  {
   "cell_type": "code",
   "execution_count": 21,
   "metadata": {
    "id": "Sui4GiCs2z-w"
   },
   "outputs": [],
   "source": [
    "data = {'Label':label_l, 'Stat':value_l}\n",
    "cornell_df = pd.DataFrame(data)"
   ]
  },
  {
   "cell_type": "code",
   "execution_count": 22,
   "metadata": {
    "colab": {
     "base_uri": "https://localhost:8080/",
     "height": 238
    },
    "id": "4Z1m6LCn29aH",
    "outputId": "86f84b6d-c0c7-4251-be12-3be1745c070e"
   },
   "outputs": [
    {
     "data": {
      "text/html": [
       "<div>\n",
       "<style scoped>\n",
       "    .dataframe tbody tr th:only-of-type {\n",
       "        vertical-align: middle;\n",
       "    }\n",
       "\n",
       "    .dataframe tbody tr th {\n",
       "        vertical-align: top;\n",
       "    }\n",
       "\n",
       "    .dataframe thead th {\n",
       "        text-align: right;\n",
       "    }\n",
       "</style>\n",
       "<table border=\"1\" class=\"dataframe\">\n",
       "  <thead>\n",
       "    <tr style=\"text-align: right;\">\n",
       "      <th></th>\n",
       "      <th>Label</th>\n",
       "      <th>Stat</th>\n",
       "    </tr>\n",
       "  </thead>\n",
       "  <tbody>\n",
       "    <tr>\n",
       "      <th>0</th>\n",
       "      <td>Undergraduate Students</td>\n",
       "      <td>15,735</td>\n",
       "    </tr>\n",
       "    <tr>\n",
       "      <th>1</th>\n",
       "      <td>Graduate Students</td>\n",
       "      <td>10,163</td>\n",
       "    </tr>\n",
       "    <tr>\n",
       "      <th>2</th>\n",
       "      <td>Faculty</td>\n",
       "      <td>2,864</td>\n",
       "    </tr>\n",
       "    <tr>\n",
       "      <th>3</th>\n",
       "      <td>Nobel Laureates</td>\n",
       "      <td>50</td>\n",
       "    </tr>\n",
       "    <tr>\n",
       "      <th>4</th>\n",
       "      <td>Colleges and Schools</td>\n",
       "      <td>17</td>\n",
       "    </tr>\n",
       "    <tr>\n",
       "      <th>5</th>\n",
       "      <td>undergraduate grant aid (FY23)</td>\n",
       "      <td>$407M</td>\n",
       "    </tr>\n",
       "  </tbody>\n",
       "</table>\n",
       "</div>"
      ],
      "text/plain": [
       "                            Label    Stat\n",
       "0          Undergraduate Students  15,735\n",
       "1               Graduate Students  10,163\n",
       "2                         Faculty   2,864\n",
       "3                 Nobel Laureates      50\n",
       "4            Colleges and Schools      17\n",
       "5  undergraduate grant aid (FY23)   $407M"
      ]
     },
     "execution_count": 22,
     "metadata": {},
     "output_type": "execute_result"
    }
   ],
   "source": [
    "cornell_df"
   ]
  },
  {
   "cell_type": "markdown",
   "metadata": {},
   "source": [
    "**Is there any other data cleaning you'd do to this dataframe if you wanted to use it for data science?**"
   ]
  },
  {
   "cell_type": "markdown",
   "metadata": {
    "id": "TvZdPQnG2yZp"
   },
   "source": [
    "## Collecting text\n",
    "Often, when you're scraping a website you aren't just collecting headers and tables. You're also collecting text! Now, you're going to collect the text below \"Our Profile.\" Use ^F to find the first sentence in the HTML.\n",
    "\n",
    "You should find that the text is in a `p` tag below a `div` tag. **What class would you use to extract this `div` tag?**"
   ]
  },
  {
   "cell_type": "code",
   "execution_count": 24,
   "metadata": {
    "colab": {
     "base_uri": "https://localhost:8080/"
    },
    "id": "VdPJcRtD15vH",
    "outputId": "92699824-00ed-438c-fb79-017de4c6c3e4"
   },
   "outputs": [
    {
     "name": "stdout",
     "output_type": "stream",
     "text": [
      "<div class=\"about-block about-profile\">\n",
      "<h3 class=\"cu-title\">\n",
      "    Our Profile\n",
      "  </h3>\n",
      "<p>Cornell is a privately endowed research university and a partner of\n",
      " the State University of New York. As the federal land-grant institution\n",
      " in New York State, we have a responsibility—unique within the Ivy \n",
      "League—to make contributions in all fields of knowledge in a manner that\n",
      " prioritizes public engagement to help improve the quality of life in \n",
      "our state, the nation, the world.</p>\n",
      "<!-- <ul class=\"link-list\">\n",
      "          <li>\n",
      "            <a href=\"/engagement/\" title=\"Public Engagement\">\n",
      "             Public Engagement\n",
      "            </a>\n",
      "          </li>\n",
      "          <li>\n",
      "            <a href=\"http://irp.dpb.cornell.edu/university-factbook\" title=\"All the facts\">\n",
      "              University Factbook\n",
      "            </a>\n",
      "          </li>\n",
      "        </ul>-->\n",
      "</div>\n"
     ]
    }
   ],
   "source": [
    "about_profile = page.find(\"div\", {\"class\":\"about-block about-profile\"}) # THIS CELL WILL NOT EXECUTE UNTIL YOU FILL IN THE CLASS\n",
    "print(about_profile)"
   ]
  },
  {
   "cell_type": "markdown",
   "metadata": {
    "id": "YsHlLrWVFcqF"
   },
   "source": [
    "Before moving on, **do you notice anything odd about the above HTML?**"
   ]
  },
  {
   "cell_type": "markdown",
   "metadata": {
    "id": "YKgFyKs-FOOi"
   },
   "source": [
    "Now, if we want to extract the natural text from the `about_profile` variable, we can use the `p` tag."
   ]
  },
  {
   "cell_type": "code",
   "execution_count": null,
   "metadata": {
    "colab": {
     "base_uri": "https://localhost:8080/",
     "height": 70
    },
    "id": "Run7tprF17Vw",
    "outputId": "b48902dd-882f-4950-f2c2-ecf2777db3d3"
   },
   "outputs": [],
   "source": [
    "print(about_profile.find('p').text)"
   ]
  },
  {
   "cell_type": "markdown",
   "metadata": {
    "id": "xsY8lKVe3gEt"
   },
   "source": [
    "---\n",
    "# Problem 2: Recreating the timeline as a table\n",
    "\n",
    "Earlier, you found links to fact pages about Cornell (stored in `link_carets`). One of those links was to a Cornell Timeline (https://www.cornell.edu/about/timeline/). Take some time to inspect the HTML of the page, and then load the cached version with the link below, create a `BeautifulSoup` object, and find some information about Cornell.\n",
    "\n",
    "Notice the table of data **Cornell Through the Years** with information about Cornell's history. It looks like each event includes three types of information:\n",
    "\n",
    "1.   Event year\n",
    "2.   Event title\n",
    "3.   Event summary\n",
    "\n",
    "Use `BeautifulSoup` and `requests` to scrape this data and format it as a data frame with one column for the year, another for the title, and a third for the summary."
   ]
  },
  {
   "cell_type": "markdown",
   "metadata": {
    "id": "UVaEkWjLW_6M"
   },
   "source": [
    "1. Use the requests library to `get` the website's HTML. Check the status code."
   ]
  },
  {
   "cell_type": "code",
   "execution_count": 1,
   "metadata": {
    "id": "ZsGr_ZUI2WWG"
   },
   "outputs": [],
   "source": [
    "timeline_url = \"https://www.cornell.edu/about/timeline/\""
   ]
  },
  {
   "cell_type": "code",
   "execution_count": 4,
   "metadata": {
    "id": "EZV2RMBt3m_H"
   },
   "outputs": [],
   "source": [
    "# your code here\n",
    "timeline_result = requests.get(timeline_url)\n",
    "if timeline_result.status_code != 200:\n",
    "  print(\"something went wrong:\", timeline_result.status_code, timeline_result.reason)"
   ]
  },
  {
   "cell_type": "markdown",
   "metadata": {
    "id": "w8LpCymIXNPA"
   },
   "source": [
    "2. Convert what you retrieved with the `requests` library to a text string.\n",
    "\n",
    "\n"
   ]
  },
  {
   "cell_type": "code",
   "execution_count": 5,
   "metadata": {
    "id": "OzFyt2vv4O0E"
   },
   "outputs": [],
   "source": [
    "# your code here\n",
    "with open(\"timeline.html\", \"w\") as writer:\n",
    "  writer.write(timeline_result.text)\n",
    "\n",
    "with open(\"timeline.html\", \"r\") as reader:\n",
    "  html_source = reader.read()"
   ]
  },
  {
   "cell_type": "markdown",
   "metadata": {
    "id": "iTg5_CzZYma8"
   },
   "source": [
    "3. Parse the text as HTML with BeautifulSoup."
   ]
  },
  {
   "cell_type": "code",
   "execution_count": 6,
   "metadata": {
    "id": "Fuz27p9Q31IJ"
   },
   "outputs": [],
   "source": [
    "# your code here\n",
    "page = BeautifulSoup(html_source, \"html.parser\")"
   ]
  },
  {
   "cell_type": "markdown",
   "metadata": {
    "id": "ZwSAn-x7Yr-w"
   },
   "source": [
    "4. Identify the HTML tag and class above the year, title, and summary text. Find all occurences of this tag and save it to a list."
   ]
  },
  {
   "cell_type": "code",
   "execution_count": 7,
   "metadata": {
    "colab": {
     "base_uri": "https://localhost:8080/"
    },
    "id": "XhiSmL9h4LIS",
    "outputId": "4c12f113-dacd-4706-8302-323750bfc09d"
   },
   "outputs": [
    {
     "name": "stdout",
     "output_type": "stream",
     "text": [
      "[<div class=\"item-content\">\n",
      "<div class=\"item-year\">1862</div>\n",
      "<div class=\"item-title\">\n",
      "<h3>A mission to serve New York state</h3>\n",
      "</div>\n",
      "<div class=\"item-desc\">\n",
      "<p><div>The Morrill Land-Grant Act allows the federal government to appropriate public land, much of which had been expropriated from Indigenous Nations across the U.S., to develop and support public colleges. Three years later, Cornell is chartered as  <a href=\"https://landgrant.cornell.edu/\">New York’s land-grant university</a> and charged with improving the lives and livelihoods of the state’s citizens through teaching, research and public service.</div></p>\n",
      "</div>\n",
      "<div class=\"item-categories\" role=\"group\">\n",
      "<a class=\"filter-button-js category-button tag-15\" href=\"item-list\" role=\"button\">Milestones</a>\n",
      "<a class=\"filter-button-js category-button tag-19\" href=\"item-list\" role=\"button\">Any Person Any Study</a>\n",
      "</div>\n",
      "</div>, <div class=\"item-content\">\n",
      "<div class=\"item-year\">1865</div>\n",
      "<div class=\"item-title\">\n",
      "<h3>Cornell charter signed into law</h3>\n",
      "</div>\n",
      "<div class=\"item-desc\">\n",
      "<p>On April 27, state senators Andrew Dickson White and Ezra Cornell win passage of the <a href=\"https://news.cornell.edu/stories/2015/04/inside-look-cornells-charter\">bill that charters Cornell University</a> establishing the university at the location of Ezra Cornell’s farm in Ithaca. Three years later, Cornell admits its first students and inaugurates A.D. White as <a href=\"https://president.cornell.edu/the-presidency/andrew-dickson-white/\">Cornell's first president</a>.</p>\n",
      "</div>\n",
      "<div class=\"item-categories\" role=\"group\">\n",
      "<a class=\"filter-button-js category-button tag-15\" href=\"item-list\" role=\"button\">Milestones</a>\n",
      "</div>\n",
      "</div>, <div class=\"item-content\">\n",
      "<div class=\"item-year\">1868</div>\n",
      "<div class=\"item-title\">\n",
      "<h3>Cornell chimes ring for the first time</h3>\n",
      "</div>\n",
      "<div class=\"item-desc\">\n",
      "<p>The original set of nine bells first rings out at the university's opening ceremonies. Over time, the <a href=\"https://chimes.cornell.edu/about\">chimes</a> have been recast and expanded to 21 bells. Presently three concerts are performed each day while classes are in session.</p>\n",
      "</div>\n",
      "<div class=\"item-categories\" role=\"group\">\n",
      "<a class=\"filter-button-js category-button tag-18\" href=\"item-list\" role=\"button\">Uniquely Cornell</a>\n",
      "</div>\n",
      "</div>, <div class=\"item-content\">\n",
      "<div class=\"item-year\">1868</div>\n",
      "<div class=\"item-title\">\n",
      "<h3>Cornell University opens</h3>\n",
      "</div>\n",
      "<div class=\"item-desc\">\n",
      "<p>Initially divided into two parts — the Division of the Special Sciences and Arts and the Division of Science, Literature and the Arts — Cornell opens its doors on October 7 under the leadership of its first president, A.D. White. The university welcomes 26 professors and 412 students, the largest entering class at any American university.</p>\n",
      "</div>\n",
      "<div class=\"item-categories\" role=\"group\">\n",
      "<a class=\"filter-button-js category-button tag-15\" href=\"item-list\" role=\"button\">Milestones</a>\n",
      "</div>\n",
      "</div>, <div class=\"item-content\">\n",
      "<div class=\"item-year\">1870</div>\n",
      "<div class=\"item-title\">\n",
      "<h3>Sibley funds creation of engineering college</h3>\n",
      "</div>\n",
      "<div class=\"item-desc\">\n",
      "<p>Hiram Sibley, one of the 10 incorporators of Cornell, provides funds to house and support the Sibley College of Mechanical Engineering and Mechanic Arts. In 1921, a unified <a href=\"https://www.engineering.cornell.edu/\">College of Engineering</a> combines mechanical and civil engineering. Today, Sibley Hall is the headquarters for the College of Architecture, Art, and Planning.</p>\n",
      "</div>\n",
      "<div class=\"item-categories\" role=\"group\">\n",
      "<a class=\"filter-button-js category-button tag-15\" href=\"item-list\" role=\"button\">Milestones</a>\n",
      "</div>\n",
      "</div>, <div class=\"item-content\">\n",
      "<div class=\"item-year\">1871</div>\n",
      "<div class=\"item-title\">\n",
      "<h3>Trustees approve School of Architecture</h3>\n",
      "</div>\n",
      "<div class=\"item-desc\">\n",
      "<p>Persuaded by the advocacy — and architectural book collection — of President A.D. White, the trustees agree to found a school of architecture, the first four-year course in the United States. Charles Babcock is appointed as the first professor of architecture. Today's <a href=\"https://aap.cornell.edu/about/who-we-are\" target=\"_self\">Architecture, Art and Planning</a> is an internationally-recognized leader.</p>\n",
      "</div>\n",
      "<div class=\"item-categories\" role=\"group\">\n",
      "<a class=\"filter-button-js category-button tag-15\" href=\"item-list\" role=\"button\">Milestones</a>\n",
      "</div>\n",
      "</div>, <div class=\"item-content\">\n",
      "<div class=\"item-year\">1873</div>\n",
      "<div class=\"item-title\">\n",
      "<h3>Eastman is first female graduate</h3>\n",
      "</div>\n",
      "<div class=\"item-desc\">\n",
      "<p>Emma Sheffield Eastman 1873, a transfer student from Vassar, becomes the <a href=\"https://math.cornell.edu/math-women\">first woman to graduate from Cornell</a>. After teaching science and math for a year in Portland, Maine, she works for women's suffrage for much of her life.</p>\n",
      "</div>\n",
      "<div class=\"item-categories\" role=\"group\">\n",
      "<a class=\"filter-button-js category-button tag-15\" href=\"item-list\" role=\"button\">Milestones</a>\n",
      "<a class=\"filter-button-js category-button tag-17\" href=\"item-list\" role=\"button\">Cornellians</a>\n",
      "<a class=\"filter-button-js category-button tag-19\" href=\"item-list\" role=\"button\">Any Person Any Study</a>\n",
      "</div>\n",
      "</div>, <div class=\"item-content\">\n",
      "<div class=\"item-year\">1875</div>\n",
      "<div class=\"item-title\">\n",
      "<h3>Coeducation: the 'Great Experiment'</h3>\n",
      "</div>\n",
      "<div class=\"item-desc\">\n",
      "<p><div>Sage College, constructed to house women students at Cornell, welcomes 25 female students, making Cornell a pioneer in coeducation and attracting many applicants. Early graduates include two college presidents, Julia Josephine Thomas Irvine 1875 (Wellesley) and Martha Carey Thomas 1877 (Bryn Mawr); a publisher and author, Ruth Putnam 1878; and noted Cornell professor and scientist, Anna Botsford Comstock 1885.<br/></div></p>\n",
      "</div>\n",
      "<div class=\"item-categories\" role=\"group\">\n",
      "<a class=\"filter-button-js category-button tag-15\" href=\"item-list\" role=\"button\">Milestones</a>\n",
      "<a class=\"filter-button-js category-button tag-19\" href=\"item-list\" role=\"button\">Any Person Any Study</a>\n",
      "</div>\n",
      "</div>, <div class=\"item-content\">\n",
      "<div class=\"item-year\">1876</div>\n",
      "<div class=\"item-title\">\n",
      "<h3>Daniel Salmon earns first DVM degree in America</h3>\n",
      "</div>\n",
      "<div class=\"item-desc\">\n",
      "<p>Cornell confers the first <a href=\"https://www.vet.cornell.edu/education/doctor-veterinary-medicine\">Doctor of Veterinary Medicine</a> (DVM) degree in the United States to <a href=\"https://www.vet.cornell.edu/alumni/alumni-association/salmon-award\">Daniel Elmer Salmon</a> DVM 1876, who later serves as the first chief of the U.S. Bureau of Animal Industry. He is best known today for pioneering the fight against contagious diseases.</p>\n",
      "</div>\n",
      "<div class=\"item-categories\" role=\"group\">\n",
      "<a class=\"filter-button-js category-button tag-15\" href=\"item-list\" role=\"button\">Milestones</a>\n",
      "<a class=\"filter-button-js category-button tag-16\" href=\"item-list\" role=\"button\">Research &amp; Innovation</a>\n",
      "<a class=\"filter-button-js category-button tag-17\" href=\"item-list\" role=\"button\">Cornellians</a>\n",
      "</div>\n",
      "</div>, <div class=\"item-content\">\n",
      "<div class=\"item-year\">1880</div>\n",
      "<div class=\"item-title\">\n",
      "<h3>Preston is first female doctoral graduate</h3>\n",
      "</div>\n",
      "<div class=\"item-desc\">\n",
      "<p>American educator and suffragist <a href=\"https://alumni.cornell.edu/cornellians/cornells-first-female-doctoral-grad/\">May Preston Slosson</a> Ph.D. 1880 becomes the first woman in the country to earn a Ph.D. in philosophy. She is also Cornell's first female doctoral graduate.</p>\n",
      "</div>\n",
      "<div class=\"item-categories\" role=\"group\">\n",
      "<a class=\"filter-button-js category-button tag-15\" href=\"item-list\" role=\"button\">Milestones</a>\n",
      "<a class=\"filter-button-js category-button tag-17\" href=\"item-list\" role=\"button\">Cornellians</a>\n",
      "<a class=\"filter-button-js category-button tag-19\" href=\"item-list\" role=\"button\">Any Person Any Study</a>\n",
      "</div>\n",
      "</div>, <div class=\"item-content\">\n",
      "<div class=\"item-year\">1885</div>\n",
      "<div class=\"item-title\">\n",
      "<h3>Smith pioneers medical research</h3>\n",
      "</div>\n",
      "<div class=\"item-desc\">\n",
      "<p>Theobald Smith 1881, an epidemiologist who studied Texas cattle fever, anaphylaxis, and hog cholera, discovers the first Salmonella bacterium while working for the United States Department of Agriculture. He names the species after fellow Cornell graduate Daniel Elmer Salmon DVM 1876.</p>\n",
      "</div>\n",
      "<div class=\"item-categories\" role=\"group\">\n",
      "<a class=\"filter-button-js category-button tag-16\" href=\"item-list\" role=\"button\">Research &amp; Innovation</a>\n",
      "<a class=\"filter-button-js category-button tag-17\" href=\"item-list\" role=\"button\">Cornellians</a>\n",
      "</div>\n",
      "</div>, <div class=\"item-content\">\n",
      "<div class=\"item-year\">1887</div>\n",
      "<div class=\"item-title\">\n",
      "<h3>College of Law holds first classes</h3>\n",
      "</div>\n",
      "<div class=\"item-desc\">\n",
      "<p>The College of Law begins operations in Morrill Hall with Judge Douglas Boardman as the first dean. The department is renamed <a href=\"https://www.lawschool.cornell.edu\" target=\"_self\">Cornell Law School</a> in 1925.</p>\n",
      "</div>\n",
      "<div class=\"item-categories\" role=\"group\">\n",
      "<a class=\"filter-button-js category-button tag-15\" href=\"item-list\" role=\"button\">Milestones</a>\n",
      "</div>\n",
      "</div>, <div class=\"item-content\">\n",
      "<div class=\"item-year\">1888</div>\n",
      "<div class=\"item-title\">\n",
      "<h3>Agriculture college formed</h3>\n",
      "</div>\n",
      "<div class=\"item-desc\">\n",
      "<p>The Department of Agriculture (established in 1874) merges with the departments of agricultural chemistry, botany, entomology and veterinary medicine to form the Cornell <a href=\"https://cals.cornell.edu/about/our-values-impact/our-history\">College of Agriculture</a>. Sixteen years later, the New York state legislature followed the federal lead and voted to provide ongoing funding to the college, establishing the New York State College of Agriculture at Cornell, adding “and Life Sciences” in 1971.</p>\n",
      "</div>\n",
      "<div class=\"item-categories\" role=\"group\">\n",
      "<a class=\"filter-button-js category-button tag-15\" href=\"item-list\" role=\"button\">Milestones</a>\n",
      "</div>\n",
      "</div>, <div class=\"item-content\">\n",
      "<div class=\"item-year\">1890</div>\n",
      "<div class=\"item-title\">\n",
      "<h3>First African American graduates</h3>\n",
      "</div>\n",
      "<div class=\"item-desc\">\n",
      "<p><a href=\"https://diversity.cornell.edu/our-story/our-historic-commitment?field_decade_value=1850-1899\">Charles Chauveau Cook</a> 1890 and <a href=\"https://blogs.cornell.edu/sipshistory/2020/01/24/jane-eleanor-datcher-first-african-american-woman-to-obtain-an-advanced-degree-at-cornell/\">Jane Eleanor Datcher</a> 1890 become the first African Americans to graduate from Cornell after a four-year course of study. <a href=\"https://news.cornell.edu/stories/2013/07/first-black-law-school-grad-was-former-slave\">George Washington Fields</a> 1890, a formerly enslaved person, becomes the first African American graduate of Cornell Law School and one of the first people of color to graduate from any law school in the United States.</p>\n",
      "</div>\n",
      "<div class=\"item-categories\" role=\"group\">\n",
      "<a class=\"filter-button-js category-button tag-15\" href=\"item-list\" role=\"button\">Milestones</a>\n",
      "<a class=\"filter-button-js category-button tag-17\" href=\"item-list\" role=\"button\">Cornellians</a>\n",
      "<a class=\"filter-button-js category-button tag-19\" href=\"item-list\" role=\"button\">Any Person Any Study</a>\n",
      "</div>\n",
      "</div>, <div class=\"item-content\">\n",
      "<div class=\"item-year\">1894</div>\n",
      "<div class=\"item-title\">\n",
      "<h3>Veterinary college chartered</h3>\n",
      "</div>\n",
      "<div class=\"item-desc\">\n",
      "<p>The state legislature charters the <a href=\"https://www.suny.edu/campuses/cornell-vet/\">New York State Veterinary College</a>, the first state-supported college at Cornell, though veterinary medicine <a href=\"https://www.vet.cornell.edu/about-us/our-history\">had been taught at Cornell since the university opened</a>. The college opens officially in 1896 in the current location of Uris Hall and later moves to east campus when Shurman Hall is completed in 1957.</p>\n",
      "</div>\n",
      "<div class=\"item-categories\" role=\"group\">\n",
      "<a class=\"filter-button-js category-button tag-15\" href=\"item-list\" role=\"button\">Milestones</a>\n",
      "</div>\n",
      "</div>, <div class=\"item-content\">\n",
      "<div class=\"item-year\">1894</div>\n",
      "<div class=\"item-title\">\n",
      "<h3>First woman in the U.S. earns a Ph.D. in psychology</h3>\n",
      "</div>\n",
      "<div class=\"item-desc\">\n",
      "<p>Margaret Floy Washburn Ph.D. 1894 is the first woman in the United States granted a Ph.D. in psychology.</p>\n",
      "</div>\n",
      "<div class=\"item-categories\" role=\"group\">\n",
      "<a class=\"filter-button-js category-button tag-15\" href=\"item-list\" role=\"button\">Milestones</a>\n",
      "<a class=\"filter-button-js category-button tag-17\" href=\"item-list\" role=\"button\">Cornellians</a>\n",
      "<a class=\"filter-button-js category-button tag-19\" href=\"item-list\" role=\"button\">Any Person Any Study</a>\n",
      "</div>\n",
      "</div>, <div class=\"item-content\">\n",
      "<div class=\"item-year\">1898</div>\n",
      "<div class=\"item-title\">\n",
      "<h3>Medical College founded in New York City</h3>\n",
      "</div>\n",
      "<div class=\"item-desc\">\n",
      "<p><a href=\"https://medicaleducation.weill.cornell.edu/\">Cornell's Medical College</a> is founded, officially opening in New York City in 1900. Today, in a joint campus with New York-Presbyterian Hospital, Weill Cornell Medical College is among the most esteemed clinical and medical research centers in the country.</p>\n",
      "</div>\n",
      "<div class=\"item-categories\" role=\"group\">\n",
      "<a class=\"filter-button-js category-button tag-15\" href=\"item-list\" role=\"button\">Milestones</a>\n",
      "<a class=\"filter-button-js category-button tag-16\" href=\"item-list\" role=\"button\">Research &amp; Innovation</a>\n",
      "</div>\n",
      "</div>, <div class=\"item-content\">\n",
      "<div class=\"item-year\">1901</div>\n",
      "<div class=\"item-title\">\n",
      "<h3>First Chinese student graduates</h3>\n",
      "</div>\n",
      "<div class=\"item-desc\">\n",
      "<p><a href=\"https://diversity.cornell.edu/our-story/our-historic-commitment?field_decade_value=1900-1959\">Sao-Ke Alfred Sze</a> 1901, Cornell's first Chinese student, graduates. He becomes China’s first ambassador to the U.S. and a founding member of the World Bank.</p>\n",
      "</div>\n",
      "<div class=\"item-categories\" role=\"group\">\n",
      "<a class=\"filter-button-js category-button tag-15\" href=\"item-list\" role=\"button\">Milestones</a>\n",
      "<a class=\"filter-button-js category-button tag-17\" href=\"item-list\" role=\"button\">Cornellians</a>\n",
      "<a class=\"filter-button-js category-button tag-19\" href=\"item-list\" role=\"button\">Any Person Any Study</a>\n",
      "</div>\n",
      "</div>, <div class=\"item-content\">\n",
      "<div class=\"item-year\">1901</div>\n",
      "<div class=\"item-title\">\n",
      "<h3>Inaugural 'Spring Day'</h3>\n",
      "</div>\n",
      "<div class=\"item-desc\">\n",
      "<p>The first-recorded <a href=\"https://ezramagazine.cornell.edu/SPRING14/CornellHistory.html\">Spring Day</a> takes place April 15, celebrating the end of winter. Students skip classes and mount variety shows and festivities. Today, <a href=\"https://alumni.cornell.edu/come-back/cornell-traditions/slope-day/\">Slope Day</a> is a student-favorite tradition held on <a href=\"https://alumni.cornell.edu/cornellians/uphill-both-ways/\">Libe Slope</a> to celebrate the last day of classes with live music and entertainment.</p>\n",
      "</div>\n",
      "<div class=\"item-categories\" role=\"group\">\n",
      "<a class=\"filter-button-js category-button tag-18\" href=\"item-list\" role=\"button\">Uniquely Cornell</a>\n",
      "</div>\n",
      "</div>, <div class=\"item-content\">\n",
      "<div class=\"item-year\">1902</div>\n",
      "<div class=\"item-title\">\n",
      "<h3>Carrier creates a new way to stay cool</h3>\n",
      "</div>\n",
      "<div class=\"item-desc\">\n",
      "<p>Engineer Willis Carrier 1901 invents the first electrical air conditioning unit and goes on to found the Carrier Corporation, which remains a world leader in heating, ventilation and air conditioning (HVAC) systems.</p>\n",
      "</div>\n",
      "<div class=\"item-categories\" role=\"group\">\n",
      "<a class=\"filter-button-js category-button tag-16\" href=\"item-list\" role=\"button\">Research &amp; Innovation</a>\n",
      "<a class=\"filter-button-js category-button tag-17\" href=\"item-list\" role=\"button\">Cornellians</a>\n",
      "</div>\n",
      "</div>, <div class=\"item-content\">\n",
      "<div class=\"item-year\">1905</div>\n",
      "<div class=\"item-title\">\n",
      "<h3>Groundbreaking author Fauset graduates</h3>\n",
      "</div>\n",
      "<div class=\"item-desc\">\n",
      "<p><a href=\"https://africana.library.cornell.edu/thesis/the-muses-themselves-would-bear-witness-to-this-jessie-redmon-fauset-a-biographical-portrait-and-literary-analysis/\">Jessie Redmon Fauset</a> 1905 excels in her studies and is one of the first Black women elected to <a href=\"https://as.cornell.edu/education/phi-beta-kappa\">Phi Beta Kappa</a>. Fauset becomes the literary editor of the magazine Crisis (published by the NAACP) in 1919 and in addition to writing essays, poetry and short stories for Crisis, she publishes four novels and comes to be regarded as the “midwife” of the Harlem Renaissance for guiding writers such as Countee Cullen and Langston Hughes.</p>\n",
      "</div>\n",
      "<div class=\"item-categories\" role=\"group\">\n",
      "<a class=\"filter-button-js category-button tag-15\" href=\"item-list\" role=\"button\">Milestones</a>\n",
      "<a class=\"filter-button-js category-button tag-17\" href=\"item-list\" role=\"button\">Cornellians</a>\n",
      "<a class=\"filter-button-js category-button tag-19\" href=\"item-list\" role=\"button\">Any Person Any Study</a>\n",
      "</div>\n",
      "</div>, <div class=\"item-content\">\n",
      "<div class=\"item-year\">1905</div>\n",
      "<div class=\"item-title\">\n",
      "<h3>A colorful nickname for Cornell</h3>\n",
      "</div>\n",
      "<div class=\"item-desc\">\n",
      "<p>Cornell's colors were carnelian red and white since its founding, but the university didn't acquire a nickname until <a href=\"https://cornellbigred.com/honors/hall-of-fame/romeyn-rym-berry/244\">Romeyn Berry</a> 1904 sat down to write a song for the <a href=\"https://cornellbigred.com/sports/football\">Cornell football team</a>. To urge the team on to victory, Berry refers to Cornell simply as the “big red team”. It catches on. Since that time the chant of “Go Big Red” is the common thread at every Cornell sporting event.</p>\n",
      "</div>\n",
      "<div class=\"item-categories\" role=\"group\">\n",
      "<a class=\"filter-button-js category-button tag-18\" href=\"item-list\" role=\"button\">Uniquely Cornell</a>\n",
      "<a class=\"filter-button-js category-button tag-20\" href=\"item-list\" role=\"button\">Athletics</a>\n",
      "</div>\n",
      "</div>, <div class=\"item-content\">\n",
      "<div class=\"item-year\">1906</div>\n",
      "<div class=\"item-title\">\n",
      "<h3>Alpha Phi Alpha, the first Black fraternity, is founded</h3>\n",
      "</div>\n",
      "<div class=\"item-desc\">\n",
      "<p>The <a href=\"https://news.cornell.edu/stories/2022/05/first-black-fraternity-build-monument-its-birthplace\">first intercollegiate Greek-letter fraternity for Black men</a>, Alpha Phi Alpha, is founded at Cornell. It builds approximately 900 chapters across the country and has championed civil rights; its illustrious alumni include Martin Luther King, Jr., W.E.B. Du Bois, Duke Ellington and Thurgood Marshall.</p>\n",
      "</div>\n",
      "<div class=\"item-categories\" role=\"group\">\n",
      "<a class=\"filter-button-js category-button tag-15\" href=\"item-list\" role=\"button\">Milestones</a>\n",
      "<a class=\"filter-button-js category-button tag-19\" href=\"item-list\" role=\"button\">Any Person Any Study</a>\n",
      "</div>\n",
      "</div>, <div class=\"item-content\">\n",
      "<div class=\"item-year\">1907</div>\n",
      "<div class=\"item-title\">\n",
      "<h3>Department of Home Economics created</h3>\n",
      "</div>\n",
      "<div class=\"item-desc\">\n",
      "<p>The Department of Home Economics is created within the College of Agriculture. In 1925, the program becomes the first state-chartered college of Home Economics in the country. The college is renamed the New York State <a href=\"https://www.human.cornell.edu/\">College of Human Ecology</a> in 1969 to reflect its interdisciplinary exploration of the human experience.</p>\n",
      "</div>\n",
      "<div class=\"item-categories\" role=\"group\">\n",
      "<a class=\"filter-button-js category-button tag-15\" href=\"item-list\" role=\"button\">Milestones</a>\n",
      "</div>\n",
      "</div>, <div class=\"item-content\">\n",
      "<div class=\"item-year\">1909</div>\n",
      "<div class=\"item-title\">\n",
      "<h3>First Native American student graduates</h3>\n",
      "</div>\n",
      "<div class=\"item-desc\">\n",
      "<p><a href=\"https://cals.cornell.edu/american-indian-indigenous-studies/about/history\">Marvin Jack</a> (Tuscarora) 1909 becomes Cornell's first Native American student to earn a bachelor's degree. The first true cohort of Indigenous students would arrive at Cornell in the 1920s, in part due to the work of <a href=\"https://rmc.library.cornell.edu/EAD/htmldocs/RMA00790.html\">Dr. Erl Bates</a>.</p>\n",
      "</div>\n",
      "<div class=\"item-categories\" role=\"group\">\n",
      "<a class=\"filter-button-js category-button tag-15\" href=\"item-list\" role=\"button\">Milestones</a>\n",
      "<a class=\"filter-button-js category-button tag-17\" href=\"item-list\" role=\"button\">Cornellians</a>\n",
      "<a class=\"filter-button-js category-button tag-19\" href=\"item-list\" role=\"button\">Any Person Any Study</a>\n",
      "</div>\n",
      "</div>, <div class=\"item-content\">\n",
      "<div class=\"item-year\">1910</div>\n",
      "<div class=\"item-title\">\n",
      "<h3>Cornell Orchards' first fruit trees</h3>\n",
      "</div>\n",
      "<div class=\"item-desc\">\n",
      "<p>The first fruit trees are planted at the <a href=\"https://cuaes.cals.cornell.edu/farms/cornell-orchards/\">Cornell Orchards</a> and some are still thriving today. Cornell Orchards has more than 22 acres under cultivation, with apples being the main product. Scientists in the Cornell College of Agriculture and Life Sciences have released <a href=\"https://news.cornell.edu/stories/2020/09/crunchy-complex-cornell-releases-three-new-apples\">more than 69 apple varieties</a> throughout the college’s history.</p>\n",
      "</div>\n",
      "<div class=\"item-categories\" role=\"group\">\n",
      "<a class=\"filter-button-js category-button tag-16\" href=\"item-list\" role=\"button\">Research &amp; Innovation</a>\n",
      "<a class=\"filter-button-js category-button tag-18\" href=\"item-list\" role=\"button\">Uniquely Cornell</a>\n",
      "</div>\n",
      "</div>, <div class=\"item-content\">\n",
      "<div class=\"item-year\">1910</div>\n",
      "<div class=\"item-title\">\n",
      "<h3>Kimball is first woman DVM in the country</h3>\n",
      "</div>\n",
      "<div class=\"item-desc\">\n",
      "<p><a href=\"https://www.vet.cornell.edu/celebrating-womens-history-month\">Florence Kimball</a> DVM 1910, the first woman in the United States to receive the <a href=\"https://www.vet.cornell.edu/education/doctor-veterinary-medicine\">Doctor of Veterinary Medicine (DVM)</a> degree, graduates from Cornell. Seven of the first 11 women to become licensed veterinarians in this country are Cornell graduates.</p>\n",
      "</div>\n",
      "<div class=\"item-categories\" role=\"group\">\n",
      "<a class=\"filter-button-js category-button tag-15\" href=\"item-list\" role=\"button\">Milestones</a>\n",
      "<a class=\"filter-button-js category-button tag-17\" href=\"item-list\" role=\"button\">Cornellians</a>\n",
      "<a class=\"filter-button-js category-button tag-19\" href=\"item-list\" role=\"button\">Any Person Any Study</a>\n",
      "</div>\n",
      "</div>, <div class=\"item-content\">\n",
      "<div class=\"item-year\">1914</div>\n",
      "<div class=\"item-title\">\n",
      "<h3>Shih graduates</h3>\n",
      "</div>\n",
      "<div class=\"item-desc\">\n",
      "<p><a href=\"https://rmc.library.cornell.edu/hushih/\">Hu Shih</a> 1914 revolutionizes the Chinese language with a movement to change literary writing from a strict classical style to a modern, vernacular style. Shih is later president of Peking University, China's ambassador to the United States and nominee for a Nobel Prize in literature. In 2021, a <a href=\"https://news.cornell.edu/stories/2021/03/residence-hall-names-honor-mcclintock-hu-cayuga-nation\">North Campus residence hall</a> was named in his honor.</p>\n",
      "</div>\n",
      "<div class=\"item-categories\" role=\"group\">\n",
      "<a class=\"filter-button-js category-button tag-16\" href=\"item-list\" role=\"button\">Research &amp; Innovation</a>\n",
      "<a class=\"filter-button-js category-button tag-17\" href=\"item-list\" role=\"button\">Cornellians</a>\n",
      "</div>\n",
      "</div>, <div class=\"item-content\">\n",
      "<div class=\"item-year\">1914</div>\n",
      "<div class=\"item-title\">\n",
      "<h3>Cooperative Extension service formalized</h3>\n",
      "</div>\n",
      "<div class=\"item-desc\">\n",
      "<p><a href=\"https://cals.cornell.edu/cornell-cooperative-extension\">Cornell Cooperative Extension</a> is established, following the <a href=\"https://cals.cornell.edu/about/our-values-impact/our-history\">Smith-Lever Act</a>. Rooted in every county of the state, Cornell Cooperative Extension translates Cornell's <a href=\"https://cals.cornell.edu/research\">world-class research</a> into practical, real-world knowledge that helps New York state residents, businesses and communities to thrive.</p>\n",
      "</div>\n",
      "<div class=\"item-categories\" role=\"group\">\n",
      "<a class=\"filter-button-js category-button tag-15\" href=\"item-list\" role=\"button\">Milestones</a>\n",
      "<a class=\"filter-button-js category-button tag-16\" href=\"item-list\" role=\"button\">Research &amp; Innovation</a>\n",
      "</div>\n",
      "</div>, <div class=\"item-content\">\n",
      "<div class=\"item-year\">1914</div>\n",
      "<div class=\"item-title\">\n",
      "<h3>First-known recording of the Alma Mater</h3>\n",
      "</div>\n",
      "<div class=\"item-desc\">\n",
      "<p>On <a href=\"https://www.youtube.com/watch?v=pH0R5DyyQCI\">January 5, 1914</a>, the Cornell Daily Sun reports that the Cornell Glee Club had recorded the <a href=\"https://alumni.cornell.edu/cornellians/hail-all-hail-cornell/\">Alma Mater</a> at the Columbia Phonograph Company in New York City. Records become available for purchase within two or three months.</p>\n",
      "</div>\n",
      "<div class=\"item-categories\" role=\"group\">\n",
      "<a class=\"filter-button-js category-button tag-18\" href=\"item-list\" role=\"button\">Uniquely Cornell</a>\n",
      "</div>\n",
      "</div>, <div class=\"item-content\">\n",
      "<div class=\"item-year\">1915</div>\n",
      "<div class=\"item-title\">\n",
      "<h3>Cornell Lab of O takes wing</h3>\n",
      "</div>\n",
      "<div class=\"item-desc\">\n",
      "<p>The <a href=\"https://www.birds.cornell.edu/home/\">Cornell Laboratory of Ornithology</a> is established. Today, the laboratory is a <a href=\"https://www.birds.cornell.edu/home/about/our-work/\">world leader in the study, appreciation and conservation of birds</a> with a goal to “advance the understanding of nature and to engage people of all ages in learning about birds and protecting the planet.”</p>\n",
      "</div>\n",
      "<div class=\"item-categories\" role=\"group\">\n",
      "<a class=\"filter-button-js category-button tag-15\" href=\"item-list\" role=\"button\">Milestones</a>\n",
      "<a class=\"filter-button-js category-button tag-16\" href=\"item-list\" role=\"button\">Research &amp; Innovation</a>\n",
      "<a class=\"filter-button-js category-button tag-18\" href=\"item-list\" role=\"button\">Uniquely Cornell</a>\n",
      "</div>\n",
      "</div>, <div class=\"item-content\">\n",
      "<div class=\"item-year\">1915</div>\n",
      "<div class=\"item-title\">\n",
      "<h3>First Big Red gridiron test</h3>\n",
      "</div>\n",
      "<div class=\"item-desc\">\n",
      "<p>Cornell defeats Gettysburg, 13-0, in its first football game on <a href=\"https://cornellbigred.com/facilities/schoellkopf-field/18\">Schoellkopf Field</a>. Cornell finishes the season undefeated, marking its first national championship year.</p>\n",
      "</div>\n",
      "<div class=\"item-categories\" role=\"group\">\n",
      "<a class=\"filter-button-js category-button tag-15\" href=\"item-list\" role=\"button\">Milestones</a>\n",
      "<a class=\"filter-button-js category-button tag-20\" href=\"item-list\" role=\"button\">Athletics</a>\n",
      "</div>\n",
      "</div>, <div class=\"item-content\">\n",
      "<div class=\"item-year\">1917</div>\n",
      "<div class=\"item-title\">\n",
      "<h3>United States enters World War I</h3>\n",
      "</div>\n",
      "<div class=\"item-desc\">\n",
      "<p>The United States Congress declares war on Imperial Germany. By war's end, <a href=\"https://news.cornell.edu/stories/2015/01/cornell-rewind-great-school-faces-great-war\">Cornell provides a total of 4,598 commissioned officers</a> to the war effort. Five Cornell pilots become aces, three physicians serve as the first American women to hold Army rank after receiving commissions from the French army and 265 Cornell alumni <a href=\"https://veteransmemorials.cornell.edu/the-war-memorial-at-lyon-and-mcfaddin-halls/\">give their lives serving in the armed forces</a>.</p>\n",
      "</div>\n",
      "<div class=\"item-categories\" role=\"group\">\n",
      "<a class=\"filter-button-js category-button tag-15\" href=\"item-list\" role=\"button\">Milestones</a>\n",
      "<a class=\"filter-button-js category-button tag-17\" href=\"item-list\" role=\"button\">Cornellians</a>\n",
      "</div>\n",
      "</div>, <div class=\"item-content\">\n",
      "<div class=\"item-year\">1918</div>\n",
      "<div class=\"item-title\">\n",
      "<h3>“The Elements of Style” is published</h3>\n",
      "</div>\n",
      "<div class=\"item-desc\">\n",
      "<p><a href=\"https://ecommons.cornell.edu/bitstream/handle/1813/18663/William_Strunk_Jr_1946.pdf?sequence=1&amp;isAllowed=y\">William Strunk</a> Ph.D. 1896 writes “<a href=\"https://news.cornell.edu/stories/2009/03/omit-needless-words-elements-style-turns-50\">The Elements of Style</a>” — later expanded by E.B. White 1921 — considered one of the most influential books written in English.</p>\n",
      "</div>\n",
      "<div class=\"item-categories\" role=\"group\">\n",
      "<a class=\"filter-button-js category-button tag-16\" href=\"item-list\" role=\"button\">Research &amp; Innovation</a>\n",
      "<a class=\"filter-button-js category-button tag-17\" href=\"item-list\" role=\"button\">Cornellians</a>\n",
      "</div>\n",
      "</div>, <div class=\"item-content\">\n",
      "<div class=\"item-year\">1921</div>\n",
      "<div class=\"item-title\">\n",
      "<h3>Author E. B. White graduates</h3>\n",
      "</div>\n",
      "<div class=\"item-desc\">\n",
      "<p><a href=\"https://news.cornell.edu/essentials/2013/08/room-whites-own\">E. B. White</a> 1921, New Yorker essayist, author of “<a href=\"https://rare.library.cornell.edu/the-e-b-white-collection/\">Charlotte's Web</a>” and co-author of the revised version of “<a href=\"https://news.cornell.edu/stories/2009/03/omit-needless-words-elements-style-turns-50\">The Elements of Style</a>,” graduates with a degree in <a href=\"https://english.cornell.edu/\">English</a>.</p>\n",
      "</div>\n",
      "<div class=\"item-categories\" role=\"group\">\n",
      "<a class=\"filter-button-js category-button tag-17\" href=\"item-list\" role=\"button\">Cornellians</a>\n",
      "</div>\n",
      "</div>, <div class=\"item-content\">\n",
      "<div class=\"item-year\">1922</div>\n",
      "<div class=\"item-title\">\n",
      "<h3>The world’s first undergraduate hospitality degree program is born</h3>\n",
      "</div>\n",
      "<div class=\"item-desc\">\n",
      "<p>The <a href=\"https://sha.cornell.edu/\">Cornell School of Hotel Administration</a> (later named the Nolan School of Hotel Administration), the <a href=\"https://sha.cornell.edu/about/history/\">world’s first undergraduate hospitality management degree program</a>, was created at the request of leading hotel magnates and the American Hotel Association. The program launches with 21 students under the direction of a single professor, <a href=\"https://ecommons.cornell.edu/bitstream/handle/1813/19280/Meek_Howard_Bagnall_1969.pdf\">Howard B. Meek</a>.</p>\n",
      "</div>\n",
      "<div class=\"item-categories\" role=\"group\">\n",
      "<a class=\"filter-button-js category-button tag-15\" href=\"item-list\" role=\"button\">Milestones</a>\n",
      "<a class=\"filter-button-js category-button tag-18\" href=\"item-list\" role=\"button\">Uniquely Cornell</a>\n",
      "</div>\n",
      "</div>, <div class=\"item-content\">\n",
      "<div class=\"item-year\">1923</div>\n",
      "<div class=\"item-title\">\n",
      "<h3>Van Rensselaer named one of 12 \"greatest\" women in the U.S.</h3>\n",
      "</div>\n",
      "<div class=\"item-desc\">\n",
      "<p>The League of Women Voters names <a href=\"https://rmc.library.cornell.edu/homeEc/bios/marthavanrensselaer.html\">Martha Van Rensselaer</a>, professor of home economics, one of the <a href=\"https://news.cornell.edu/stories/2014/12/cornell-rewind-influence-eleanor-roosevelt\" target=\"_self\">12 greatest women</a> in the United States (alongside the Class of 1877's Anna Botsford Comstock and M. Carey Thomas). Under Van Rensselaer's and <a href=\"https://rmc.library.cornell.edu/homeEc/bios/florarose.html\">Flora Rose’s</a> leadership, the Department of Home Economics becomes the School of Home Economics in 1919, and eventually the <a href=\"https://www.human.cornell.edu/about/history\">New York State College of Home Economics</a> in 1925.</p>\n",
      "</div>\n",
      "<div class=\"item-categories\" role=\"group\">\n",
      "<a class=\"filter-button-js category-button tag-17\" href=\"item-list\" role=\"button\">Cornellians</a>\n",
      "</div>\n",
      "</div>, <div class=\"item-content\">\n",
      "<div class=\"item-year\">1925</div>\n",
      "<div class=\"item-title\">\n",
      "<h3>First African American to earn mathematics Ph.D.</h3>\n",
      "</div>\n",
      "<div class=\"item-desc\">\n",
      "<p><a href=\"https://news.cornell.edu/stories/2002/02/math-department-honors-cu-pioneer-elbert-cox-first-black-math-phd\">Elbert Cox</a> Ph.D. 1925 becomes the first African American in history to earn a doctorate in <a href=\"https://math.cornell.edu/\">mathematics</a> and is later the first African American to be inducted into the American Mathematical Society. Cox goes on to teach at Howard University from 1930 to 1966 and serves as head of the mathematics department from 1954 to 1961.</p>\n",
      "</div>\n",
      "<div class=\"item-categories\" role=\"group\">\n",
      "<a class=\"filter-button-js category-button tag-15\" href=\"item-list\" role=\"button\">Milestones</a>\n",
      "<a class=\"filter-button-js category-button tag-19\" href=\"item-list\" role=\"button\">Any Person Any Study</a>\n",
      "</div>\n",
      "</div>, <div class=\"item-content\">\n",
      "<div class=\"item-year\">1928</div>\n",
      "<div class=\"item-title\">\n",
      "<h3>Researcher develops cancer test</h3>\n",
      "</div>\n",
      "<div class=\"item-desc\">\n",
      "<p><a href=\"https://library.weill.cornell.edu/george-papanicolaou-biography\">George Papanicolaou</a> (Dr. Pap) at <a href=\"https://medicaleducation.weill.cornell.edu/\">Weill Cornell Medical College</a> first presents a research paper explaining his ideas of using vaginal smears to detect uterine cancer. Now known as the Pap smear, the simple procedure has become the standard in screening for cervical cancer.</p>\n",
      "</div>\n",
      "<div class=\"item-categories\" role=\"group\">\n",
      "<a class=\"filter-button-js category-button tag-16\" href=\"item-list\" role=\"button\">Research &amp; Innovation</a>\n",
      "<a class=\"filter-button-js category-button tag-17\" href=\"item-list\" role=\"button\">Cornellians</a>\n",
      "</div>\n",
      "</div>, <div class=\"item-content\">\n",
      "<div class=\"item-year\">1931</div>\n",
      "<div class=\"item-title\">\n",
      "<h3>Designed by a Cornellian, Empire State Building opens</h3>\n",
      "</div>\n",
      "<div class=\"item-desc\">\n",
      "<p>The Empire State Building, the world's tallest building from 1931 to 1970, opens in midtown Manhattan. The building is designed by Cornell graduate <a href=\"https://digital.library.cornell.edu/catalog/ss:574269\">Richmond Harold Shreve</a> 1902, co-founder of the architectural firm Shreve, Lamb &amp; Harmon. Shreve, Lamb &amp; Harmon later designed <a href=\"https://housing.weill.cornell.edu/our-buildings/olin-hall\">Olin</a>, <a href=\"https://www.fs.cornell.edu/fs/facinfo/fs_facilinfo.cfm?facil_cd=2037k\">Kimball</a> and <a href=\"https://www.fs.cornell.edu/facinfo/fs_facilInfo.cfm?facil_cd=2037T\">Thurston</a> halls on the Cornell campus.</p>\n",
      "</div>\n",
      "<div class=\"item-categories\" role=\"group\">\n",
      "<a class=\"filter-button-js category-button tag-16\" href=\"item-list\" role=\"button\">Research &amp; Innovation</a>\n",
      "<a class=\"filter-button-js category-button tag-17\" href=\"item-list\" role=\"button\">Cornellians</a>\n",
      "</div>\n",
      "</div>, <div class=\"item-content\">\n",
      "<div class=\"item-year\">1932</div>\n",
      "<div class=\"item-title\">\n",
      "<h3>Buck wins Pulitzer Prize</h3>\n",
      "</div>\n",
      "<div class=\"item-desc\">\n",
      "<p>Pearl S. Buck, M.A. 1925, wins a Pulitzer Prize for her second novel, “The Good Earth.” In 1938, Buck would go on to win a <a href=\"https://news.cornell.edu/stories/2005/10/nobel-laureates-affiliated-cornell-university\">Nobel Prize in Literature</a>, becoming the first American woman to do so.</p>\n",
      "</div>\n",
      "<div class=\"item-categories\" role=\"group\">\n",
      "<a class=\"filter-button-js category-button tag-17\" href=\"item-list\" role=\"button\">Cornellians</a>\n",
      "</div>\n",
      "</div>, <div class=\"item-content\">\n",
      "<div class=\"item-year\">1935</div>\n",
      "<div class=\"item-title\">\n",
      "<h3>Cornell bread is born</h3>\n",
      "</div>\n",
      "<div class=\"item-desc\">\n",
      "<p>Clive McCay’s nutrition research led to the development of nutritionally-sound rations during WWII and the creation of <a href=\"https://alumni.cornell.edu/cornellians/classic-cornell-bread/\">Cornell bread</a>, an inexpensive alternative to other great staples.</p>\n",
      "</div>\n",
      "<div class=\"item-categories\" role=\"group\">\n",
      "<a class=\"filter-button-js category-button tag-16\" href=\"item-list\" role=\"button\">Research &amp; Innovation</a>\n",
      "</div>\n",
      "</div>, <div class=\"item-content\">\n",
      "<div class=\"item-year\">1936</div>\n",
      "<div class=\"item-title\">\n",
      "<h3>First female photojournalist for Life magazine</h3>\n",
      "</div>\n",
      "<div class=\"item-desc\">\n",
      "<p><a href=\"https://rmc.library.cornell.edu/EAD/htmldocs/RMM08790.html\">Margaret Bourke-White</a> 1927 was the first American female war photojournalist and the first female photographer for Life magazine.</p>\n",
      "</div>\n",
      "<div class=\"item-categories\" role=\"group\">\n",
      "<a class=\"filter-button-js category-button tag-17\" href=\"item-list\" role=\"button\">Cornellians</a>\n",
      "</div>\n",
      "</div>, <div class=\"item-content\">\n",
      "<div class=\"item-year\">1937</div>\n",
      "<div class=\"item-title\">\n",
      "<h3>Playwright, screenwriter and director Laurents graduates</h3>\n",
      "</div>\n",
      "<div class=\"item-desc\">\n",
      "<p>Arthur Laurents ’37, the playwright, screenwriter and director who would go on to write two of Broadway's landmark shows, Gypsy and West Side Story, graduates from Cornell. His film credits include “The Way We Were,” “Anastasia,” with Ingrid Bergman and “The Turning Point,” with Anne Bancroft and Shirley MacLaine.</p>\n",
      "</div>\n",
      "<div class=\"item-categories\" role=\"group\">\n",
      "<a class=\"filter-button-js category-button tag-17\" href=\"item-list\" role=\"button\">Cornellians</a>\n",
      "</div>\n",
      "</div>, <div class=\"item-content\">\n",
      "<div class=\"item-year\">1941</div>\n",
      "<div class=\"item-title\">\n",
      "<h3>United States enters World War II</h3>\n",
      "</div>\n",
      "<div class=\"item-desc\">\n",
      "<p>The attack on Pearl Harbor brings the United States into World War II. After Pearl Harbor, Cornell reacts swiftly to the crisis, enlarging and accelerating its programs. By the war's end in 1945, <a href=\"https://veteransmemorials.cornell.edu/anabel-taylor-hall/\">more than 480 Cornell alumni give their lives</a> while serving in the U.S. armed forces.</p>\n",
      "</div>\n",
      "<div class=\"item-categories\" role=\"group\">\n",
      "<a class=\"filter-button-js category-button tag-15\" href=\"item-list\" role=\"button\">Milestones</a>\n",
      "<a class=\"filter-button-js category-button tag-17\" href=\"item-list\" role=\"button\">Cornellians</a>\n",
      "</div>\n",
      "</div>, <div class=\"item-content\">\n",
      "<div class=\"item-year\">1945</div>\n",
      "<div class=\"item-title\">\n",
      "<h3>New York State legislature establishes ILR School</h3>\n",
      "</div>\n",
      "<div class=\"item-desc\">\n",
      "<p>The New York State legislature passes the bill to establish the <a href=\"https://www.ilr.cornell.edu/\">School of Industrial and Labor Relations</a> to improve industrial and labor conditions in the state. The <a href=\"https://www.ilr.cornell.edu/about-ilr/our-history\">first four-year school of its kind</a>, ILR builds community partnerships and brings thought leadership into practice for workers, unions, organizations and communities to improve the world of work.</p>\n",
      "</div>\n",
      "<div class=\"item-categories\" role=\"group\">\n",
      "<a class=\"filter-button-js category-button tag-15\" href=\"item-list\" role=\"button\">Milestones</a>\n",
      "<a class=\"filter-button-js category-button tag-16\" href=\"item-list\" role=\"button\">Research &amp; Innovation</a>\n",
      "</div>\n",
      "</div>, <div class=\"item-content\">\n",
      "<div class=\"item-year\">1946</div>\n",
      "<div class=\"item-title\">\n",
      "<h3>School of Business and Public Administration opens</h3>\n",
      "</div>\n",
      "<div class=\"item-desc\">\n",
      "<p>Cornell’s School of Business and Public Administration begins operation, offering business programs to graduate students. Today, the <a href=\"https://www.johnson.cornell.edu/\">Samuel Curtis Johnson Graduate School of Management</a> has over 15,000 alumni and works with 65 corporate partners to create better business solutions across the globe.</p>\n",
      "</div>\n",
      "<div class=\"item-categories\" role=\"group\">\n",
      "<a class=\"filter-button-js category-button tag-15\" href=\"item-list\" role=\"button\">Milestones</a>\n",
      "<a class=\"filter-button-js category-button tag-16\" href=\"item-list\" role=\"button\">Research &amp; Innovation</a>\n",
      "</div>\n",
      "</div>, <div class=\"item-content\">\n",
      "<div class=\"item-year\">1947</div>\n",
      "<div class=\"item-title\">\n",
      "<h3>Correspondence with Einstein leads to creation of television camera tube</h3>\n",
      "</div>\n",
      "<div class=\"item-desc\">\n",
      "<p>While working at the Naval Ordnance Laboratory, <a href=\"https://news.cornell.edu/stories/2019/07/remembering-physicist-sternglass-who-helped-world-see-man-moon\">Ernest Sternglass</a> ’44, M.S. ’51, Ph.D. ’53 observes a phenomenon different from Albert Einstein's photoelectric effect. Sternglass’s research, informed by a meeting with Einstein in 1947, leads to the development of a highly sensitive television camera tube that enables millions to watch Neil Armstrong’s first steps on the moon in July 1969.</p>\n",
      "</div>\n",
      "<div class=\"item-categories\" role=\"group\">\n",
      "<a class=\"filter-button-js category-button tag-16\" href=\"item-list\" role=\"button\">Research &amp; Innovation</a>\n",
      "<a class=\"filter-button-js category-button tag-17\" href=\"item-list\" role=\"button\">Cornellians</a>\n",
      "</div>\n",
      "</div>, <div class=\"item-content\">\n",
      "<div class=\"item-year\">1948</div>\n",
      "<div class=\"item-title\">\n",
      "<h3>Nabokov arrives in Ithaca</h3>\n",
      "</div>\n",
      "<div class=\"item-desc\">\n",
      "<p><a href=\"https://news.cornell.edu/stories/2011/10/nabokov-seminar-gets-lesson-butterflies\">Vladimir Nabokov</a> and his family arrive in Ithaca, with Nabokov beginning his duties as a professor of Russian literature at Cornell. During his more than 10 years at Cornell, Nabokov becomes famous as the author of “<a href=\"https://rmc.library.cornell.edu/lolita/cornell/index.html\">Lolita</a>” and “Pnin” and becomes known on campus as a lecturer not to be missed.</p>\n",
      "</div>\n",
      "<div class=\"item-categories\" role=\"group\">\n",
      "<a class=\"filter-button-js category-button tag-17\" href=\"item-list\" role=\"button\">Cornellians</a>\n",
      "</div>\n",
      "</div>, <div class=\"item-content\">\n",
      "<div class=\"item-year\">1949</div>\n",
      "<div class=\"item-title\">\n",
      "<h3>Noyes donates copy of Gettysburg Address</h3>\n",
      "</div>\n",
      "<div class=\"item-desc\">\n",
      "<p>In recognition of her husband's nearly 50 years of service to Cornell and its ideals, Marguerite Lilly Noyes presents the <a href=\"https://rmc.library.cornell.edu/footsteps/exhibition/foundingcollections/foundingcollections_5.html\">Nicholas H. Noyes Collection of Historical Americana</a>‚ including a copy of the <a href=\"https://rmc.library.cornell.edu/gettysburg/good_cause/CU_copy.htm\">Gettysburg Address</a> handwritten by Abraham Lincoln‚ to Cornell University Library. Nicholas Noyes was a member of the Class of 1906.</p>\n",
      "</div>\n",
      "<div class=\"item-categories\" role=\"group\">\n",
      "<a class=\"filter-button-js category-button tag-16\" href=\"item-list\" role=\"button\">Research &amp; Innovation</a>\n",
      "<a class=\"filter-button-js category-button tag-18\" href=\"item-list\" role=\"button\">Uniquely Cornell</a>\n",
      "</div>\n",
      "</div>, <div class=\"item-content\">\n",
      "<div class=\"item-year\">1953</div>\n",
      "<div class=\"item-title\">\n",
      "<h3>America's first accredited wine course offered at School of Hotel Administration</h3>\n",
      "</div>\n",
      "<div class=\"item-desc\">\n",
      "<p>The first accredited wine appreciation course in American collegiate history is offered to <a href=\"https://sha.cornell.edu/\">School of Hotel Administration</a> (SHA) juniors and seniors, with guest lectures from seven leading New York and California vintners.</p>\n",
      "</div>\n",
      "<div class=\"item-categories\" role=\"group\">\n",
      "<a class=\"filter-button-js category-button tag-16\" href=\"item-list\" role=\"button\">Research &amp; Innovation</a>\n",
      "<a class=\"filter-button-js category-button tag-18\" href=\"item-list\" role=\"button\">Uniquely Cornell</a>\n",
      "</div>\n",
      "</div>, <div class=\"item-content\">\n",
      "<div class=\"item-year\">1958</div>\n",
      "<div class=\"item-title\">\n",
      "<h3>Greatbatch and the first pacemaker</h3>\n",
      "</div>\n",
      "<div class=\"item-desc\">\n",
      "<p>Surgeons at the Veterans Administration hospital in Buffalo, New York, test the first practical implantable pacemaker, designed by <a href=\"https://news.cornell.edu/essentials/2011/09/greatbatch-pacemaker-inventor-dies\">Wilson Greatbatch</a> ’50. His pacemaker, patented in 1962, is regarded as one of the greatest inventions of the 20th century.</p>\n",
      "</div>\n",
      "<div class=\"item-categories\" role=\"group\">\n",
      "<a class=\"filter-button-js category-button tag-16\" href=\"item-list\" role=\"button\">Research &amp; Innovation</a>\n",
      "<a class=\"filter-button-js category-button tag-17\" href=\"item-list\" role=\"button\">Cornellians</a>\n",
      "</div>\n",
      "</div>, <div class=\"item-content\">\n",
      "<div class=\"item-year\">1960</div>\n",
      "<div class=\"item-title\">\n",
      "<h3>Future U.S. Attorney General Reno graduates</h3>\n",
      "</div>\n",
      "<div class=\"item-desc\">\n",
      "<p><a href=\"https://news.cornell.edu/stories/2016/11/janet-reno-60-first-female-us-attorney-general-dies-78\">Janet Reno</a> ’60 graduates with a degree in chemistry. Reno would go on to be nominated for U.S. Attorney General by President Bill Clinton in 1993, becoming the first woman to serve in the post and the second-longest serving attorney general in U.S. history.</p>\n",
      "</div>\n",
      "<div class=\"item-categories\" role=\"group\">\n",
      "<a class=\"filter-button-js category-button tag-17\" href=\"item-list\" role=\"button\">Cornellians</a>\n",
      "</div>\n",
      "</div>, <div class=\"item-content\">\n",
      "<div class=\"item-year\">1961</div>\n",
      "<div class=\"item-title\">\n",
      "<h3>Gogolak transforms place kicking</h3>\n",
      "</div>\n",
      "<div class=\"item-desc\">\n",
      "<p><a href=\"https://cornellbigred.com/honors/hall-of-fame/peter-k-gogolak/414\">Peter Gogolak</a> ’64 kicks a 41-yard field goal soccer-style against Princeton. Gogolak, who went on to kick for the Buffalo Bills and New York Giants, revolutionized place kicking and making soccer-style kicking the norm throughout football.</p>\n",
      "</div>\n",
      "<div class=\"item-categories\" role=\"group\">\n",
      "<a class=\"filter-button-js category-button tag-17\" href=\"item-list\" role=\"button\">Cornellians</a>\n",
      "<a class=\"filter-button-js category-button tag-20\" href=\"item-list\" role=\"button\">Athletics</a>\n",
      "</div>\n",
      "</div>, <div class=\"item-content\">\n",
      "<div class=\"item-year\">1963</div>\n",
      "<div class=\"item-title\">\n",
      "<h3>Chicken takes on a new form: chicken nuggets</h3>\n",
      "</div>\n",
      "<div class=\"item-desc\">\n",
      "<p><a href=\"https://news.cornell.edu/stories/2006/03/food-and-poultry-scientist-robert-c-baker-dies-age-84\">Robert C. Baker</a> and his colleague Joseph Marshall propose a first-ever chicken stick, made of ground, blended and frozen chicken. Baker, a professor of poultry science, also creates over 50 other products made from chicken and eggs, including chicken hot dogs.</p>\n",
      "</div>\n",
      "<div class=\"item-categories\" role=\"group\">\n",
      "<a class=\"filter-button-js category-button tag-16\" href=\"item-list\" role=\"button\">Research &amp; Innovation</a>\n",
      "</div>\n",
      "</div>, <div class=\"item-content\">\n",
      "<div class=\"item-year\">1963</div>\n",
      "<div class=\"item-title\">\n",
      "<h3>Arecibo Observatory opens</h3>\n",
      "</div>\n",
      "<div class=\"item-desc\">\n",
      "<p>The <a href=\"https://guides.library.cornell.edu/arecibo\">Arecibo Observatory</a> opens in Puerto Rico. Designed by Cornell physicist and astronomer William E. Gordon Ph.D. ’53, the observatory's 1,000-foot radio telescope is the world's largest single-aperture telescope for several decades. The <a href=\"https://news.cornell.edu/stories/2020/11/nsf-decommission-cornell-designed-arecibo-telescope\">telescope closes permanently</a> in November 2020, following the breaks of two cables that support the structure.</p>\n",
      "</div>\n",
      "<div class=\"item-categories\" role=\"group\">\n",
      "<a class=\"filter-button-js category-button tag-16\" href=\"item-list\" role=\"button\">Research &amp; Innovation</a>\n",
      "</div>\n",
      "</div>, <div class=\"item-content\">\n",
      "<div class=\"item-year\">1963</div>\n",
      "<div class=\"item-title\">\n",
      "<h3>Puff, the Magic Dragon born at Cornell, not Honalee</h3>\n",
      "</div>\n",
      "<div class=\"item-desc\">\n",
      "<p>The folk trio Peter, Paul and Mary (including <a href=\"https://ezramagazine.cornell.edu/FALL09/People.html\">Peter Yarrow</a> ’59) releases the single “Puff, the Magic Dragon,” which is based on a poem written in 1959 by then-freshman Lenny Lipton '62. The single reaches number two on the Billboard Hot 100.</p>\n",
      "</div>\n",
      "<div class=\"item-categories\" role=\"group\">\n",
      "<a class=\"filter-button-js category-button tag-17\" href=\"item-list\" role=\"button\">Cornellians</a>\n",
      "<a class=\"filter-button-js category-button tag-18\" href=\"item-list\" role=\"button\">Uniquely Cornell</a>\n",
      "</div>\n",
      "</div>, <div class=\"item-content\">\n",
      "<div class=\"item-year\">1964</div>\n",
      "<div class=\"item-title\">\n",
      "<h3>Committee on Special Educational Projects launches</h3>\n",
      "</div>\n",
      "<div class=\"item-desc\">\n",
      "<p>First convened in 1963, the <a href=\"https://oadi.cornell.edu/about/our-history\">Committee on Special Educational Projects (COSEP) officially launches by </a><a href=\"https://president.cornell.edu/the-presidency/james-a-perkins/\">Dr. James Perkins</a>, the seventh president of Cornell. The first program of its kind at a major American university, increases the number of Black students enrolled from eight to over 250 during Perkins’ presidency.</p>\n",
      "</div>\n",
      "<div class=\"item-categories\" role=\"group\">\n",
      "<a class=\"filter-button-js category-button tag-15\" href=\"item-list\" role=\"button\">Milestones</a>\n",
      "<a class=\"filter-button-js category-button tag-19\" href=\"item-list\" role=\"button\">Any Person Any Study</a>\n",
      "</div>\n",
      "</div>, <div class=\"item-content\">\n",
      "<div class=\"item-year\">1964</div>\n",
      "<div class=\"item-title\">\n",
      "<h3>A new sound defines an era</h3>\n",
      "</div>\n",
      "<div class=\"item-desc\">\n",
      "<p><a href=\"https://news.cornell.edu/stories/2020/03/cornell-celebrates-electronic-music-pioneer-robert-moog\">Robert Moog</a> Ph.D. ’65 debuts the electronic analog Moog Synthesizer, one of the first widely used electronic musical instruments. The invention introduces a new landscape of sound to the music world, with organic, rich tones embraced by greats such as the Beatles, Pink Floyd and Stevie Wonder.</p>\n",
      "</div>\n",
      "<div class=\"item-categories\" role=\"group\">\n",
      "<a class=\"filter-button-js category-button tag-16\" href=\"item-list\" role=\"button\">Research &amp; Innovation</a>\n",
      "</div>\n",
      "</div>, <div class=\"item-content\">\n",
      "<div class=\"item-year\">1966</div>\n",
      "<div class=\"item-title\">\n",
      "<h3>Future NIAID director Fauci graduates</h3>\n",
      "</div>\n",
      "<div class=\"item-desc\">\n",
      "<p><a href=\"https://alumni.cornell.edu/cornellians/fauci-documentary/\">Anthony Fauci</a> M.D. ’66 graduates with his Doctor of Medicine. Fauci goes on to serve as the director of the National Institute of Allergy and Infectious Diseases and as chief medical advisor to President Joe Biden. President George W. Bush awards Fauci the Presidential Medal of Freedom in 2008 for his contributions to an AIDS relief program, PEPFAR.</p>\n",
      "</div>\n",
      "<div class=\"item-categories\" role=\"group\">\n",
      "<a class=\"filter-button-js category-button tag-16\" href=\"item-list\" role=\"button\">Research &amp; Innovation</a>\n",
      "<a class=\"filter-button-js category-button tag-17\" href=\"item-list\" role=\"button\">Cornellians</a>\n",
      "</div>\n",
      "</div>, <div class=\"item-content\">\n",
      "<div class=\"item-year\">1967</div>\n",
      "<div class=\"item-title\">\n",
      "<h3>Men’s hockey team wins first NCAA title</h3>\n",
      "</div>\n",
      "<div class=\"item-desc\">\n",
      "<p>Playing in its first Frozen Four, the <a href=\"https://cornellbigred.com/sports/mens-ice-hockey/roster/1966-67\">Big Red hockey squad</a> defeats Boston University, 4-1, at the War Memorial Arena in Syracuse, New York to win its first NCAA hockey championship. The team again <a href=\"https://cornellbigred.com/sports/mens-ice-hockey/roster/1969-70\">wins the title in 1970</a> with a 29-0-0 record‚ the only unbeaten, untied national championship season in NCAA hockey history.</p>\n",
      "</div>\n",
      "<div class=\"item-categories\" role=\"group\">\n",
      "<a class=\"filter-button-js category-button tag-15\" href=\"item-list\" role=\"button\">Milestones</a>\n",
      "<a class=\"filter-button-js category-button tag-18\" href=\"item-list\" role=\"button\">Uniquely Cornell</a>\n",
      "<a class=\"filter-button-js category-button tag-20\" href=\"item-list\" role=\"button\">Athletics</a>\n",
      "</div>\n",
      "</div>, <div class=\"item-content\">\n",
      "<div class=\"item-year\">1967</div>\n",
      "<div class=\"item-title\">\n",
      "<h3>Innovation underground</h3>\n",
      "</div>\n",
      "<div class=\"item-desc\">\n",
      "<p><div>At its opening, the Wilson Synchrotron is Cornell's largest single construction and the world's largest particle accelerator, for use in physics, materials science and biology. With <a href=\"https://www.chess.cornell.edu/index.php/about/history\">expansions over the years</a>, the facility includes a tunnel buried 40 feet beneath Cornell's track complex, creating a giant ring with a half-mile circumference.<br/></div></p>\n",
      "</div>\n",
      "<div class=\"item-categories\" role=\"group\">\n",
      "<a class=\"filter-button-js category-button tag-16\" href=\"item-list\" role=\"button\">Research &amp; Innovation</a>\n",
      "<a class=\"filter-button-js category-button tag-18\" href=\"item-list\" role=\"button\">Uniquely Cornell</a>\n",
      "</div>\n",
      "</div>, <div class=\"item-content\">\n",
      "<div class=\"item-year\">1968</div>\n",
      "<div class=\"item-title\">\n",
      "<h3>Collingwood is first U.S. network journalist in North Vietnam</h3>\n",
      "</div>\n",
      "<div class=\"item-desc\">\n",
      "<p>CBS News broadcasts an Emmy Award-nominated personal documentary on the North Vietnamese capital by <a href=\"https://digital.library.cornell.edu/?f%5Barchival_collection_tesim%5D%5B%5D=A.J.+Liebling+collection\">Charles Collingwood</a> ’39 titled “Hanoi: A Report By Charles Collingwood.” The chief foreign correspondent for CBS News, Collingwood is the first American network journalist to visit North Vietnam and his reports earn him an Overseas Press Club Award.</p>\n",
      "</div>\n",
      "<div class=\"item-categories\" role=\"group\">\n",
      "<a class=\"filter-button-js category-button tag-17\" href=\"item-list\" role=\"button\">Cornellians</a>\n",
      "</div>\n",
      "</div>, <div class=\"item-content\">\n",
      "<div class=\"item-year\">1968</div>\n",
      "<div class=\"item-title\">\n",
      "<h3>RNA structure discovery leads to Nobel Prize</h3>\n",
      "</div>\n",
      "<div class=\"item-desc\">\n",
      "<p><a href=\"https://www.cornell.edu/video/dedication-of-the-robert-w-holley-center-for-agriculture-and-health\">Robert W. Holley</a> wins the Nobel Prize in Physiology or Medicine for his work interpreting the genetic code and its function in protein synthesis. Holley was the first to isolate and map the structure of transfer RNA‚ or tRNA‚ a key molecule that carries amino acids to ribosomes to produce proteins.</p>\n",
      "</div>\n",
      "<div class=\"item-categories\" role=\"group\">\n",
      "<a class=\"filter-button-js category-button tag-16\" href=\"item-list\" role=\"button\">Research &amp; Innovation</a>\n",
      "<a class=\"filter-button-js category-button tag-17\" href=\"item-list\" role=\"button\">Cornellians</a>\n",
      "</div>\n",
      "</div>, <div class=\"item-content\">\n",
      "<div class=\"item-year\">1968</div>\n",
      "<div class=\"item-title\">\n",
      "<h3>Sagan arrives at Cornell</h3>\n",
      "</div>\n",
      "<div class=\"item-desc\">\n",
      "<p>A star of science and the small screen, astronomy and space sciences professor and director of the <a href=\"https://research.astro.cornell.edu/\">Laboratory for Planetary Studies</a>, <a href=\"https://news.cornell.edu/stories/1996/12/carl-sagan-cornell-astronomer-dies-today-dec-20-seattle\">Carl Sagan</a> shares his sense of wonder about nature through the 1980s PBS series “Cosmos; A Personal Voyage” and his Pulitzer Prize-winning book, “The Dragons Research Stations of Eden.” In 2015, the <a href=\"https://carlsaganinstitute.cornell.edu/\">Carl Sagan Institute</a> was founded at Cornell to explore other worlds both inside and outside our solar system.</p>\n",
      "</div>\n",
      "<div class=\"item-categories\" role=\"group\">\n",
      "<a class=\"filter-button-js category-button tag-16\" href=\"item-list\" role=\"button\">Research &amp; Innovation</a>\n",
      "<a class=\"filter-button-js category-button tag-17\" href=\"item-list\" role=\"button\">Cornellians</a>\n",
      "</div>\n",
      "</div>, <div class=\"item-content\">\n",
      "<div class=\"item-year\">1969</div>\n",
      "<div class=\"item-title\">\n",
      "<h3>The Cornell Conference on Women convenes</h3>\n",
      "</div>\n",
      "<div class=\"item-desc\">\n",
      "<p>The <a href=\"https://olinuris.library.cornell.edu/conference-on-women\">Cornell Conference on Women</a> takes place over a four-day period during winter intersession. Sessions attract more than 2,000 attendees from Cornell and the Ithaca community. <a href=\"https://news.cornell.edu/stories/2006/02/betty-friedan-womens-movement-icon-taught-cornell\">Betty Friedan</a> and Kate Millett return to campus for the conference. Three years later, on March 31, 1972, the <a href=\"https://fgss.cornell.edu/\">Women's Studies Program</a> is founded, one of the earliest programs of its kind in the country.</p>\n",
      "</div>\n",
      "<div class=\"item-categories\" role=\"group\">\n",
      "<a class=\"filter-button-js category-button tag-18\" href=\"item-list\" role=\"button\">Uniquely Cornell</a>\n",
      "<a class=\"filter-button-js category-button tag-19\" href=\"item-list\" role=\"button\">Any Person Any Study</a>\n",
      "</div>\n",
      "</div>, <div class=\"item-content\">\n",
      "<div class=\"item-year\">1969</div>\n",
      "<div class=\"item-title\">\n",
      "<h3>Grumman helps humanity reach new heights</h3>\n",
      "</div>\n",
      "<div class=\"item-desc\">\n",
      "<p>An aeronautical engineer, test pilot and industrialist, <a href=\"https://engineering.library.cornell.edu/early-cornell-engineering-alumni-inventors/\">Leroy Randle Grumman</a> 1916 co-founds Grumman Aeronautical Engineering in 1929. On July 20, 1969, the Grumman-made Apollo lunar module carries astronauts Neil Armstrong and Buzz Aldrin to make the first landing on the moon.</p>\n",
      "</div>\n",
      "<div class=\"item-categories\" role=\"group\">\n",
      "<a class=\"filter-button-js category-button tag-16\" href=\"item-list\" role=\"button\">Research &amp; Innovation</a>\n",
      "<a class=\"filter-button-js category-button tag-17\" href=\"item-list\" role=\"button\">Cornellians</a>\n",
      "</div>\n",
      "</div>, <div class=\"item-content\">\n",
      "<div class=\"item-year\">1970</div>\n",
      "<div class=\"item-title\">\n",
      "<h3>Redding is first African American full professor in Arts and Sciences</h3>\n",
      "</div>\n",
      "<div class=\"item-desc\">\n",
      "<p><a href=\"https://ecommons.cornell.edu/bitstream/handle/1813/19226/Redding_J_Saunders_1988.pdf?sequence=2&amp;isAllowed=y\">J. Saunders Redding</a> is named the Ernest I. White Professorship in American Studies, making him the first full African American professor in the <a href=\"https://as.cornell.edu/\">College of Arts and Sciences</a> and the first African American to hold an endowed professorship in literary criticism at an Ivy League university. At Redding’s insistence, Humane Letters was added to the professorship's title and remains there to this day.</p>\n",
      "</div>\n",
      "<div class=\"item-categories\" role=\"group\">\n",
      "<a class=\"filter-button-js category-button tag-17\" href=\"item-list\" role=\"button\">Cornellians</a>\n",
      "<a class=\"filter-button-js category-button tag-19\" href=\"item-list\" role=\"button\">Any Person Any Study</a>\n",
      "</div>\n",
      "</div>, <div class=\"item-content\">\n",
      "<div class=\"item-year\">1970</div>\n",
      "<div class=\"item-title\">\n",
      "<h3>DNA sequencing and fundamental tools for DNA cloning developed</h3>\n",
      "</div>\n",
      "<div class=\"item-desc\">\n",
      "<p>Plant genetics pioneer <a href=\"https://news.cornell.edu/stories/2008/02/ray-wu-acclaimed-pioneer-genetic-engineering-dies-79\">Ray Wu</a> invents the first method for sequencing DNA, enabling researchers to more closely understand how genes work. Wu’s invention leads to further development of widely grown rice plants resistant to pests, drought and salt.</p>\n",
      "</div>\n",
      "<div class=\"item-categories\" role=\"group\">\n",
      "<a class=\"filter-button-js category-button tag-16\" href=\"item-list\" role=\"button\">Research &amp; Innovation</a>\n",
      "</div>\n",
      "</div>, <div class=\"item-content\">\n",
      "<div class=\"item-year\">1971</div>\n",
      "<div class=\"item-title\">\n",
      "<h3>Big Red lax wins first NCAA title</h3>\n",
      "</div>\n",
      "<div class=\"item-desc\">\n",
      "<p>In the first-ever NCAA lacrosse tournament the <a href=\"https://cornellbigred.com/sports/mens-lacrosse/roster/1971\">Big Red</a> beats Maryland, 12-6, to win its first NCAA championship.</p>\n",
      "</div>\n",
      "<div class=\"item-categories\" role=\"group\">\n",
      "<a class=\"filter-button-js category-button tag-20\" href=\"item-list\" role=\"button\">Athletics</a>\n",
      "</div>\n",
      "</div>, <div class=\"item-content\">\n",
      "<div class=\"item-year\">1972</div>\n",
      "<div class=\"item-title\">\n",
      "<h3>Sy Katz starts a little rogue parade</h3>\n",
      "</div>\n",
      "<div class=\"item-desc\">\n",
      "<p>Following the Cornell-Columbia rivalry football game in New York City, Cornell and Big Red Band enthusiast Seymour “Sy” Katz ’31 drums up a one-block parade down 50th Street to the Cornell Club. Today, the semi-annual <a href=\"https://alumni.cornell.edu/come-back/cornell-traditions/sy-katz-31-parade/\">Sy Katz ’31 Parade</a> is a chance for the Big Red Band to shine and for Cornellians to showcase their Big Red pride.</p>\n",
      "</div>\n",
      "<div class=\"item-categories\" role=\"group\">\n",
      "<a class=\"filter-button-js category-button tag-17\" href=\"item-list\" role=\"button\">Cornellians</a>\n",
      "<a class=\"filter-button-js category-button tag-18\" href=\"item-list\" role=\"button\">Uniquely Cornell</a>\n",
      "<a class=\"filter-button-js category-button tag-20\" href=\"item-list\" role=\"button\">Athletics</a>\n",
      "</div>\n",
      "</div>, <div class=\"item-content\">\n",
      "<div class=\"item-year\">1973</div>\n",
      "<div class=\"item-title\">\n",
      "<h3>Herbert F. Johnson Art Museum opens</h3>\n",
      "</div>\n",
      "<div class=\"item-desc\">\n",
      "<p>Designed by I.M. Pei &amp; Partners, the <a href=\"https://museum.cornell.edu/\">museum</a>‚ named for its benefactor and graduate of the class of 1922‚ typically welcomes more than 80,000 visitors annually. Holdings include 35,000 works from cultures around the world representing six millennia.</p>\n",
      "</div>\n",
      "<div class=\"item-categories\" role=\"group\">\n",
      "<a class=\"filter-button-js category-button tag-15\" href=\"item-list\" role=\"button\">Milestones</a>\n",
      "<a class=\"filter-button-js category-button tag-18\" href=\"item-list\" role=\"button\">Uniquely Cornell</a>\n",
      "</div>\n",
      "</div>, <div class=\"item-content\">\n",
      "<div class=\"item-year\">1974</div>\n",
      "<div class=\"item-title\">\n",
      "<h3>Actor Reeve graduates</h3>\n",
      "</div>\n",
      "<div class=\"item-desc\">\n",
      "<p><a href=\"https://news.cornell.edu/stories/2006/11/actor-superman-hero-cornell-honors-christopher-reeve-74\">Christopher Reeve</a> ’74, a film and stage actor best known for his portrayal of Superman, graduates with a degree in English. Reeve followed in his father's footsteps to attend Cornell and following an equestrian accident in 1995 that left him paralyzed, became a tireless advocate for the disabled and for medical research until his death in 2004.</p>\n",
      "</div>\n",
      "<div class=\"item-categories\" role=\"group\">\n",
      "<a class=\"filter-button-js category-button tag-17\" href=\"item-list\" role=\"button\">Cornellians</a>\n",
      "</div>\n",
      "</div>, <div class=\"item-content\">\n",
      "<div class=\"item-year\">1977</div>\n",
      "<div class=\"item-title\">\n",
      "<h3>Deadheads at Cornell</h3>\n",
      "</div>\n",
      "<div class=\"item-desc\">\n",
      "<p>Based solely on audience recordings, future Grateful Dead archivist Dick Latvala declares one show in the band's 1977 tour possibly their best performance ever. That show? The <a href=\"https://news.cornell.edu/stories/2017/05/campus-community-celebrate-cornell-77-grateful-dead-concert\">Grateful Dead's concert in Barton Hall</a>, a you-had-to-be-there moment.</p>\n",
      "</div>\n",
      "<div class=\"item-categories\" role=\"group\">\n",
      "<a class=\"filter-button-js category-button tag-18\" href=\"item-list\" role=\"button\">Uniquely Cornell</a>\n",
      "</div>\n",
      "</div>, <div class=\"item-content\">\n",
      "<div class=\"item-year\">1983</div>\n",
      "<div class=\"item-title\">\n",
      "<h3>McClintock receives Nobel Prize in Medicine</h3>\n",
      "</div>\n",
      "<div class=\"item-desc\">\n",
      "<p>Cytogeneticist <a href=\"https://news.cornell.edu/stories/2016/05/senior-honors-nobel-laureate-mcclintock-library-display\">Barbara McClintock</a> ’23, M.A. ’25, Ph.D. ’27 receives the 1983 Nobel Prize in Physiology and Medicine for her discovery of mobile genetic elements, also known as genetic transposition. She becomes the first woman in history to win an unshared Nobel Prize in Physiology or Medicine. In 2021, Cornell honors her memory with a name for a <a href=\"https://news.cornell.edu/stories/2021/03/residence-hall-names-honor-mcclintock-hu-cayuga-nation\">new North Campus residence hall</a>.</p>\n",
      "</div>\n",
      "<div class=\"item-categories\" role=\"group\">\n",
      "<a class=\"filter-button-js category-button tag-16\" href=\"item-list\" role=\"button\">Research &amp; Innovation</a>\n",
      "<a class=\"filter-button-js category-button tag-17\" href=\"item-list\" role=\"button\">Cornellians</a>\n",
      "</div>\n",
      "</div>, <div class=\"item-content\">\n",
      "<div class=\"item-year\">1985</div>\n",
      "<div class=\"item-title\">\n",
      "<h3>The world as a campus</h3>\n",
      "</div>\n",
      "<div class=\"item-desc\">\n",
      "<p>The <a href=\"https://abroad.globallearning.cornell.edu/\">Cornell Abroad</a> program begins, offering a wide array of opportunities for a meaningful international experience as part of a student's education‚ university study, language skills, fieldwork, service learning, internships and research.</p>\n",
      "</div>\n",
      "<div class=\"item-categories\" role=\"group\">\n",
      "<a class=\"filter-button-js category-button tag-15\" href=\"item-list\" role=\"button\">Milestones</a>\n",
      "<a class=\"filter-button-js category-button tag-16\" href=\"item-list\" role=\"button\">Research &amp; Innovation</a>\n",
      "<a class=\"filter-button-js category-button tag-19\" href=\"item-list\" role=\"button\">Any Person Any Study</a>\n",
      "</div>\n",
      "</div>, <div class=\"item-content\">\n",
      "<div class=\"item-year\">1985</div>\n",
      "<div class=\"item-title\">\n",
      "<h3>Harmon becomes first Cornellian to win Super Bowl ring</h3>\n",
      "</div>\n",
      "<div class=\"item-desc\">\n",
      "<p>Following a stellar football career at Cornell, <a href=\"https://cornellbigred.com/honors/hall-of-fame/derrick-t-harmon/412/kiosk\">Derrick Harmon</a> ’84 is a ninth-round draft pick by the San Francisco 49ers in 1984. In the following season he becomes the first Cornellian to win a Super Bowl ring.</p>\n",
      "</div>\n",
      "<div class=\"item-categories\" role=\"group\">\n",
      "<a class=\"filter-button-js category-button tag-17\" href=\"item-list\" role=\"button\">Cornellians</a>\n",
      "<a class=\"filter-button-js category-button tag-20\" href=\"item-list\" role=\"button\">Athletics</a>\n",
      "</div>\n",
      "</div>, <div class=\"item-content\">\n",
      "<div class=\"item-year\">1985</div>\n",
      "<div class=\"item-title\">\n",
      "<h3>Cornell in Washington program celebrates permanent D.C. home</h3>\n",
      "</div>\n",
      "<div class=\"item-desc\">\n",
      "<p>The <a href=\"https://sce.cornell.edu/ciw\">Cornell in Washington</a> (CIW) program celebrates its permanent home at 2148 O Street NW. Supporters mark the occasion by transplanting ivy from the <a href=\"https://cornellbotanicgardens.org/\">Cornell Botanic Gardens</a> on the walls of the building and soaking it with water from Beebe Lake. The Dupont-neighborhood building is renamed the <a href=\"https://sce.cornell.edu/ciw/student-life/life-in-dc\">Cornell University Wolpe Center</a> in 2003.</p>\n",
      "</div>\n",
      "<div class=\"item-categories\" role=\"group\">\n",
      "<a class=\"filter-button-js category-button tag-15\" href=\"item-list\" role=\"button\">Milestones</a>\n",
      "</div>\n",
      "</div>, <div class=\"item-content\">\n",
      "<div class=\"item-year\">1987</div>\n",
      "<div class=\"item-title\">\n",
      "<h3>Asian American Studies program founded</h3>\n",
      "</div>\n",
      "<div class=\"item-desc\">\n",
      "<p>Cornell's <a href=\"https://asianamericanstudies.cornell.edu/\">Asian American Studies program</a>, the first of its kind in the Ivy League, focuses on the transnational, comparative and interdisciplinary dimensions of Asian America. Courses provide a cultural, historical, social and political context for understanding Asian Americans' place within the university and beyond.</p>\n",
      "</div>\n",
      "<div class=\"item-categories\" role=\"group\">\n",
      "<a class=\"filter-button-js category-button tag-15\" href=\"item-list\" role=\"button\">Milestones</a>\n",
      "<a class=\"filter-button-js category-button tag-19\" href=\"item-list\" role=\"button\">Any Person Any Study</a>\n",
      "</div>\n",
      "</div>, <div class=\"item-content\">\n",
      "<div class=\"item-year\">1990</div>\n",
      "<div class=\"item-title\">\n",
      "<h3>WuDunn shares Pulitzer Prize for International Reporting</h3>\n",
      "</div>\n",
      "<div class=\"item-desc\">\n",
      "<p><a href=\"https://news.cornell.edu/stories/2016/04/sheryl-wudunn-81-deliver-iscol-lecture-april-20\">Sheryl WuDunn</a> ’81, a history major, and her husband, Nicholas Kristof, share the Pulitzer Prize for International Reporting for their coverage of the Tiananmen Square protests of 1989. WuDunn is the first Asian-American journalist to win the prize.</p>\n",
      "</div>\n",
      "<div class=\"item-categories\" role=\"group\">\n",
      "<a class=\"filter-button-js category-button tag-17\" href=\"item-list\" role=\"button\">Cornellians</a>\n",
      "</div>\n",
      "</div>, <div class=\"item-content\">\n",
      "<div class=\"item-year\">1991</div>\n",
      "<div class=\"item-title\">\n",
      "<h3>Public Service Center is created</h3>\n",
      "</div>\n",
      "<div class=\"item-desc\">\n",
      "<p><a href=\"https://president.cornell.edu/the-presidency/frank-h-t-rhodes/\">President Frank H.T. Rhodes</a> establishes the Public Service Center at Cornell to coordinate, expand and institutionalize faculty and student community engagement and outreach. The Public Service Center merges with the Office of Engagement Initiatives in creating the <a href=\"https://scl.cornell.edu/get-involved/public-service-center\">David M. Einhorn Center for Community Engagement</a> in <a href=\"https://news.cornell.edu/stories/2021/06/new-center-expands-community-engagement-opportunities\">summer 2021</a>.</p>\n",
      "</div>\n",
      "<div class=\"item-categories\" role=\"group\">\n",
      "<a class=\"filter-button-js category-button tag-15\" href=\"item-list\" role=\"button\">Milestones</a>\n",
      "</div>\n",
      "</div>, <div class=\"item-content\">\n",
      "<div class=\"item-year\">1992</div>\n",
      "<div class=\"item-title\">\n",
      "<h3>Jemison takes Cornell to new heights</h3>\n",
      "</div>\n",
      "<div class=\"item-desc\">\n",
      "<p>Serving as a mission specialist on STS-47 Spacelab-J, a mission flown on the space shuttle Endeavour, <a href=\"https://news.cornell.edu/stories/2014/04/astronaut-credits-programs-helping-her-soar\">Mae Jemison</a> M.D. ’81 becomes the first African American woman to travel in space. Jemison resigns from NASA in 1993 to found the Jemison Group, Inc., which researches, markets and develops science and technology for daily life.</p>\n",
      "</div>\n",
      "<div class=\"item-categories\" role=\"group\">\n",
      "<a class=\"filter-button-js category-button tag-16\" href=\"item-list\" role=\"button\">Research &amp; Innovation</a>\n",
      "<a class=\"filter-button-js category-button tag-17\" href=\"item-list\" role=\"button\">Cornellians</a>\n",
      "</div>\n",
      "</div>, <div class=\"item-content\">\n",
      "<div class=\"item-year\">1993</div>\n",
      "<div class=\"item-title\">\n",
      "<h3>Bader Ginsburg joins Supreme Court</h3>\n",
      "</div>\n",
      "<div class=\"item-desc\">\n",
      "<p>Ruther Bader Ginsburg ’54 is sworn in as an associate justice of the United State Supreme Court, becoming the second woman to serve on the nation’s highest court. Ginsburg’s commitment the advancement of the rights of all people, particularly women, helps transform American society. Cornell celebrates her memory in 2020, <a href=\"https://news.cornell.edu/stories/2020/10/pollack-announces-residence-hall-namings-annual-address\">naming a North Campus Residence Hall</a> in her honor.</p>\n",
      "</div>\n",
      "<div class=\"item-categories\" role=\"group\">\n",
      "<a class=\"filter-button-js category-button tag-17\" href=\"item-list\" role=\"button\">Cornellians</a>\n",
      "</div>\n",
      "</div>, <div class=\"item-content\">\n",
      "<div class=\"item-year\">1993</div>\n",
      "<div class=\"item-title\">\n",
      "<h3>Bill Nye the Science Guy premieres</h3>\n",
      "</div>\n",
      "<div class=\"item-desc\">\n",
      "<p>The beloved television creation of William Nye ’77 debuts in syndication, featuring Nye's unique brand of kinetic and quirky science education. The show airs 100 half-hour episodes over five seasons. Nye remains closely connected to Cornell, returning on several occasions including as <a href=\"https://news.cornell.edu/stories/2019/05/nye-grads-dont-let-fear-stop-you-changing-world\">Convocation speaker</a>.</p>\n",
      "</div>\n",
      "<div class=\"item-categories\" role=\"group\">\n",
      "<a class=\"filter-button-js category-button tag-17\" href=\"item-list\" role=\"button\">Cornellians</a>\n",
      "</div>\n",
      "</div>, <div class=\"item-content\">\n",
      "<div class=\"item-year\">1994</div>\n",
      "<div class=\"item-title\">\n",
      "<h3>Lesbian, bisexual &amp; gay studies established</h3>\n",
      "</div>\n",
      "<div class=\"item-desc\">\n",
      "<p>To expand and institutionalize the sexuality component of the Women’s Studies program, a minor in Lesbian, Bisexual &amp; Gay (LBG) Studies is established at both the graduate and undergraduate levels‚ around the time when queer theory was taking root in academia. In 2009, LGB Studies changes its name to <a href=\"https://lgbt.cornell.edu/\">LGBT Studies</a>.</p>\n",
      "</div>\n",
      "<div class=\"item-categories\" role=\"group\">\n",
      "<a class=\"filter-button-js category-button tag-15\" href=\"item-list\" role=\"button\">Milestones</a>\n",
      "<a class=\"filter-button-js category-button tag-16\" href=\"item-list\" role=\"button\">Research &amp; Innovation</a>\n",
      "<a class=\"filter-button-js category-button tag-19\" href=\"item-list\" role=\"button\">Any Person Any Study</a>\n",
      "</div>\n",
      "</div>, <div class=\"item-content\">\n",
      "<div class=\"item-year\">1997</div>\n",
      "<div class=\"item-title\">\n",
      "<h3>“Pumpkin watch” begins</h3>\n",
      "</div>\n",
      "<div class=\"item-desc\">\n",
      "<p>The morning of October 8, Cornellians notice a large pumpkin impaled on the spire of McGraw Tower. The pumpkin, its placement and purpose <a href=\"https://news.cornell.edu/stories/2017/10/pumpkin-prank-perpetrator-puzzle-persists-20-years-later\">shrouded in mystery</a>, remains on the tower — 173 feet in the air — for 158 days, causing a buzz throughout the campus and beyond with non-stop coverage reports carried by the Associated Press, CNN and MTV.</p>\n",
      "</div>\n",
      "<div class=\"item-categories\" role=\"group\">\n",
      "<a class=\"filter-button-js category-button tag-18\" href=\"item-list\" role=\"button\">Uniquely Cornell</a>\n",
      "</div>\n",
      "</div>, <div class=\"item-content\">\n",
      "<div class=\"item-year\">1999</div>\n",
      "<div class=\"item-title\">\n",
      "<h3>Cornell Prison Education Program begins</h3>\n",
      "</div>\n",
      "<div class=\"item-desc\">\n",
      "<p>The program begins to offer courses for credit, charging neither tuition nor fees. The <a href=\"https://cpep.cornell.edu/\">Prison Education Program</a> provides a liberal arts curriculum leading to an Associate of Arts degree for men incarcerated at the Auburn, Cayuga and Five Points correctional facilities, helping them build meaningful lives inside prison and prepare for successful re-entry into civic life.</p>\n",
      "</div>\n",
      "<div class=\"item-categories\" role=\"group\">\n",
      "<a class=\"filter-button-js category-button tag-15\" href=\"item-list\" role=\"button\">Milestones</a>\n",
      "<a class=\"filter-button-js category-button tag-19\" href=\"item-list\" role=\"button\">Any Person Any Study</a>\n",
      "</div>\n",
      "</div>, <div class=\"item-content\">\n",
      "<div class=\"item-year\">2000</div>\n",
      "<div class=\"item-title\">\n",
      "<h3>Lake source cooling brings Cayuga’s chill to campus</h3>\n",
      "</div>\n",
      "<div class=\"item-desc\">\n",
      "<p>After a 1994 launch, Cornell’s <a href=\"https://fcs.cornell.edu/departments/energy-sustainability/utilities/cooling-home/cooling-production-home/lake-source-cooling\">Lake Source Cooling program</a> begins operation, using cold water from the depths of Cayuga Lake to chill water circulated through campus, cooling buildings while using a fraction of the electrical energy. The system — the first of its kind — <a href=\"https://news.cornell.edu/stories/2001/01/lake-source-cooling-project-wins-prestigious-new-york-governors-award-pollution\">wins several awards</a>, including the New York Governor’s Award for Pollution Prevention in 2001.</p>\n",
      "</div>\n",
      "<div class=\"item-categories\" role=\"group\">\n",
      "<a class=\"filter-button-js category-button tag-16\" href=\"item-list\" role=\"button\">Research &amp; Innovation</a>\n",
      "</div>\n",
      "</div>, <div class=\"item-content\">\n",
      "<div class=\"item-year\">2001</div>\n",
      "<div class=\"item-title\">\n",
      "<h3>Cornell establishes medical college in Qatar</h3>\n",
      "</div>\n",
      "<div class=\"item-desc\">\n",
      "<p>Weill Cornell Medical College-Qatar is <a href=\"https://news.cornell.edu/stories/2001/04/cornell-university-establish-medical-school-qatar\">established in Doha, Qatar</a>, via a partnership with the Qatar Foundation for Education, Science, and Community Development. With its dedication in October 2003, it is the first American medical school overseas.</p>\n",
      "</div>\n",
      "<div class=\"item-categories\" role=\"group\">\n",
      "<a class=\"filter-button-js category-button tag-15\" href=\"item-list\" role=\"button\">Milestones</a>\n",
      "<a class=\"filter-button-js category-button tag-16\" href=\"item-list\" role=\"button\">Research &amp; Innovation</a>\n",
      "</div>\n",
      "</div>, <div class=\"item-content\">\n",
      "<div class=\"item-year\">2001</div>\n",
      "<div class=\"item-title\">\n",
      "<h3>First-year students move into North Campus</h3>\n",
      "</div>\n",
      "<div class=\"item-desc\">\n",
      "<p>Move-In Day marks the first time that all first-year students will live in one place: the new residence halls on North Campus. The <a href=\"https://ncre.cornell.edu/what-north-campus-residential-expansion\">North Campus Residential Expansion</a>, reaching completion in 2022, creates even further enriched living-learning experiences for students.</p>\n",
      "</div>\n",
      "<div class=\"item-categories\" role=\"group\">\n",
      "<a class=\"filter-button-js category-button tag-15\" href=\"item-list\" role=\"button\">Milestones</a>\n",
      "</div>\n",
      "</div>, <div class=\"item-content\">\n",
      "<div class=\"item-year\">2004</div>\n",
      "<div class=\"item-title\">\n",
      "<h3>Mars Rover discoveries are Science’s Breakthrough of the Year</h3>\n",
      "</div>\n",
      "<div class=\"item-desc\">\n",
      "<p>The Mars rover Spirit lands on Mars, followed by Opportunity three weeks later. Astronomy professor Steven Squyres is principal investigator on both missions. The rovers, outfitted with Cornell-designed scientific instruments, <a href=\"https://news.cornell.edu/stories/2004/12/science-names-mars-discovery-breakthrough-year\">find evidence</a> that liquid water existed at some point in Martian history. Initially expected to have 90-days of roving, Opportunity ends its mission in 2019.</p>\n",
      "</div>\n",
      "<div class=\"item-categories\" role=\"group\">\n",
      "<a class=\"filter-button-js category-button tag-16\" href=\"item-list\" role=\"button\">Research &amp; Innovation</a>\n",
      "</div>\n",
      "</div>, <div class=\"item-content\">\n",
      "<div class=\"item-year\">2007</div>\n",
      "<div class=\"item-title\">\n",
      "<h3>A Madison Square Garden hockey tradition is born</h3>\n",
      "</div>\n",
      "<div class=\"item-desc\">\n",
      "<p>In what becomes a Thanksgiving weekend tradition, Cornell takes on Boston University in the first-ever sold out college hockey game at the Garden. The “Red Hot Hockey” game between Cornell and Boston University alternates with the Frozen Apple Series played against a slew of opponents, drawing the Lynah Faithful to the city in droves every year.</p>\n",
      "</div>\n",
      "<div class=\"item-categories\" role=\"group\">\n",
      "<a class=\"filter-button-js category-button tag-18\" href=\"item-list\" role=\"button\">Uniquely Cornell</a>\n",
      "<a class=\"filter-button-js category-button tag-20\" href=\"item-list\" role=\"button\">Athletics</a>\n",
      "</div>\n",
      "</div>, <div class=\"item-content\">\n",
      "<div class=\"item-year\">2008</div>\n",
      "<div class=\"item-title\">\n",
      "<h3>Díaz wins Pulitzer Prize for Fiction</h3>\n",
      "</div>\n",
      "<div class=\"item-desc\">\n",
      "<p>Author Junot Díaz MFA ’95 <a href=\"https://news.cornell.edu/stories/2008/04/junot-diaz-mfa-95-wins-pulitzer-prize-fiction\">receives the 2008 Pulitzer Prize for Fiction</a> for his novel “The Brief Wondrous Life of Oscar Wao.” Díaz is the third Cornell graduate (after Toni Morrison MFA ’55 and Pearl S. Buck MA ’25) to receive the award.</p>\n",
      "</div>\n",
      "<div class=\"item-categories\" role=\"group\">\n",
      "<a class=\"filter-button-js category-button tag-17\" href=\"item-list\" role=\"button\">Cornellians</a>\n",
      "</div>\n",
      "</div>, <div class=\"item-content\">\n",
      "<div class=\"item-year\">2008</div>\n",
      "<div class=\"item-title\">\n",
      "<h3>Women’s basketball claims first Ivy Title</h3>\n",
      "</div>\n",
      "<div class=\"item-desc\">\n",
      "<p>The Big Red women’s basketball team completes its <a href=\"https://news.cornell.edu/stories/2008/03/womens-basketball-team-heading-its-first-big-dance\">best season in its history</a> by winning its first Ivy League championship, earning an invitation to the NCAA basketball tournament. The team finishes with a 20-9 record (11-3 Ivy).</p>\n",
      "</div>\n",
      "<div class=\"item-categories\" role=\"group\">\n",
      "<a class=\"filter-button-js category-button tag-20\" href=\"item-list\" role=\"button\">Athletics</a>\n",
      "</div>\n",
      "</div>, <div class=\"item-content\">\n",
      "<div class=\"item-year\">2012</div>\n",
      "<div class=\"item-title\">\n",
      "<h3>Human Ecology Building earns LEED Platinum Rating</h3>\n",
      "</div>\n",
      "<div class=\"item-desc\">\n",
      "<p>With certification by the U.S. Green Building Council, the Human Ecology Building <a href=\"https://news.cornell.edu/stories/2012/09/human-ecology-building-earns-leed-platinum-rating\">earns a LEED Platinum rating</a> — the highest rating for sustainable structures — making it the first building to achieve the distinction on the Cornell campus. <a href=\"https://sustainablecampus.cornell.edu/campus-initiatives/buildings-energy/green-buildings\">Four more Cornell buildings</a> later earn LEED Platinum ratings, among the 28 total certified green buildings.</p>\n",
      "</div>\n",
      "<div class=\"item-categories\" role=\"group\">\n",
      "<a class=\"filter-button-js category-button tag-15\" href=\"item-list\" role=\"button\">Milestones</a>\n",
      "<a class=\"filter-button-js category-button tag-16\" href=\"item-list\" role=\"button\">Research &amp; Innovation</a>\n",
      "</div>\n",
      "</div>, <div class=\"item-content\">\n",
      "<div class=\"item-year\">2013</div>\n",
      "<div class=\"item-title\">\n",
      "<h3>Dake named SI College Athlete of the Year</h3>\n",
      "</div>\n",
      "<div class=\"item-desc\">\n",
      "<p>Kyle Dake ’13 is the <a href=\"https://news.cornell.edu/stories/2013/05/sports-illustrated-names-dake-college-athlete-year\">inaugural Sports Illustrated Male College Athlete of the Year</a>. The four-time Academic All-American finishes with a collegiate record of 137-4, including winning his final 79 matches. Dake continues his wrestling career, winning back-to-back World Championships and earning a <a href=\"https://cornellbigred.com/news/2021/8/6/wrestling-kyle-dake-13-claims-bronze-in-tokyo.aspx\">bronze medal</a> in the 2020 Summer Olympics.</p>\n",
      "</div>\n",
      "<div class=\"item-categories\" role=\"group\">\n",
      "<a class=\"filter-button-js category-button tag-17\" href=\"item-list\" role=\"button\">Cornellians</a>\n",
      "<a class=\"filter-button-js category-button tag-20\" href=\"item-list\" role=\"button\">Athletics</a>\n",
      "</div>\n",
      "</div>, <div class=\"item-content\">\n",
      "<div class=\"item-year\">2014</div>\n",
      "<div class=\"item-title\">\n",
      "<h3>Abrams receives National Humanities Medal</h3>\n",
      "</div>\n",
      "<div class=\"item-desc\">\n",
      "<p>Cited “for expanding our perceptions of the Romantic tradition and broadening the study of literature,” English Professor Emeritus M.H. Abrams <a href=\"https://news.cornell.edu/stories/2014/07/mh-abrams-receive-national-humanities-medal\">receives the National Humanities Medal</a> from President Barack Obama and the National Endowment for the Humanities.</p>\n",
      "</div>\n",
      "<div class=\"item-categories\" role=\"group\">\n",
      "<a class=\"filter-button-js category-button tag-17\" href=\"item-list\" role=\"button\">Cornellians</a>\n",
      "</div>\n",
      "</div>, <div class=\"item-content\">\n",
      "<div class=\"item-year\">2014</div>\n",
      "<div class=\"item-title\">\n",
      "<h3>Rev incubator supports entrepreneurs in Ithaca</h3>\n",
      "</div>\n",
      "<div class=\"item-desc\">\n",
      "<p>Cornell is a key partner in the <a href=\"https://news.cornell.edu/stories/2014/09/revs-first-members-welcomed-grand-opening\">launch of Rev: Ithaca Startup Works</a> in downtown Ithaca. A place for regional entrepreneurs to grow their businesses, use workspace and receive mentorship from seasoned professionals, Rev is a partnership among Cornell, Ithaca College and Tompkins Cortland Community College.</p>\n",
      "</div>\n",
      "<div class=\"item-categories\" role=\"group\">\n",
      "<a class=\"filter-button-js category-button tag-15\" href=\"item-list\" role=\"button\">Milestones</a>\n",
      "<a class=\"filter-button-js category-button tag-16\" href=\"item-list\" role=\"button\">Research &amp; Innovation</a>\n",
      "</div>\n",
      "</div>, <div class=\"item-content\">\n",
      "<div class=\"item-year\">2015</div>\n",
      "<div class=\"item-title\">\n",
      "<h3>First puppies born by in vitro fertilization</h3>\n",
      "</div>\n",
      "<div class=\"item-desc\">\n",
      "<p>Research at the Baker Institute for Animal Health in the College of Veterinary Medicine leads to the world's first litter of <a href=\"https://news.cornell.edu/stories/2015/12/research-leads-first-puppies-born-vitro-fertilization\">puppies born by <em>in vitro</em> fertilization</a>, opening the door for conserving endangered canid species, using gene-editing technologies to eradicate heritable diseases in dogs and for study of genetic diseases.</p>\n",
      "</div>\n",
      "<div class=\"item-categories\" role=\"group\">\n",
      "<a class=\"filter-button-js category-button tag-16\" href=\"item-list\" role=\"button\">Research &amp; Innovation</a>\n",
      "</div>\n",
      "</div>, <div class=\"item-content\">\n",
      "<div class=\"item-year\">2017</div>\n",
      "<div class=\"item-title\">\n",
      "<h3>Cornell Tech campus is dedicated in New York City</h3>\n",
      "</div>\n",
      "<div class=\"item-desc\">\n",
      "<p>After <a href=\"https://news.cornell.edu/stories/2011/12/nyc-chooses-cornell-technion-build-tech-campus\">winning a highly publicized competition</a> among the country's top research universities to build the campus with its partner, the Technion – Israel Institute of Technology, Cornell dedicates the Cornell Tech campus on Roosevelt Island. Seen as a powerful symbol of possibility at its dedication, Cornell Tech offers a graduate and professional education that focuses on research, education and innovation for the digital world.</p>\n",
      "</div>\n",
      "<div class=\"item-categories\" role=\"group\">\n",
      "<a class=\"filter-button-js category-button tag-15\" href=\"item-list\" role=\"button\">Milestones</a>\n",
      "<a class=\"filter-button-js category-button tag-16\" href=\"item-list\" role=\"button\">Research &amp; Innovation</a>\n",
      "</div>\n",
      "</div>, <div class=\"item-content\">\n",
      "<div class=\"item-year\">2017</div>\n",
      "<div class=\"item-title\">\n",
      "<h3>Gift names Cornell SC Johnson College of Business</h3>\n",
      "</div>\n",
      "<div class=\"item-desc\">\n",
      "<p>Following a <a href=\"https://news.cornell.edu/stories/2017/01/150m-gift-founds-cornell-sc-johnson-college-business\">$150 million gift</a> from H. Fisk Johnson ’79, M.Eng. ’80, M.S. ’82, MBA ’84, Ph.D. ’86, and SC Johnson, and in recognition of the Johnson family’s multigenerational legacy of philanthropy to Cornell, the Board of Trustees approves a name change for the College of Business, renaming it the Cornell SC Johnson College of Business.</p>\n",
      "</div>\n",
      "<div class=\"item-categories\" role=\"group\">\n",
      "<a class=\"filter-button-js category-button tag-15\" href=\"item-list\" role=\"button\">Milestones</a>\n",
      "</div>\n",
      "</div>, <div class=\"item-content\">\n",
      "<div class=\"item-year\">2019</div>\n",
      "<div class=\"item-title\">\n",
      "<h3>Cornell veterinarians become the official vets of Westminster</h3>\n",
      "</div>\n",
      "<div class=\"item-desc\">\n",
      "<p>Cornell’s College of Veterinary Medicine and its satellite clinic in Stamford, Connecticut are now the <a href=\"https://news.cornell.edu/stories/2019/02/caring-best-cornell-westminster-dog-show\">official providers of veterinary care</a> at the Westminster Kennel Club dog show.</p>\n",
      "</div>\n",
      "<div class=\"item-categories\" role=\"group\">\n",
      "<a class=\"filter-button-js category-button tag-18\" href=\"item-list\" role=\"button\">Uniquely Cornell</a>\n",
      "</div>\n",
      "</div>, <div class=\"item-content\">\n",
      "<div class=\"item-year\">2020</div>\n",
      "<div class=\"item-title\">\n",
      "<h3>Cornell adapts, gives back in face of COVID-19 pandemic</h3>\n",
      "</div>\n",
      "<div class=\"item-desc\">\n",
      "<p>The Cornell community <a href=\"https://news.cornell.edu/stories/2020/03/cornell-suspends-classes-virtual-instruction-begins-april-6\" target=\"_self\">rises to the challenges</a> of the COVID-19 pandemic. Cornellians also band together to donate crucial medical supplies and continue Cornell’s core education and research missions while maintaining safe health practices and implementing a <a href=\"https://news.cornell.edu/stories/2020/08/robots-know-how-drive-covid-labs-massive-testing-effort\">massive testing effort</a>.</p>\n",
      "</div>\n",
      "<div class=\"item-categories\" role=\"group\">\n",
      "<a class=\"filter-button-js category-button tag-16\" href=\"item-list\" role=\"button\">Research &amp; Innovation</a>\n",
      "<a class=\"filter-button-js category-button tag-17\" href=\"item-list\" role=\"button\">Cornellians</a>\n",
      "</div>\n",
      "</div>, <div class=\"item-content\">\n",
      "<div class=\"item-year\">2020</div>\n",
      "<div class=\"item-title\">\n",
      "<h3>Cornell forms school of public policy and university-wide departments</h3>\n",
      "</div>\n",
      "<div class=\"item-desc\">\n",
      "<p>The university reveals plans to launch a new school of public policy alongside university-wide departments drawing faculty from multiple colleges or schools in the disciplines of economics, psychology and sociology. A gift <a href=\"https://news.cornell.edu/stories/2021/06/gift-endows-names-cornell-jeb-e-brooks-school-public-policy\">endows and names</a> the school the Cornell Jeb E. Brooks School of Public Policy.</p>\n",
      "</div>\n",
      "<div class=\"item-categories\" role=\"group\">\n",
      "<a class=\"filter-button-js category-button tag-15\" href=\"item-list\" role=\"button\">Milestones</a>\n",
      "</div>\n",
      "</div>, <div class=\"item-content\">\n",
      "<div class=\"item-year\">2020</div>\n",
      "<div class=\"item-title\">\n",
      "<h3>Gift establishes new college of computing and information science</h3>\n",
      "</div>\n",
      "<div class=\"item-desc\">\n",
      "<p>A <a href=\"https://news.cornell.edu/stories/2020/12/gift-ann-s-bowers-59-creates-new-college-computing-and-information-science\">transformative gift</a> from a Silicon Valley champion and longtime philanthropist Ann S. Bowers ’59 lays the groundwork for and names the Cornell Ann S. Bowers College of Computing and Information Science, supporting Cornell’s preeminence in these fields and enabling construction of a new building.</p>\n",
      "</div>\n",
      "<div class=\"item-categories\" role=\"group\">\n",
      "<a class=\"filter-button-js category-button tag-15\" href=\"item-list\" role=\"button\">Milestones</a>\n",
      "<a class=\"filter-button-js category-button tag-16\" href=\"item-list\" role=\"button\">Research &amp; Innovation</a>\n",
      "</div>\n",
      "</div>, <div class=\"item-content\">\n",
      "<div class=\"item-year\">2021</div>\n",
      "<div class=\"item-title\">\n",
      "<h3>Perseverance Lands on Mars</h3>\n",
      "</div>\n",
      "<div class=\"item-desc\">\n",
      "<p>Launched seven months prior, the Perseverance rover lands on Mars’s surface. Several Cornell researchers are <a href=\"https://news.cornell.edu/stories/2021/02/raring-rove-perseverance-land-mars-feb-18\">involved with instrument design and development</a> on the rover, from cameras to radar imagers. Swati Mohan ’04, a NASA aerospace engineer and the mission’s guidance, navigation and controls operations lead, <a href=\"https://news.cornell.edu/stories/2021/02/touchdown-confirmed-swati-mohan-04-called-mars-landing\">calls the play-by-play landing</a> of the rover.</p>\n",
      "</div>\n",
      "<div class=\"item-categories\" role=\"group\">\n",
      "<a class=\"filter-button-js category-button tag-16\" href=\"item-list\" role=\"button\">Research &amp; Innovation</a>\n",
      "</div>\n",
      "</div>, <div class=\"item-content\">\n",
      "<div class=\"item-year\">2022</div>\n",
      "<div class=\"item-title\">\n",
      "<h3>North campus reshapes campus residential community</h3>\n",
      "</div>\n",
      "<div class=\"item-desc\">\n",
      "<p>With the final projects reaching completion in 2022, Cornell’s <a href=\"https://ncre.cornell.edu/\">North Campus Residential Expansion</a> creates new capacity for housing, dining, recreation, community building and more and provides intentional and consistent support during the most formative years of the <a href=\"https://alumni.cornell.edu/cornellians/north-campus-new-buildings-shape-community/\">student experience</a>. New buildings, named for a diverse group of Cornellians and the Cayuga Nation, include Toni Morrison Hall, Ganędagǫ: Hall, Barbara McClintock Hall, Hu Shih Hall and Ruth Bader Ginsburg Hall.</p>\n",
      "</div>\n",
      "<div class=\"item-categories\" role=\"group\">\n",
      "<a class=\"filter-button-js category-button tag-15\" href=\"item-list\" role=\"button\">Milestones</a>\n",
      "</div>\n",
      "</div>, <div class=\"item-content\">\n",
      "<div class=\"item-year\">2022</div>\n",
      "<div class=\"item-title\">\n",
      "<h3>Two-mile deep borehole explores potential for carbon-neutral heat</h3>\n",
      "</div>\n",
      "<div class=\"item-desc\">\n",
      "<p><div>The drilling of the <a href=\"https://news.cornell.edu/stories/2022/06/2-mile-borehole-reveal-viability-campuss-geothermal-future\">Cornell University Borehole Observatory</a> enables researchers to obtain data that will allow the university to determine whether it can move forward with <a href=\"https://earthsourceheat.cornell.edu/\">Earth Source Heat</a>, a deep geothermal system that would use the Earth's internal heat to warm the Ithaca campus without the use of fossil fuels. The system could also provide a blueprint for similar renewable energy efforts elsewhere.<br/></div></p>\n",
      "</div>\n",
      "<div class=\"item-categories\" role=\"group\">\n",
      "<a class=\"filter-button-js category-button tag-16\" href=\"item-list\" role=\"button\">Research &amp; Innovation</a>\n",
      "</div>\n",
      "</div>]\n"
     ]
    }
   ],
   "source": [
    "# your code here\n",
    "item_content = page.find_all(\"div\", {\"class\":\"item-content\"})\n",
    "print(item_content)"
   ]
  },
  {
   "cell_type": "markdown",
   "metadata": {
    "id": "Fv7qPVzZY9RT"
   },
   "source": [
    "5. Access the year, title, and summary text at the 10th index position. Print these."
   ]
  },
  {
   "cell_type": "code",
   "execution_count": 8,
   "metadata": {
    "colab": {
     "base_uri": "https://localhost:8080/"
    },
    "id": "uTGUOlmS4sua",
    "outputId": "1ecf1049-3669-4dc7-9407-4a2f2f471775"
   },
   "outputs": [
    {
     "name": "stdout",
     "output_type": "stream",
     "text": [
      "<div class=\"item-content\">\n",
      "<div class=\"item-year\">1885</div>\n",
      "<div class=\"item-title\">\n",
      "<h3>Smith pioneers medical research</h3>\n",
      "</div>\n",
      "<div class=\"item-desc\">\n",
      "<p>Theobald Smith 1881, an epidemiologist who studied Texas cattle fever, anaphylaxis, and hog cholera, discovers the first Salmonella bacterium while working for the United States Department of Agriculture. He names the species after fellow Cornell graduate Daniel Elmer Salmon DVM 1876.</p>\n",
      "</div>\n",
      "<div class=\"item-categories\" role=\"group\">\n",
      "<a class=\"filter-button-js category-button tag-16\" href=\"item-list\" role=\"button\">Research &amp; Innovation</a>\n",
      "<a class=\"filter-button-js category-button tag-17\" href=\"item-list\" role=\"button\">Cornellians</a>\n",
      "</div>\n",
      "</div>\n"
     ]
    }
   ],
   "source": [
    "# your code here\n",
    "print(item_content[10])"
   ]
  },
  {
   "cell_type": "markdown",
   "metadata": {
    "id": "WuBB_nwAZTlQ"
   },
   "source": [
    "6. Collect all years, titles, and summaries in the list of timeline events. Add each of these to a list (`year_l`, `title_l`, and `summary_l`)."
   ]
  },
  {
   "cell_type": "code",
   "execution_count": 11,
   "metadata": {
    "id": "a0J29HLt5AIs"
   },
   "outputs": [
    {
     "name": "stdout",
     "output_type": "stream",
     "text": [
      "['1862', '1865', '1868', '1868', '1870', '1871', '1873', '1875', '1876', '1880', '1885', '1887', '1888', '1890', '1894', '1894', '1898', '1901', '1901', '1902', '1905', '1905', '1906', '1907', '1909', '1910', '1910', '1914', '1914', '1914', '1915', '1915', '1917', '1918', '1921', '1922', '1923', '1925', '1928', '1931', '1932', '1935', '1936', '1937', '1941', '1945', '1946', '1947', '1948', '1949', '1953', '1958', '1960', '1961', '1963', '1963', '1963', '1964', '1964', '1966', '1967', '1967', '1968', '1968', '1968', '1969', '1969', '1970', '1970', '1971', '1972', '1973', '1974', '1977', '1983', '1985', '1985', '1985', '1987', '1990', '1991', '1992', '1993', '1993', '1994', '1997', '1999', '2000', '2001', '2001', '2004', '2007', '2008', '2008', '2012', '2013', '2014', '2014', '2015', '2017', '2017', '2019', '2020', '2020', '2020', '2021', '2022', '2022']\n",
      "['A mission to serve New York state', 'Cornell charter signed into law', 'Cornell chimes ring for the first time', 'Cornell University opens', 'Sibley funds creation of engineering college', 'Trustees approve School of Architecture', 'Eastman is first female graduate', \"Coeducation: the 'Great Experiment'\", 'Daniel Salmon earns first DVM degree in America', 'Preston is first female doctoral graduate', 'Smith pioneers medical research', 'College of Law holds first classes', 'Agriculture college formed', 'First African American graduates', 'Veterinary college chartered', 'First woman in the U.S. earns a Ph.D. in psychology', 'Medical College founded in New York City', 'First Chinese student graduates', \"Inaugural 'Spring Day'\", 'Carrier creates a new way to stay cool', 'Groundbreaking author Fauset graduates', 'A colorful nickname for Cornell', 'Alpha Phi Alpha, the first Black fraternity, is founded', 'Department of Home Economics created', 'First Native American student graduates', \"Cornell Orchards' first fruit trees\", 'Kimball is first woman DVM in the country', 'Shih graduates', 'Cooperative Extension service formalized', 'First-known recording of the Alma Mater', 'Cornell Lab of O takes wing', 'First Big Red gridiron test', 'United States enters World War I', '“The Elements of Style” is published', 'Author E. B. White graduates', 'The world’s first undergraduate hospitality degree program is born', 'Van Rensselaer named one of 12 \"greatest\" women in the U.S.', 'First African American to earn mathematics Ph.D.', 'Researcher develops cancer test', 'Designed by a Cornellian, Empire State Building opens', 'Buck wins Pulitzer Prize', 'Cornell bread is born', 'First female photojournalist for Life magazine', 'Playwright, screenwriter and director Laurents graduates', 'United States enters World War II', 'New York State legislature establishes ILR School', 'School of Business and Public Administration opens', 'Correspondence with Einstein leads to creation of television camera tube', 'Nabokov arrives in Ithaca', 'Noyes donates copy of Gettysburg Address', \"America's first accredited wine course offered at School of Hotel Administration\", 'Greatbatch and the first pacemaker', 'Future U.S. Attorney General Reno graduates', 'Gogolak transforms place kicking', 'Chicken takes on a new form: chicken nuggets', 'Arecibo Observatory opens', 'Puff, the Magic Dragon born at Cornell, not Honalee', 'Committee on Special Educational Projects launches', 'A new sound defines an era', 'Future NIAID director Fauci graduates', 'Men’s hockey team wins first NCAA title', 'Innovation underground', 'Collingwood is first U.S. network journalist in North Vietnam', 'RNA structure discovery leads to Nobel Prize', 'Sagan arrives at Cornell', 'The Cornell Conference on Women convenes', 'Grumman helps humanity reach new heights', 'Redding is first African American full professor in Arts and Sciences', 'DNA sequencing and fundamental tools for DNA cloning developed', 'Big Red lax wins first NCAA title', 'Sy Katz starts a little rogue parade', 'Herbert F. Johnson Art Museum opens', 'Actor Reeve graduates', 'Deadheads at Cornell', 'McClintock receives Nobel Prize in Medicine', 'The world as a campus', 'Harmon becomes first Cornellian to win Super Bowl ring', 'Cornell in Washington program celebrates permanent D.C. home', 'Asian American Studies program founded', 'WuDunn shares Pulitzer Prize for International Reporting', 'Public Service Center is created', 'Jemison takes Cornell to new heights', 'Bader Ginsburg joins Supreme Court', 'Bill Nye the Science Guy premieres', 'Lesbian, bisexual & gay studies established', '“Pumpkin watch” begins', 'Cornell Prison Education Program begins', 'Lake source cooling brings Cayuga’s chill to campus', 'Cornell establishes medical college in Qatar', 'First-year students move into North Campus', 'Mars Rover discoveries are Science’s Breakthrough of the Year', 'A Madison Square Garden hockey tradition is born', 'Díaz wins Pulitzer Prize for Fiction', 'Women’s basketball claims first Ivy Title', 'Human Ecology Building earns LEED Platinum Rating', 'Dake named SI College Athlete of the Year', 'Abrams receives National Humanities Medal', 'Rev incubator supports entrepreneurs in Ithaca', 'First puppies born by in vitro fertilization', 'Cornell Tech campus is dedicated in New York City', 'Gift names Cornell SC Johnson College of Business', 'Cornell veterinarians become the official vets of Westminster', 'Cornell adapts, gives back in face of COVID-19 pandemic', 'Cornell forms school of public policy and university-wide departments', 'Gift establishes new college of computing and information science', 'Perseverance Lands on Mars', 'North campus reshapes campus residential community', 'Two-mile deep borehole explores potential for carbon-neutral heat']\n",
      "['The Morrill Land-Grant Act allows the federal government to appropriate public land, much of which had been expropriated from Indigenous Nations across the U.S., to develop and support public colleges. Three years later, Cornell is chartered as  New York’s land-grant university and charged with improving the lives and livelihoods of the state’s citizens through teaching, research and public service.', \"On April 27, state senators Andrew Dickson White and Ezra Cornell win passage of the bill that charters Cornell University establishing the university at the location of Ezra Cornell’s farm in Ithaca. Three years later, Cornell admits its first students and inaugurates A.D. White as Cornell's first president.\", \"The original set of nine bells first rings out at the university's opening ceremonies. Over time, the chimes have been recast and expanded to 21 bells. Presently three concerts are performed each day while classes are in session.\", 'Initially divided into two parts — the Division of the Special Sciences and Arts and the Division of Science, Literature and the Arts — Cornell opens its doors on October 7 under the leadership of its first president, A.D. White. The university welcomes 26 professors and 412 students, the largest entering class at any American university.', 'Hiram Sibley, one of the 10 incorporators of Cornell, provides funds to house and support the Sibley College of Mechanical Engineering and Mechanic Arts. In 1921, a unified College of Engineering combines mechanical and civil engineering. Today, Sibley Hall is the headquarters for the College of Architecture, Art, and Planning.', \"Persuaded by the advocacy — and architectural book collection — of President A.D. White, the trustees agree to found a school of architecture, the first four-year course in the United States. Charles Babcock is appointed as the first professor of architecture. Today's Architecture, Art and Planning is an internationally-recognized leader.\", \"Emma Sheffield Eastman 1873, a transfer student from Vassar, becomes the first woman to graduate from Cornell. After teaching science and math for a year in Portland, Maine, she works for women's suffrage for much of her life.\", 'Sage College, constructed to house women students at Cornell, welcomes 25 female students, making Cornell a pioneer in coeducation and attracting many applicants. Early graduates include two college presidents, Julia Josephine Thomas Irvine 1875 (Wellesley) and Martha Carey Thomas 1877 (Bryn Mawr); a publisher and author, Ruth Putnam 1878; and noted Cornell professor and scientist, Anna Botsford Comstock 1885.', 'Cornell confers the first Doctor of Veterinary Medicine (DVM) degree in the United States to Daniel Elmer Salmon DVM 1876, who later serves as the first chief of the U.S. Bureau of Animal Industry. He is best known today for pioneering the fight against contagious diseases.', \"American educator and suffragist May Preston Slosson Ph.D. 1880 becomes the first woman in the country to earn a Ph.D. in philosophy. She is also Cornell's first female doctoral graduate.\", 'Theobald Smith 1881, an epidemiologist who studied Texas cattle fever, anaphylaxis, and hog cholera, discovers the first Salmonella bacterium while working for the United States Department of Agriculture. He names the species after fellow Cornell graduate Daniel Elmer Salmon DVM 1876.', 'The College of Law begins operations in Morrill Hall with Judge Douglas Boardman as the first dean. The department is renamed Cornell Law School in 1925.', 'The Department of Agriculture (established in 1874) merges with the departments of agricultural chemistry, botany, entomology and veterinary medicine to form the Cornell College of Agriculture. Sixteen years later, the New York state legislature followed the federal lead and voted to provide ongoing funding to the college, establishing the New York State College of Agriculture at Cornell, adding “and Life Sciences” in 1971.', 'Charles Chauveau Cook\\xa01890 and Jane Eleanor Datcher\\xa01890 become the first African Americans to graduate from Cornell after a four-year course of study. George Washington Fields\\xa01890, a formerly enslaved person, becomes the first African American graduate of Cornell Law School and one of the first people of color to graduate from any law school in the United States.', 'The state legislature charters the New York State Veterinary College, the first state-supported college at Cornell, though veterinary medicine had been taught at Cornell since the university opened. The college opens officially in 1896 in the current location of Uris Hall and later moves to east campus when Shurman Hall is completed in 1957.', 'Margaret Floy Washburn Ph.D. 1894 is the first woman in the United States granted a Ph.D. in psychology.', \"Cornell's Medical College is founded, officially opening in New York City in 1900. Today, in a joint campus with New York-Presbyterian Hospital, Weill Cornell Medical College is among the most esteemed clinical and medical research centers in the country.\", \"Sao-Ke Alfred Sze\\xa01901, Cornell's first Chinese student, graduates. He becomes China’s first ambassador to the U.S. and a founding member of the World Bank.\", 'The first-recorded Spring Day takes place April 15, celebrating the end of winter. Students skip classes and mount variety shows and festivities. Today, Slope Day is a student-favorite tradition held on Libe Slope to celebrate the last day of classes with live music and entertainment.', 'Engineer Willis Carrier 1901 invents the first electrical air conditioning unit and goes on to found the Carrier Corporation, which remains a world leader in heating, ventilation and air conditioning (HVAC) systems.', 'Jessie Redmon Fauset\\xa01905 excels in her studies and is one of the first Black women elected to Phi Beta Kappa. Fauset becomes the literary editor of the magazine Crisis (published by the NAACP) in 1919 and in addition to writing essays, poetry and short stories for Crisis, she publishes four novels and comes to be regarded as the “midwife” of the Harlem Renaissance for guiding writers such as Countee Cullen and Langston Hughes.', \"Cornell's colors were carnelian red and white since its founding, but the university didn't acquire a nickname until Romeyn Berry\\xa01904 sat down to write a song for the Cornell football team. To urge the team on to victory, Berry refers to Cornell simply as the “big red team”. It catches on. Since that time the chant of “Go Big Red” is the common thread at every Cornell sporting event.\", 'The first intercollegiate Greek-letter fraternity for Black men, Alpha Phi Alpha, is founded at Cornell. It builds approximately 900 chapters across the country and has championed civil rights; its illustrious alumni include Martin Luther King, Jr., W.E.B. Du Bois, Duke Ellington and Thurgood Marshall.', 'The Department of Home Economics is created within the College of Agriculture. In 1925, the program becomes the first state-chartered college of Home Economics in the country. The college is renamed the New York State College of Human Ecology in 1969 to reflect its interdisciplinary exploration of the human experience.', \"Marvin Jack (Tuscarora) 1909 becomes Cornell's first Native American student to earn a bachelor's degree. The first true cohort of Indigenous students would arrive at Cornell in the 1920s, in part due to the work of Dr. Erl Bates.\", 'The first fruit trees are planted at the Cornell Orchards and some are still thriving today. Cornell Orchards has more than 22 acres under cultivation, with apples being the main product. Scientists in the Cornell College of Agriculture and Life Sciences have released\\xa0more than 69 apple varieties throughout the college’s history.', 'Florence Kimball DVM 1910, the first woman in the United States to receive the Doctor of Veterinary Medicine (DVM) degree, graduates from Cornell. Seven of the first 11 women to become licensed veterinarians in this country are Cornell graduates.', \"Hu Shih\\xa01914 revolutionizes the Chinese language with a movement to change literary writing from a strict classical style to a modern, vernacular style. Shih is later president of Peking University, China's ambassador to the United States and nominee for a Nobel Prize in literature. In 2021, a North Campus residence hall\\xa0was named in his honor.\", \"Cornell Cooperative Extension is established, following the Smith-Lever Act. Rooted in every county of the state, Cornell Cooperative Extension translates Cornell's world-class research into practical, real-world knowledge that helps New York state residents, businesses and communities to thrive.\", 'On January 5, 1914, the Cornell Daily Sun reports that the Cornell Glee Club had recorded the Alma Mater at the Columbia Phonograph Company in New York City. Records become available for purchase within two or three months.', 'The Cornell Laboratory of Ornithology is established. Today, the laboratory is a world leader in the study, appreciation and conservation of birds with a goal to “advance the understanding of nature and to engage people of all ages in learning about birds and protecting the planet.”', 'Cornell defeats Gettysburg, 13-0, in its first football game on Schoellkopf Field. Cornell finishes the season undefeated, marking its first national championship year.', \"The United States Congress declares war on Imperial Germany. By war's end, Cornell provides a total of 4,598 commissioned officers to the war effort. Five Cornell pilots become aces, three physicians serve as the first American women to hold Army rank after receiving commissions from the French army and 265 Cornell alumni give their lives serving in the armed forces.\", 'William Strunk Ph.D. 1896 writes “The Elements of Style” — later expanded by E.B. White 1921 — considered one of the most influential books written in English.', \"E. B. White\\xa01921, New Yorker essayist, author of “Charlotte's Web” and co-author of the revised version of “The Elements of Style,” graduates with a degree in English.\", 'The Cornell School of Hotel Administration\\xa0(later named the Nolan School of Hotel Administration), the world’s first undergraduate hospitality management degree program, was created at the request of leading hotel magnates and the American Hotel Association. The program launches with 21 students under the direction of a single professor, Howard B. Meek.', \"The League of Women Voters names Martha Van Rensselaer, professor of home economics, one of the 12 greatest women in the United States (alongside the Class of 1877's Anna Botsford Comstock and M. Carey Thomas). Under Van Rensselaer's and Flora Rose’s leadership, the Department of Home Economics becomes the School of Home Economics in 1919, and eventually the New York State College of Home Economics in 1925.\", 'Elbert Cox Ph.D. 1925 becomes the first African American in history to earn a doctorate in mathematics and is later the first African American to be inducted into the American Mathematical Society. Cox goes on to teach at Howard University from 1930 to 1966 and serves as head of the mathematics department from 1954 to 1961.', 'George Papanicolaou (Dr. Pap) at Weill Cornell Medical College first presents a research paper explaining his ideas of using vaginal smears to detect uterine cancer. Now known as the Pap smear, the simple procedure has become the standard in screening for cervical cancer.', \"The Empire State Building, the world's tallest building from 1931 to 1970, opens in midtown Manhattan. The building is designed by Cornell graduate Richmond Harold Shreve\\xa01902, co-founder of the architectural firm Shreve, Lamb & Harmon. Shreve, Lamb & Harmon later designed Olin, Kimball and Thurston halls on the Cornell campus.\", 'Pearl S. Buck, M.A. 1925, wins a Pulitzer Prize for her second novel, “The Good Earth.” In 1938, Buck would go on to win a Nobel Prize in Literature, becoming the first American woman to do so.', 'Clive McCay’s nutrition research led to the development of nutritionally-sound rations during WWII and the creation of Cornell bread, an inexpensive alternative to other great staples.', 'Margaret Bourke-White\\xa01927 was the first American female war photojournalist and the first female photographer for Life magazine.', \"Arthur Laurents ’37, the playwright, screenwriter and director who would go on to write two of Broadway's landmark shows, Gypsy and West Side Story, graduates from Cornell. His film credits include “The Way We Were,” “Anastasia,” with Ingrid Bergman and “The Turning Point,” with Anne Bancroft and Shirley MacLaine.\", \"The attack on Pearl Harbor brings the United States into World War II. After Pearl Harbor, Cornell reacts swiftly to the crisis, enlarging and accelerating its programs. By the war's end in 1945, more than 480 Cornell alumni give their lives while serving in the U.S. armed forces.\", 'The New York State legislature passes the bill to establish the School of Industrial and Labor Relations to improve industrial and labor conditions in the state. The first four-year school of its kind, ILR builds community partnerships and brings thought leadership into practice for workers, unions, organizations and communities to improve the world of work.', 'Cornell’s School of Business and Public Administration begins operation, offering business programs to graduate students. Today, the Samuel Curtis Johnson Graduate School of Management has over 15,000 alumni and works with 65 corporate partners to create better business solutions across the globe.', \"While working at the Naval Ordnance Laboratory, Ernest Sternglass ’44, M.S. ’51, Ph.D. ’53 observes a phenomenon different from Albert Einstein's photoelectric effect. Sternglass’s research, informed by a meeting with Einstein in 1947, leads to the development of a highly sensitive television camera tube that enables millions to watch Neil Armstrong’s first steps on the moon in July 1969.\", 'Vladimir Nabokov and his family arrive in Ithaca, with Nabokov beginning his duties as a professor of Russian literature at Cornell. During his more than 10 years at Cornell, Nabokov becomes famous as the author of “Lolita” and “Pnin” and becomes known on campus as a lecturer not to be missed.', \"In recognition of her husband's nearly 50 years of service to Cornell and its ideals, Marguerite Lilly Noyes presents the Nicholas H. Noyes Collection of Historical Americana‚ including a copy of the Gettysburg Address handwritten by Abraham Lincoln‚ to Cornell University Library. Nicholas Noyes was a member of the Class of 1906.\", 'The first accredited wine appreciation course in American collegiate history is offered to School of Hotel Administration (SHA) juniors and seniors, with guest lectures from seven leading New York and California vintners.', 'Surgeons at the Veterans Administration hospital in Buffalo, New York, test the first practical implantable pacemaker, designed by Wilson Greatbatch ’50. His pacemaker, patented in 1962, is regarded as one of the greatest inventions of the 20th century.', 'Janet Reno ’60 graduates with a degree in chemistry. Reno would go on to be nominated for U.S. Attorney General by President Bill Clinton in 1993, becoming the first woman to serve in the post and the second-longest serving attorney general in U.S. history.', 'Peter Gogolak ’64 kicks a 41-yard field goal soccer-style against Princeton. Gogolak, who went on to kick for the Buffalo Bills and New York Giants, revolutionized place kicking and making soccer-style kicking the norm throughout football.', 'Robert C. Baker and his colleague Joseph Marshall propose a first-ever chicken stick, made of ground, blended and frozen chicken. Baker, a professor of poultry science, also creates over 50 other products made from chicken and eggs, including chicken hot dogs.', \"The Arecibo Observatory opens in Puerto Rico. Designed by Cornell physicist and astronomer William E. Gordon Ph.D. ’53, the observatory's 1,000-foot radio telescope is the world's largest single-aperture telescope for several decades. The telescope closes permanently in November 2020, following the breaks of two cables that support the structure.\", \"The folk trio Peter, Paul and Mary (including Peter Yarrow ’59) releases the single “Puff, the Magic Dragon,” which is based on a poem written in 1959 by then-freshman Lenny Lipton '62. The single reaches number two on the Billboard Hot 100.\", 'First convened in 1963, the Committee on Special Educational Projects (COSEP) officially launches by Dr. James Perkins, the seventh president of Cornell. The first program of its kind at a major American university, increases the number of Black students enrolled from eight to over 250 during Perkins’ presidency.', 'Robert Moog Ph.D. ’65 debuts the electronic analog Moog Synthesizer, one of the first widely used electronic musical instruments. The invention introduces a new landscape of sound to the music world, with organic, rich tones embraced by greats such as the Beatles, Pink Floyd and Stevie Wonder.', 'Anthony Fauci M.D. ’66 graduates with his Doctor of Medicine. Fauci goes on to serve as the director of the National Institute of Allergy and Infectious Diseases and as chief medical advisor to President Joe Biden. President George W. Bush awards Fauci the Presidential Medal of Freedom in 2008 for his contributions to an AIDS relief program, PEPFAR.', 'Playing in its first Frozen Four, the Big Red hockey squad defeats Boston University, 4-1, at the War Memorial Arena in Syracuse, New York to win its first NCAA hockey championship. The team again wins the title in 1970 with a 29-0-0 record‚ the only unbeaten, untied national championship season in NCAA hockey history.', \"At its opening, the Wilson Synchrotron is Cornell's largest single construction and the world's largest particle accelerator, for use in physics, materials science and biology. With expansions over the years, the facility includes a tunnel buried 40 feet beneath Cornell's track complex, creating a giant ring with a half-mile circumference.\", 'CBS News broadcasts an Emmy Award-nominated personal documentary on the North Vietnamese capital by Charles Collingwood ’39 titled “Hanoi: A Report By Charles Collingwood.” The chief foreign correspondent for CBS News, Collingwood is the first American network journalist to visit North Vietnam and his reports earn him an Overseas Press Club Award.', 'Robert W. Holley wins the Nobel Prize in Physiology or Medicine for his work interpreting the genetic code and its function in protein synthesis. Holley was the first to isolate and map the structure of transfer RNA‚ or tRNA‚ a key molecule that carries amino acids to ribosomes to produce proteins.', 'A star of science and the small screen, astronomy and space sciences professor and director of the Laboratory for Planetary Studies, Carl Sagan shares his sense of wonder about nature through the 1980s PBS series “Cosmos; A Personal Voyage” and his Pulitzer Prize-winning book, “The Dragons Research Stations of Eden.” In 2015, the Carl Sagan Institute was founded at Cornell to explore other worlds both inside and outside our solar system.', \"The Cornell Conference on Women takes place over a four-day period during winter intersession. Sessions attract more than 2,000 attendees from Cornell and the Ithaca community. Betty Friedan and Kate Millett return to campus for the conference. Three years later, on March 31, 1972, the Women's Studies Program is founded, one of the earliest programs of its kind in the country.\", 'An aeronautical engineer, test pilot and industrialist, Leroy Randle Grumman\\xa01916 co-founds Grumman Aeronautical Engineering in 1929. On July 20, 1969, the Grumman-made Apollo lunar module carries astronauts Neil Armstrong and Buzz Aldrin to make the first landing on the moon.', \"J. Saunders Redding is named the Ernest I. White Professorship in American Studies, making him the first full African American professor in the College of Arts and Sciences and the first African American to hold an endowed professorship in literary criticism at an Ivy League university. At Redding’s insistence, Humane Letters was added to the professorship's title and remains there to this day.\", 'Plant genetics pioneer Ray Wu invents the first method for sequencing DNA, enabling researchers to more closely understand how genes work. Wu’s invention leads to further development of widely grown rice plants resistant to pests, drought and salt.', 'In the first-ever NCAA lacrosse tournament the Big Red beats Maryland, 12-6, to win its first NCAA championship.', 'Following the Cornell-Columbia rivalry football game in New York City, Cornell and Big Red Band enthusiast Seymour “Sy” Katz ’31 drums up a one-block parade down 50th Street to the Cornell Club. Today, the semi-annual Sy Katz ’31 Parade is a chance for the Big Red Band to shine and for Cornellians to showcase their Big Red pride.', 'Designed by I.M. Pei & Partners, the museum‚ named for its benefactor and graduate of the class of 1922‚ typically welcomes more than 80,000 visitors annually. Holdings include 35,000 works from cultures around the world representing six millennia.', \"Christopher Reeve ’74, a film and stage actor best known for his portrayal of Superman, graduates with a degree in English. Reeve followed in his father's footsteps to attend Cornell and\\xa0following an equestrian accident in 1995 that left him paralyzed, became a tireless advocate for the disabled and for medical research until his death in 2004.\", \"Based solely on audience recordings, future Grateful Dead archivist Dick Latvala declares one show in the band's 1977 tour possibly their best performance ever. That show? The Grateful Dead's concert in Barton Hall, a you-had-to-be-there moment.\", 'Cytogeneticist Barbara McClintock ’23, M.A. ’25, Ph.D. ’27 receives the 1983 Nobel Prize in Physiology and Medicine for her discovery of mobile genetic elements, also known as genetic transposition. She becomes the first woman in history to win an unshared Nobel Prize in Physiology or Medicine. In 2021, Cornell honors her memory with a name for a new North Campus residence hall.', \"The Cornell Abroad program begins, offering a wide array of opportunities for a meaningful international experience as part of a student's education‚ university study, language skills, fieldwork, service learning, internships and research.\", 'Following a stellar football career at Cornell, Derrick Harmon ’84 is a ninth-round draft pick by the San Francisco 49ers in 1984. In the following season he becomes the first Cornellian to win a Super Bowl ring.', 'The Cornell in Washington (CIW) program celebrates its permanent home at 2148 O Street NW. Supporters mark the occasion by transplanting ivy from the Cornell Botanic Gardens on the walls of the building and soaking it with water from Beebe Lake. The Dupont-neighborhood building is renamed the Cornell University Wolpe Center in 2003.', \"Cornell's Asian American Studies program, the first of its kind in the Ivy League, focuses on the transnational, comparative and interdisciplinary dimensions of Asian America. Courses provide a cultural, historical, social and political context for understanding Asian Americans' place within the university and beyond.\", 'Sheryl WuDunn ’81, a history major, and her husband, Nicholas Kristof, share the Pulitzer Prize for International Reporting for their coverage of the Tiananmen Square protests of 1989. WuDunn is the first Asian-American journalist to win the prize.', 'President Frank H.T. Rhodes establishes the Public Service Center at Cornell to coordinate, expand and institutionalize faculty and student community engagement and outreach. The Public Service Center merges with the Office of Engagement Initiatives in creating the David M. Einhorn Center for Community Engagement in summer 2021.', 'Serving as a mission specialist on STS-47 Spacelab-J, a mission flown on the space shuttle Endeavour, Mae Jemison M.D. ’81 becomes the first African American woman to travel in space. Jemison resigns from NASA in 1993 to found the Jemison Group, Inc., which researches, markets and develops science and technology for daily life.', 'Ruther Bader Ginsburg ’54 is sworn in as an associate justice of the United State Supreme Court, becoming the second woman to serve on the nation’s highest court. Ginsburg’s commitment the advancement of the rights of all people, particularly women, helps transform American society. Cornell celebrates her memory in 2020, naming a North Campus Residence Hall in her honor.', \"The beloved television creation of William Nye ’77 debuts in syndication, featuring Nye's unique brand of kinetic and quirky science education. The show airs 100 half-hour episodes over five seasons. Nye remains closely connected to Cornell, returning on several occasions including as Convocation speaker.\", 'To expand and institutionalize the sexuality component of the Women’s Studies program, a minor in Lesbian, Bisexual & Gay (LBG) Studies is established at both the graduate and undergraduate levels‚ around the time when queer theory was taking root in academia. In 2009, LGB Studies changes its name to LGBT Studies.', 'The morning of October 8, Cornellians notice a large pumpkin impaled on the spire of McGraw Tower. The pumpkin, its placement and purpose shrouded in mystery, remains on the tower — 173 feet in the air — for 158 days, causing a buzz throughout the campus and beyond with non-stop coverage reports carried by the Associated Press, CNN and MTV.', 'The program begins to offer courses for credit, charging neither tuition nor fees. The Prison Education Program provides a liberal arts curriculum leading to an Associate of Arts degree for men incarcerated at the Auburn, Cayuga and Five Points correctional facilities, helping them build meaningful lives inside prison and prepare for successful re-entry into civic life.', 'After a 1994 launch, Cornell’s Lake Source Cooling program begins operation, using cold water from the depths of Cayuga Lake to chill water circulated through campus, cooling buildings while using a fraction of the electrical energy. The system — the first of its kind — wins several awards, including the New York Governor’s Award for Pollution Prevention in 2001.', 'Weill Cornell Medical College-Qatar is established in Doha, Qatar, via a partnership with the Qatar Foundation for Education, Science, and Community Development. With its dedication in October 2003, it is the first American medical school overseas.', 'Move-In Day marks the first time that all first-year students will live in one place: the new residence halls on North Campus. The North Campus Residential Expansion, reaching completion in 2022, creates even further enriched living-learning experiences for students.', 'The Mars rover Spirit lands on Mars, followed by Opportunity three weeks later. Astronomy professor Steven Squyres is principal investigator on both missions. The rovers, outfitted with Cornell-designed scientific instruments, find evidence that liquid water existed at some point in Martian history. Initially expected to have 90-days of roving, Opportunity ends its mission in 2019.', 'In what becomes a Thanksgiving weekend tradition, Cornell takes on Boston University in the first-ever sold out college hockey game at the Garden. The “Red Hot Hockey” game between Cornell and Boston University alternates with the Frozen Apple Series played against a slew of opponents, drawing the Lynah Faithful to the city in droves every year.', 'Author Junot Díaz MFA ’95\\xa0receives the 2008 Pulitzer Prize for Fiction for his novel “The Brief Wondrous Life of Oscar Wao.” Díaz is the third Cornell graduate (after Toni Morrison MFA ’55 and Pearl S. Buck MA ’25) to receive the award.', 'The Big Red women’s basketball team completes its best season in its history by winning its first Ivy League championship, earning an invitation to the NCAA basketball tournament. The team finishes with a 20-9 record (11-3 Ivy).', 'With certification by the U.S. Green Building Council, the Human Ecology Building earns a LEED Platinum rating — the highest rating for sustainable structures — making it the first building to achieve the distinction on the Cornell campus. Four more Cornell buildings later earn LEED Platinum ratings, among the 28 total certified green buildings.', 'Kyle Dake ’13 is the inaugural Sports Illustrated Male College Athlete of the Year. The four-time Academic All-American finishes with a collegiate record of 137-4, including winning his final 79 matches. Dake continues his wrestling career, winning back-to-back World Championships and earning a bronze medal in the 2020 Summer Olympics.', 'Cited “for expanding our perceptions of the Romantic tradition and broadening the study of literature,” English Professor Emeritus M.H. Abrams receives the National Humanities Medal from President Barack Obama and the National Endowment for the Humanities.', 'Cornell is a key partner in the launch of Rev: Ithaca Startup Works in downtown Ithaca. A place for regional entrepreneurs to grow their businesses, use workspace and receive mentorship from seasoned professionals, Rev is a partnership among Cornell, Ithaca College and Tompkins Cortland Community College.', \"Research at the Baker Institute for Animal Health in the College of Veterinary Medicine leads to the world's first litter of puppies born by in vitro fertilization, opening the door for conserving endangered canid species, using gene-editing technologies to eradicate heritable diseases in dogs and for study of genetic diseases.\", \"After winning a highly publicized competition among the country's top research universities to build the campus with its partner, the Technion – Israel Institute of Technology, Cornell dedicates the Cornell Tech campus on Roosevelt Island. Seen as a powerful symbol of possibility at its dedication, Cornell Tech offers a graduate and professional education that focuses on research, education and innovation for the digital world.\", 'Following a $150 million gift from H. Fisk Johnson ’79, M.Eng. ’80, M.S. ’82, MBA ’84, Ph.D. ’86, and SC Johnson, and in recognition of the Johnson family’s multigenerational legacy of philanthropy to Cornell, the Board of Trustees approves a name change for the College of Business, renaming it the Cornell SC Johnson College of Business.', 'Cornell’s College of Veterinary Medicine and its satellite clinic in Stamford, Connecticut are now the official providers of veterinary care at the Westminster Kennel Club dog show.', 'The Cornell community rises to the challenges of the COVID-19 pandemic. Cornellians also band together to donate crucial medical supplies\\xa0and continue Cornell’s core education and research missions while maintaining safe health practices and implementing a massive testing effort.', 'The university reveals plans to launch a new school of public policy alongside university-wide departments drawing faculty from multiple colleges or schools in the disciplines of economics, psychology and sociology. A gift endows and names the school the Cornell Jeb E. Brooks School of Public Policy.', 'A transformative gift from a Silicon Valley champion and longtime philanthropist Ann S. Bowers ’59 lays the groundwork for and names the Cornell Ann S. Bowers College of Computing and Information Science, supporting Cornell’s preeminence in these fields and enabling construction of a new building.', 'Launched seven months prior, the Perseverance rover lands on Mars’s surface. Several Cornell researchers are involved with instrument design and development on the rover, from cameras to radar imagers. Swati Mohan ’04, a NASA aerospace engineer and the mission’s guidance, navigation and controls operations lead, calls the play-by-play landing of the rover.', 'With the final projects reaching completion in 2022, Cornell’s North Campus Residential Expansion creates new capacity for housing, dining, recreation, community building and more and provides intentional and consistent support during the most formative years of the student experience. New buildings, named for a diverse group of Cornellians and the Cayuga Nation, include Toni Morrison Hall, Ganędagǫ: Hall, Barbara McClintock Hall, Hu Shih Hall and Ruth Bader Ginsburg Hall.', \"The drilling of the Cornell University Borehole Observatory enables researchers to obtain data that will allow the university to determine whether it can move forward with\\xa0Earth Source Heat, a deep geothermal system that would use the Earth's internal heat to warm the Ithaca campus without the use of fossil fuels. The system could also provide a blueprint for similar renewable energy efforts elsewhere.\"]\n",
      "True\n"
     ]
    }
   ],
   "source": [
    "# your code here\n",
    "year_l= []\n",
    "title_l= []\n",
    "summary_l= []\n",
    "for i in item_content:\n",
    "    year_l.append(i.find(\"div\", {\"class\": \"item-year\"}).text.strip())\n",
    "    title_l.append(i.find(\"div\", {\"class\": \"item-title\"}).text.strip())\n",
    "    summary_l.append(i.find(\"p\").text)\n",
    "\n",
    "print(year_l)\n",
    "print(title_l)\n",
    "print(summary_l)\n",
    "\n",
    "print(len(year_l) == len(title_l))\n",
    "    "
   ]
  },
  {
   "cell_type": "markdown",
   "metadata": {
    "id": "QcYQwrDeZjtW"
   },
   "source": [
    "7. Convert these lists into data frame columns and display the data frame.\n",
    "\n",
    "*Note: you might notice a couple of cells in the first and last row have missing information. This is an issue with the cached version of the webpage. You do not need to fix this.*"
   ]
  },
  {
   "cell_type": "code",
   "execution_count": 14,
   "metadata": {
    "id": "BMauprEw5Po0"
   },
   "outputs": [
    {
     "data": {
      "text/html": [
       "<div>\n",
       "<style scoped>\n",
       "    .dataframe tbody tr th:only-of-type {\n",
       "        vertical-align: middle;\n",
       "    }\n",
       "\n",
       "    .dataframe tbody tr th {\n",
       "        vertical-align: top;\n",
       "    }\n",
       "\n",
       "    .dataframe thead th {\n",
       "        text-align: right;\n",
       "    }\n",
       "</style>\n",
       "<table border=\"1\" class=\"dataframe\">\n",
       "  <thead>\n",
       "    <tr style=\"text-align: right;\">\n",
       "      <th></th>\n",
       "      <th>Year</th>\n",
       "      <th>Title</th>\n",
       "      <th>Summary</th>\n",
       "    </tr>\n",
       "  </thead>\n",
       "  <tbody>\n",
       "    <tr>\n",
       "      <th>0</th>\n",
       "      <td>1862</td>\n",
       "      <td>A mission to serve New York state</td>\n",
       "      <td>The Morrill Land-Grant Act allows the federal ...</td>\n",
       "    </tr>\n",
       "    <tr>\n",
       "      <th>1</th>\n",
       "      <td>1865</td>\n",
       "      <td>Cornell charter signed into law</td>\n",
       "      <td>On April 27, state senators Andrew Dickson Whi...</td>\n",
       "    </tr>\n",
       "    <tr>\n",
       "      <th>2</th>\n",
       "      <td>1868</td>\n",
       "      <td>Cornell chimes ring for the first time</td>\n",
       "      <td>The original set of nine bells first rings out...</td>\n",
       "    </tr>\n",
       "    <tr>\n",
       "      <th>3</th>\n",
       "      <td>1868</td>\n",
       "      <td>Cornell University opens</td>\n",
       "      <td>Initially divided into two parts — the Divisio...</td>\n",
       "    </tr>\n",
       "    <tr>\n",
       "      <th>4</th>\n",
       "      <td>1870</td>\n",
       "      <td>Sibley funds creation of engineering college</td>\n",
       "      <td>Hiram Sibley, one of the 10 incorporators of C...</td>\n",
       "    </tr>\n",
       "    <tr>\n",
       "      <th>...</th>\n",
       "      <td>...</td>\n",
       "      <td>...</td>\n",
       "      <td>...</td>\n",
       "    </tr>\n",
       "    <tr>\n",
       "      <th>103</th>\n",
       "      <td>2020</td>\n",
       "      <td>Cornell forms school of public policy and univ...</td>\n",
       "      <td>The university reveals plans to launch a new s...</td>\n",
       "    </tr>\n",
       "    <tr>\n",
       "      <th>104</th>\n",
       "      <td>2020</td>\n",
       "      <td>Gift establishes new college of computing and ...</td>\n",
       "      <td>A transformative gift from a Silicon Valley ch...</td>\n",
       "    </tr>\n",
       "    <tr>\n",
       "      <th>105</th>\n",
       "      <td>2021</td>\n",
       "      <td>Perseverance Lands on Mars</td>\n",
       "      <td>Launched seven months prior, the Perseverance ...</td>\n",
       "    </tr>\n",
       "    <tr>\n",
       "      <th>106</th>\n",
       "      <td>2022</td>\n",
       "      <td>North campus reshapes campus residential commu...</td>\n",
       "      <td>With the final projects reaching completion in...</td>\n",
       "    </tr>\n",
       "    <tr>\n",
       "      <th>107</th>\n",
       "      <td>2022</td>\n",
       "      <td>Two-mile deep borehole explores potential for ...</td>\n",
       "      <td>The drilling of the Cornell University Borehol...</td>\n",
       "    </tr>\n",
       "  </tbody>\n",
       "</table>\n",
       "<p>108 rows × 3 columns</p>\n",
       "</div>"
      ],
      "text/plain": [
       "     Year                                              Title  \\\n",
       "0    1862                  A mission to serve New York state   \n",
       "1    1865                    Cornell charter signed into law   \n",
       "2    1868             Cornell chimes ring for the first time   \n",
       "3    1868                           Cornell University opens   \n",
       "4    1870       Sibley funds creation of engineering college   \n",
       "..    ...                                                ...   \n",
       "103  2020  Cornell forms school of public policy and univ...   \n",
       "104  2020  Gift establishes new college of computing and ...   \n",
       "105  2021                         Perseverance Lands on Mars   \n",
       "106  2022  North campus reshapes campus residential commu...   \n",
       "107  2022  Two-mile deep borehole explores potential for ...   \n",
       "\n",
       "                                               Summary  \n",
       "0    The Morrill Land-Grant Act allows the federal ...  \n",
       "1    On April 27, state senators Andrew Dickson Whi...  \n",
       "2    The original set of nine bells first rings out...  \n",
       "3    Initially divided into two parts — the Divisio...  \n",
       "4    Hiram Sibley, one of the 10 incorporators of C...  \n",
       "..                                                 ...  \n",
       "103  The university reveals plans to launch a new s...  \n",
       "104  A transformative gift from a Silicon Valley ch...  \n",
       "105  Launched seven months prior, the Perseverance ...  \n",
       "106  With the final projects reaching completion in...  \n",
       "107  The drilling of the Cornell University Borehol...  \n",
       "\n",
       "[108 rows x 3 columns]"
      ]
     },
     "execution_count": 14,
     "metadata": {},
     "output_type": "execute_result"
    }
   ],
   "source": [
    "# your code here\n",
    "\n",
    "df=pd.DataFrame()\n",
    "df['Year'] = year_l\n",
    "df['Title'] = title_l\n",
    "df['Summary'] = summary_l\n",
    "df"
   ]
  },
  {
   "cell_type": "markdown",
   "metadata": {
    "id": "JRwxJzFTJqSE"
   },
   "source": [
    "---"
   ]
  },
  {
   "cell_type": "markdown",
   "metadata": {
    "id": "0WTDJt8R6VEW"
   },
   "source": [
    "## Problem 3\n",
    "\n",
    "Select a page from the web that contains some table element. Extract the table's information and put it into a pandas data frame. Make sure to display the table when you are finished.\n",
    "\n",
    "As a suggestion, you may use the [Wikipedia page for Cornell University](https://en.wikipedia.org/wiki/Cornell_University). The table on the right side of the page is a good option for scraping and displaying.\n",
    "\n",
    "Remember to use the following steps, as you did above:\n",
    "1. Use the requests library to `get` the website's HTML. Check the status code.\n",
    "2. Convert what you retrieved with the `requests` library to a text string.\n",
    "3. Parse the text as HTML with BeautifulSoup.\n",
    "4. Manually search the HTML (with ^F) for the text strings you want to collect. Identify the tags and classes associated with that text.\n",
    "5. Use combinations of `find` and `find_all` to retrieve the text you are interested in.\n",
    "6. Convert the text to a data frame. Display this.\n",
    "\n"
   ]
  },
  {
   "cell_type": "code",
   "execution_count": 15,
   "metadata": {
    "id": "3Wu8wB-Kz6IG"
   },
   "outputs": [],
   "source": [
    "wiki_url = \"https://koenecke.infosci.cornell.edu/files/info2950/Cornell%20University%20-%20Wikipedia.html\" # optional cached version"
   ]
  },
  {
   "cell_type": "code",
   "execution_count": 16,
   "metadata": {
    "colab": {
     "base_uri": "https://localhost:8080/",
     "height": 833
    },
    "id": "txk4mCPYgwP0",
    "outputId": "cad62e74-7bc4-4037-804e-929c972cf120"
   },
   "outputs": [],
   "source": [
    "# your code here, add as many cells as you need\n",
    "wiki_result = requests.get(wiki_url)\n",
    "if wiki_result.status_code != 200:\n",
    "  print(\"something went wrong:\", wiki_result.status_code, wiki_result.reason)"
   ]
  },
  {
   "cell_type": "code",
   "execution_count": 23,
   "metadata": {
    "id": "OzFyt2vv4O0E"
   },
   "outputs": [],
   "source": [
    "# your code here\n",
    "with open(\"wiki.html\", \"w\") as writer:\n",
    "  writer.write(wiki_result.text)\n",
    "\n",
    "with open(\"wiki.html\", \"r\") as reader:\n",
    "  html_source = reader.read()"
   ]
  },
  {
   "cell_type": "code",
   "execution_count": 24,
   "metadata": {
    "id": "Fuz27p9Q31IJ"
   },
   "outputs": [],
   "source": [
    "# your code here\n",
    "page = BeautifulSoup(html_source, \"html.parser\")"
   ]
  },
  {
   "cell_type": "code",
   "execution_count": 33,
   "metadata": {
    "colab": {
     "base_uri": "https://localhost:8080/"
    },
    "id": "XhiSmL9h4LIS",
    "outputId": "4c12f113-dacd-4706-8302-323750bfc09d"
   },
   "outputs": [
    {
     "name": "stdout",
     "output_type": "stream",
     "text": [
      "Type\n",
      "Private[1] land-grant research university\n"
     ]
    }
   ],
   "source": [
    "# your code here\n",
    "col_1 = page.find_all(\"th\", {\"class\":\"infobox-label\"})\n",
    "# print(col_1)\n",
    "print(col_1[0].text)\n",
    "\n",
    "col_2 = page.find_all(\"td\", {\"class\":\"infobox-data\"})\n",
    "# print(col_2)\n",
    "print(col_2[0].text)"
   ]
  },
  {
   "cell_type": "code",
   "execution_count": 43,
   "metadata": {
    "id": "a0J29HLt5AIs"
   },
   "outputs": [
    {
     "ename": "AttributeError",
     "evalue": "'NoneType' object has no attribute 'text'",
     "output_type": "error",
     "traceback": [
      "\u001b[0;31m---------------------------------------------------------------------------\u001b[0m",
      "\u001b[0;31mAttributeError\u001b[0m                            Traceback (most recent call last)",
      "Cell \u001b[0;32mIn[43], line 4\u001b[0m\n\u001b[1;32m      2\u001b[0m column_1\u001b[38;5;241m=\u001b[39m []\n\u001b[1;32m      3\u001b[0m \u001b[38;5;28;01mfor\u001b[39;00m i \u001b[38;5;129;01min\u001b[39;00m col_1:\n\u001b[0;32m----> 4\u001b[0m     column_1\u001b[38;5;241m.\u001b[39mappend(\u001b[43mi\u001b[49m\u001b[38;5;241;43m.\u001b[39;49m\u001b[43mfind\u001b[49m\u001b[43m(\u001b[49m\u001b[38;5;124;43m\"\u001b[39;49m\u001b[38;5;124;43mtr\u001b[39;49m\u001b[38;5;124;43m\"\u001b[39;49m\u001b[43m,\u001b[49m\u001b[43m \u001b[49m\u001b[43m{\u001b[49m\u001b[38;5;124;43m\"\u001b[39;49m\u001b[38;5;124;43mclass\u001b[39;49m\u001b[38;5;124;43m\"\u001b[39;49m\u001b[43m:\u001b[49m\u001b[43m \u001b[49m\u001b[38;5;124;43m\"\u001b[39;49m\u001b[38;5;124;43minfobox-label\u001b[39;49m\u001b[38;5;124;43m\"\u001b[39;49m\u001b[43m}\u001b[49m\u001b[43m)\u001b[49m\u001b[38;5;241;43m.\u001b[39;49m\u001b[43mtext\u001b[49m)\n\u001b[1;32m      6\u001b[0m \u001b[38;5;28mprint\u001b[39m(column_1)\n",
      "\u001b[0;31mAttributeError\u001b[0m: 'NoneType' object has no attribute 'text'"
     ]
    }
   ],
   "source": [
    "# your code here\n",
    "column_1= []\n",
    "for i in col_1:\n",
    "    column_1.append(i.find(\"tr\", {\"class\": \"infobox-label\"}).text)\n",
    "\n",
    "print(column_1)\n",
    " \n",
    "column_2= []\n",
    "for i in col_2:\n",
    "    column_2.append(i.find(\"td\", {\"class\":\"infobox-data\"}).text.strip())\n",
    "\n",
    "print(column_2)\n",
    "  "
   ]
  },
  {
   "cell_type": "markdown",
   "metadata": {
    "id": "1empeX0fj7XQ"
   },
   "source": [
    "## Submission\n",
    "**Make sure to complete and save this notebook before next Friday's section.** We will practice pushing and pulling code from GitHub and we will ask you to push a completed version of this notebook to that repository."
   ]
  }
 ],
 "metadata": {
  "colab": {
   "provenance": []
  },
  "kernelspec": {
   "display_name": "Python 3 (ipykernel)",
   "language": "python",
   "name": "python3"
  },
  "language_info": {
   "codemirror_mode": {
    "name": "ipython",
    "version": 3
   },
   "file_extension": ".py",
   "mimetype": "text/x-python",
   "name": "python",
   "nbconvert_exporter": "python",
   "pygments_lexer": "ipython3",
   "version": "3.8.17"
  }
 },
 "nbformat": 4,
 "nbformat_minor": 1
}
